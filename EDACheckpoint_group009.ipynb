{
  "nbformat": 4,
  "nbformat_minor": 0,
  "metadata": {
    "kernelspec": {
      "name": "python375jvsc74a57bd08a672ad511f4b67790062db6bcfee36d399185a415256d068fdbf01b7666b118",
      "display_name": "Python 3.7.5 64-bit"
    },
    "language_info": {
      "codemirror_mode": {
        "name": "ipython",
        "version": 3
      },
      "file_extension": ".py",
      "mimetype": "text/x-python",
      "name": "python",
      "nbconvert_exporter": "python",
      "pygments_lexer": "ipython3",
      "version": "3.7.5"
    },
    "metadata": {
      "interpreter": {
        "hash": "8a672ad511f4b67790062db6bcfee36d399185a415256d068fdbf01b7666b118"
      }
    },
    "colab": {
      "name": "Copy of EDACheckpoint_group009.ipynb",
      "provenance": [],
      "collapsed_sections": []
    }
  },
  "cells": [
    {
      "cell_type": "markdown",
      "metadata": {
        "id": "3jFlHTO2WkJb"
      },
      "source": [
        "# COGS 108 - EDA Checkpoint\n",
        "\n"
      ]
    },
    {
      "cell_type": "markdown",
      "metadata": {
        "id": "ez1FEjbzWkJl"
      },
      "source": [
        "# Names\n",
        "\n",
        "- Andrew Hernandez\n",
        "- Austin Nguyen\n",
        "- Christian Kim\n",
        "- Kevin De Silva Jayasinghe"
      ]
    },
    {
      "cell_type": "markdown",
      "metadata": {
        "id": "OaaYxjQIWkJl"
      },
      "source": [
        "<a id='research_question'></a>\n",
        "# Research Question"
      ]
    },
    {
      "cell_type": "markdown",
      "metadata": {
        "id": "FTgYOEbtWkJm"
      },
      "source": [
        "*Does an increase in tweets with the hashtag description '#bitcoin' correlate with an increase in bitcoin price? What time frame relationship holds the strongest correlation?*\n",
        "- Does the number of tweets about bitcoin in one week correlate with the change in price of bitcoin the next week?\n",
        "- Is there a relationship between the number of tweets on a given day, and the change in price of bitcoin the day after?"
      ]
    },
    {
      "cell_type": "markdown",
      "metadata": {
        "id": "XUZ6qvPLWkJm"
      },
      "source": [
        "# Setup"
      ]
    },
    {
      "cell_type": "code",
      "metadata": {
        "id": "keCjsHySWkJm",
        "colab": {
          "base_uri": "https://localhost:8080/"
        },
        "outputId": "1eae5da4-053e-4a75-977b-5fafc60af609"
      },
      "source": [
        "import pandas as pd\n",
        "import numpy as np\n",
        "import requests \n",
        "from bs4 import BeautifulSoup\n",
        "import re\n",
        "import patsy\n",
        "import statsmodels.api as sm\n",
        "import matplotlib as mpl\n",
        "import matplotlib.pyplot as plt\n",
        "import matplotlib.style as style\n",
        "import seaborn as sns"
      ],
      "execution_count": 1,
      "outputs": [
        {
          "output_type": "stream",
          "text": [
            "/usr/local/lib/python3.7/dist-packages/statsmodels/tools/_testing.py:19: FutureWarning: pandas.util.testing is deprecated. Use the functions in the public API at pandas.testing instead.\n",
            "  import pandas.util.testing as tm\n"
          ],
          "name": "stderr"
        }
      ]
    },
    {
      "cell_type": "markdown",
      "metadata": {
        "id": "AQEuR3VjWkJn"
      },
      "source": [
        "# Data Cleaning"
      ]
    },
    {
      "cell_type": "markdown",
      "metadata": {
        "id": "jRFGcUH8WkJn"
      },
      "source": [
        "Describe your data cleaning steps here."
      ]
    },
    {
      "cell_type": "code",
      "metadata": {
        "id": "j-7pLz8pWkJn",
        "colab": {
          "base_uri": "https://localhost:8080/",
          "height": 637
        },
        "outputId": "048a1b7d-d28c-4178-fc83-0fb3d9ee8ddd"
      },
      "source": [
        "# Get daily bitcoin price from 01/01/2019 - 12/31/2019\n",
        "btc_2019_daily = pd.read_csv('btc_2019.csv')\n",
        "\n",
        "# Get daily bitcoin price from 01/01/2020 - 12/31/2020\n",
        "btc_2020_daily = pd.read_csv('btc_2020.csv')\n",
        "\n",
        "# Concatenate both years' data together into one dataframe\n",
        "btc_2019_2020_daily = pd.concat([btc_2020_daily, btc_2019_daily])\n",
        "\n",
        "# Remove commas of the open, high, low, and close to cast into int\n",
        "btc_2019_2020_daily = btc_2019_2020_daily.replace(',', '', regex=True)\n",
        "\n",
        "# Cast the open, high, low, and close into ints so we can perform calculations on these values\n",
        "btc_2019_2020_daily = btc_2019_2020_daily.astype({'Open': 'int32', 'High': 'int32', 'Low': 'int32', 'Close': 'int32'})\n",
        "\n",
        "# Create a new column called PriceChange which will be the difference between the close and open price.\n",
        "# We will use this to tell how much the price changed (will be used in measuring the correlation)\n",
        "btc_2019_2020_daily = btc_2019_2020_daily.assign(PriceChange = (btc_2019_2020_daily['Close'] - btc_2019_2020_daily['Open']))\n",
        "\n",
        "# Create a new column which converts the Date into DateTime so it is easier to work with and graph\n",
        "btc_2019_2020_daily['DateTime'] = pd.to_datetime(btc_2019_2020_daily['Date'])\n",
        "\n",
        "# Create a new column which converts the Date into DateTime and subtract 6 days so we can group the daily prices into weekly prices\n",
        "# We will use this to group the data into weeks for the second part of the research question\n",
        "btc_2019_2020_daily['DateTimeGroup'] = pd.to_datetime(btc_2019_2020_daily['Date']) - pd.to_timedelta(6, unit='d')\n",
        "\n",
        "# Create two dataframes where the first gets the opening price of the week and the second gets the closing price of the week.\n",
        "# The keys will be the same so we can merge them to create a single table\n",
        "btc_2019_2020_weekly_open = btc_2019_2020_daily.groupby(pd.Grouper(key='DateTimeGroup', freq='W-TUE'))[['Open']].first().reset_index().sort_values('DateTimeGroup')\n",
        "btc_2019_2020_weekly_close = btc_2019_2020_daily.groupby(pd.Grouper(key='DateTimeGroup', freq='W-TUE'))[['Close']].last().reset_index().sort_values('DateTimeGroup')\n",
        "\n",
        "# Merge the two previous btc_2019_2020_weekly_open and btc_2019_2020_weekly_close tables.\n",
        "# This weekly form of the dataset has the key of the first day of the week (where we know the end date is the day before the next key)\n",
        "btc_2019_2020_weekly = pd.merge(btc_2019_2020_weekly_open, btc_2019_2020_weekly_close, on=['DateTimeGroup'])\n",
        "btc_2019_2020_weekly = btc_2019_2020_weekly.assign(PriceChange = (btc_2019_2020_weekly['Close'] - btc_2019_2020_weekly['Open']))\n",
        "\n",
        "print(btc_2019_2020_weekly)\n",
        "btc_2019_2020_daily\n",
        "# The datasets were split up by year so we had to concatenate\n",
        "# The data was already mostly clean so we only had to typecast the strings into integers and remove commas\n",
        "# We then added a column which contains PriceChange which is what we will use to determine\n",
        "# if the increase in tweets with the hashtag description '#bitcoin' correlates with an increase in bitcoin price\n",
        "# We also added a column for datetime to make it easy to work with and to create a dataframe where we group it by weekly prices\n"
      ],
      "execution_count": 2,
      "outputs": [
        {
          "output_type": "stream",
          "text": [
            "    DateTimeGroup   Open  Close  PriceChange\n",
            "0      2019-01-01   3722   4040          318\n",
            "1      2019-01-08   4041   3693         -348\n",
            "2      2019-01-15   3693   3537         -156\n",
            "3      2019-01-22   3537   3442          -95\n",
            "4      2019-01-29   3442   3445            3\n",
            "..            ...    ...    ...          ...\n",
            "100    2020-12-01  19380  19087         -293\n",
            "101    2020-12-08  19087  19201          114\n",
            "102    2020-12-15  19199  23146         3947\n",
            "103    2020-12-22  23138  26634         3496\n",
            "104    2020-12-29  26606  28966         2360\n",
            "\n",
            "[105 rows x 4 columns]\n"
          ],
          "name": "stdout"
        },
        {
          "output_type": "execute_result",
          "data": {
            "text/html": [
              "<div>\n",
              "<style scoped>\n",
              "    .dataframe tbody tr th:only-of-type {\n",
              "        vertical-align: middle;\n",
              "    }\n",
              "\n",
              "    .dataframe tbody tr th {\n",
              "        vertical-align: top;\n",
              "    }\n",
              "\n",
              "    .dataframe thead th {\n",
              "        text-align: right;\n",
              "    }\n",
              "</style>\n",
              "<table border=\"1\" class=\"dataframe\">\n",
              "  <thead>\n",
              "    <tr style=\"text-align: right;\">\n",
              "      <th></th>\n",
              "      <th>Date</th>\n",
              "      <th>Open</th>\n",
              "      <th>High</th>\n",
              "      <th>Low</th>\n",
              "      <th>Close</th>\n",
              "      <th>PriceChange</th>\n",
              "      <th>DateTime</th>\n",
              "      <th>DateTimeGroup</th>\n",
              "    </tr>\n",
              "  </thead>\n",
              "  <tbody>\n",
              "    <tr>\n",
              "      <th>0</th>\n",
              "      <td>12/31/2020</td>\n",
              "      <td>28898</td>\n",
              "      <td>29298</td>\n",
              "      <td>27989</td>\n",
              "      <td>28966</td>\n",
              "      <td>68</td>\n",
              "      <td>2020-12-31</td>\n",
              "      <td>2020-12-25</td>\n",
              "    </tr>\n",
              "    <tr>\n",
              "      <th>1</th>\n",
              "      <td>12/30/2020</td>\n",
              "      <td>26870</td>\n",
              "      <td>28980</td>\n",
              "      <td>26870</td>\n",
              "      <td>28896</td>\n",
              "      <td>2026</td>\n",
              "      <td>2020-12-30</td>\n",
              "      <td>2020-12-24</td>\n",
              "    </tr>\n",
              "    <tr>\n",
              "      <th>2</th>\n",
              "      <td>12/29/2020</td>\n",
              "      <td>26606</td>\n",
              "      <td>27164</td>\n",
              "      <td>25926</td>\n",
              "      <td>26870</td>\n",
              "      <td>264</td>\n",
              "      <td>2020-12-29</td>\n",
              "      <td>2020-12-23</td>\n",
              "    </tr>\n",
              "    <tr>\n",
              "      <th>3</th>\n",
              "      <td>12/28/2020</td>\n",
              "      <td>26303</td>\n",
              "      <td>27404</td>\n",
              "      <td>26136</td>\n",
              "      <td>26634</td>\n",
              "      <td>331</td>\n",
              "      <td>2020-12-28</td>\n",
              "      <td>2020-12-22</td>\n",
              "    </tr>\n",
              "    <tr>\n",
              "      <th>4</th>\n",
              "      <td>12/27/2020</td>\n",
              "      <td>26666</td>\n",
              "      <td>28326</td>\n",
              "      <td>25824</td>\n",
              "      <td>26303</td>\n",
              "      <td>-363</td>\n",
              "      <td>2020-12-27</td>\n",
              "      <td>2020-12-21</td>\n",
              "    </tr>\n",
              "    <tr>\n",
              "      <th>...</th>\n",
              "      <td>...</td>\n",
              "      <td>...</td>\n",
              "      <td>...</td>\n",
              "      <td>...</td>\n",
              "      <td>...</td>\n",
              "      <td>...</td>\n",
              "      <td>...</td>\n",
              "      <td>...</td>\n",
              "    </tr>\n",
              "    <tr>\n",
              "      <th>360</th>\n",
              "      <td>01/05/2019</td>\n",
              "      <td>3878</td>\n",
              "      <td>3912</td>\n",
              "      <td>3859</td>\n",
              "      <td>3880</td>\n",
              "      <td>2</td>\n",
              "      <td>2019-01-05</td>\n",
              "      <td>2018-12-30</td>\n",
              "    </tr>\n",
              "    <tr>\n",
              "      <th>361</th>\n",
              "      <td>01/04/2019</td>\n",
              "      <td>3840</td>\n",
              "      <td>3895</td>\n",
              "      <td>3774</td>\n",
              "      <td>3878</td>\n",
              "      <td>38</td>\n",
              "      <td>2019-01-04</td>\n",
              "      <td>2018-12-29</td>\n",
              "    </tr>\n",
              "    <tr>\n",
              "      <th>362</th>\n",
              "      <td>01/03/2019</td>\n",
              "      <td>3937</td>\n",
              "      <td>3964</td>\n",
              "      <td>3813</td>\n",
              "      <td>3841</td>\n",
              "      <td>-96</td>\n",
              "      <td>2019-01-03</td>\n",
              "      <td>2018-12-28</td>\n",
              "    </tr>\n",
              "    <tr>\n",
              "      <th>363</th>\n",
              "      <td>01/02/2019</td>\n",
              "      <td>3767</td>\n",
              "      <td>3943</td>\n",
              "      <td>3757</td>\n",
              "      <td>3931</td>\n",
              "      <td>164</td>\n",
              "      <td>2019-01-02</td>\n",
              "      <td>2018-12-27</td>\n",
              "    </tr>\n",
              "    <tr>\n",
              "      <th>364</th>\n",
              "      <td>01/01/2019</td>\n",
              "      <td>3722</td>\n",
              "      <td>3788</td>\n",
              "      <td>3697</td>\n",
              "      <td>3769</td>\n",
              "      <td>47</td>\n",
              "      <td>2019-01-01</td>\n",
              "      <td>2018-12-26</td>\n",
              "    </tr>\n",
              "  </tbody>\n",
              "</table>\n",
              "<p>731 rows × 8 columns</p>\n",
              "</div>"
            ],
            "text/plain": [
              "           Date   Open   High  ...  PriceChange   DateTime  DateTimeGroup\n",
              "0    12/31/2020  28898  29298  ...           68 2020-12-31     2020-12-25\n",
              "1    12/30/2020  26870  28980  ...         2026 2020-12-30     2020-12-24\n",
              "2    12/29/2020  26606  27164  ...          264 2020-12-29     2020-12-23\n",
              "3    12/28/2020  26303  27404  ...          331 2020-12-28     2020-12-22\n",
              "4    12/27/2020  26666  28326  ...         -363 2020-12-27     2020-12-21\n",
              "..          ...    ...    ...  ...          ...        ...            ...\n",
              "360  01/05/2019   3878   3912  ...            2 2019-01-05     2018-12-30\n",
              "361  01/04/2019   3840   3895  ...           38 2019-01-04     2018-12-29\n",
              "362  01/03/2019   3937   3964  ...          -96 2019-01-03     2018-12-28\n",
              "363  01/02/2019   3767   3943  ...          164 2019-01-02     2018-12-27\n",
              "364  01/01/2019   3722   3788  ...           47 2019-01-01     2018-12-26\n",
              "\n",
              "[731 rows x 8 columns]"
            ]
          },
          "metadata": {
            "tags": []
          },
          "execution_count": 2
        }
      ]
    },
    {
      "cell_type": "code",
      "metadata": {
        "id": "LFzPuyjBWkJo",
        "colab": {
          "base_uri": "https://localhost:8080/",
          "height": 402
        },
        "outputId": "061f1c70-73ed-406d-9191-acd8f4aee36e"
      },
      "source": [
        "# We found this web scraping script at https://stackoverflow.com/questions/47730259/installing-urllib-in-python3-6 \n",
        "# and made some minor modifications in order to fit to our needs in terms of retrieving the amount of tweets on a daily basis.\n",
        "# We have to further clean the data by extracting all days between 01/01/2019 - 12/31/2020 and then \n",
        "# grouping the data into a weekly format (sum amount of tweets for all days in a given week) \n",
        "# in order answer the second part of our question\n",
        "\n",
        "# Function to clean the string\n",
        "def parse_strlist(sl):\n",
        "    # Remove the uncessary commans and brackets\n",
        "    clean = re.sub(\"[\\[\\],\\s]\",\"\",sl)\n",
        "    # Split the remaining text by \" to a list where a date is followed by the number of tweets\n",
        "    splitted = re.split(\"[\\'\\\"]\",clean)\n",
        "    # Filter out empty segments of the array since the \" occurs at the beginning leading to an empty string in the list\n",
        "    values_only = [s for s in splitted if s != '']\n",
        "    return values_only\n",
        "\n",
        "# Make a request to the website with the dataset and parse its html\n",
        "url = 'https://bitinfocharts.com/comparison/tweets-btc.html#3y'\n",
        "response = requests.get(url)\n",
        "soup = BeautifulSoup(response.text, 'html.parser')\n",
        "\n",
        "# Since the data is stored in the script tags we will search in there\n",
        "scripts = soup.find_all('script', text=True)\n",
        "for script in scripts:\n",
        "    # The script tag we are looking for contains this content inside so we will parse it if we find this string inside\n",
        "    if 'd = new Dygraph(document.getElementById(\"container\")' in str(script):\n",
        "        # Since there are various things inside the script tag, we will search for the array holding the date specifically\n",
        "        StrList = str(script)\n",
        "        StrList = '[[' + StrList.split('[[')[-1]\n",
        "        StrList = StrList.split(']]')[0] +']]'\n",
        "        # We will replace the js date parser surrounding the date we want\n",
        "        StrList = StrList.replace(\"new Date(\", '').replace(')','')\n",
        "        # Parse the string into an list so we can create the dataframe\n",
        "        dataList = parse_strlist(StrList)\n",
        "\n",
        "        # Make a dataframe from the parsed data\n",
        "        date = []\n",
        "        tweet = []\n",
        "        for each in dataList:\n",
        "            if (dataList.index(each) % 2) == 0:\n",
        "                date.append(each)\n",
        "            else:\n",
        "                tweet.append(each)\n",
        "        tweets_daily = pd.DataFrame(list(zip(date, tweet)), columns=[\"Date\", \"Tweets\"])\n",
        "\n",
        "# This dataframe has one null value so we will need to remove it\n",
        "tweets_daily = tweets_daily[tweets_daily[\"Tweets\"] != \"null\"]\n",
        "\n",
        "# Cast the tweet count into ints so we can perform calculations on these values\n",
        "tweets_daily = tweets_daily.astype({\"Tweets\": \"int64\"})\n",
        "\n",
        "tweets_daily"
      ],
      "execution_count": 3,
      "outputs": [
        {
          "output_type": "execute_result",
          "data": {
            "text/html": [
              "<div>\n",
              "<style scoped>\n",
              "    .dataframe tbody tr th:only-of-type {\n",
              "        vertical-align: middle;\n",
              "    }\n",
              "\n",
              "    .dataframe tbody tr th {\n",
              "        vertical-align: top;\n",
              "    }\n",
              "\n",
              "    .dataframe thead th {\n",
              "        text-align: right;\n",
              "    }\n",
              "</style>\n",
              "<table border=\"1\" class=\"dataframe\">\n",
              "  <thead>\n",
              "    <tr style=\"text-align: right;\">\n",
              "      <th></th>\n",
              "      <th>Date</th>\n",
              "      <th>Tweets</th>\n",
              "    </tr>\n",
              "  </thead>\n",
              "  <tbody>\n",
              "    <tr>\n",
              "      <th>0</th>\n",
              "      <td>2014/04/09</td>\n",
              "      <td>8193</td>\n",
              "    </tr>\n",
              "    <tr>\n",
              "      <th>1</th>\n",
              "      <td>2014/04/10</td>\n",
              "      <td>15039</td>\n",
              "    </tr>\n",
              "    <tr>\n",
              "      <th>2</th>\n",
              "      <td>2014/04/11</td>\n",
              "      <td>14907</td>\n",
              "    </tr>\n",
              "    <tr>\n",
              "      <th>3</th>\n",
              "      <td>2014/04/12</td>\n",
              "      <td>7582</td>\n",
              "    </tr>\n",
              "    <tr>\n",
              "      <th>4</th>\n",
              "      <td>2014/04/13</td>\n",
              "      <td>10674</td>\n",
              "    </tr>\n",
              "    <tr>\n",
              "      <th>...</th>\n",
              "      <td>...</td>\n",
              "      <td>...</td>\n",
              "    </tr>\n",
              "    <tr>\n",
              "      <th>2596</th>\n",
              "      <td>2021/05/18</td>\n",
              "      <td>120021</td>\n",
              "    </tr>\n",
              "    <tr>\n",
              "      <th>2597</th>\n",
              "      <td>2021/05/19</td>\n",
              "      <td>363566</td>\n",
              "    </tr>\n",
              "    <tr>\n",
              "      <th>2598</th>\n",
              "      <td>2021/05/20</td>\n",
              "      <td>173415</td>\n",
              "    </tr>\n",
              "    <tr>\n",
              "      <th>2599</th>\n",
              "      <td>2021/05/21</td>\n",
              "      <td>185009</td>\n",
              "    </tr>\n",
              "    <tr>\n",
              "      <th>2600</th>\n",
              "      <td>2021/05/22</td>\n",
              "      <td>29984</td>\n",
              "    </tr>\n",
              "  </tbody>\n",
              "</table>\n",
              "<p>2545 rows × 2 columns</p>\n",
              "</div>"
            ],
            "text/plain": [
              "            Date  Tweets\n",
              "0     2014/04/09    8193\n",
              "1     2014/04/10   15039\n",
              "2     2014/04/11   14907\n",
              "3     2014/04/12    7582\n",
              "4     2014/04/13   10674\n",
              "...          ...     ...\n",
              "2596  2021/05/18  120021\n",
              "2597  2021/05/19  363566\n",
              "2598  2021/05/20  173415\n",
              "2599  2021/05/21  185009\n",
              "2600  2021/05/22   29984\n",
              "\n",
              "[2545 rows x 2 columns]"
            ]
          },
          "metadata": {
            "tags": []
          },
          "execution_count": 3
        }
      ]
    },
    {
      "cell_type": "code",
      "metadata": {
        "id": "AI15mXniWkJp",
        "colab": {
          "base_uri": "https://localhost:8080/",
          "height": 858
        },
        "outputId": "5e3ffa35-c15a-4722-d1a1-d9328ccd88b7"
      },
      "source": [
        "# Filter our tweet dataframe so that we only include the tweet counts from the years 2019 and 2020\n",
        "tweets_2019_2020_daily = tweets_daily[(tweets_daily.Date.str.contains(\"2019\", na=False)) | (tweets_daily.Date.str.contains(\"2020\", na=False))]\n",
        "\n",
        "# Create a new column which converts the Date into DateTime so it is easier to work with and graph\n",
        "tweets_2019_2020_daily['DateTime'] = pd.to_datetime(tweets_2019_2020_daily['Date'])\n",
        "\n",
        "# Create a new column which converts the Date into DateTime and subtract 6 days so we can group the daily tweet count into tweet count prices\n",
        "# We will use this to group the data into weeks for the second part of the research question\n",
        "tweets_2019_2020_daily['DateTimeGroup'] = pd.to_datetime(tweets_2019_2020_daily['Date']) - pd.to_timedelta(6, unit='d')\n",
        "\n",
        "# Group the number of tweets by week\n",
        "tweets_2019_2020_weekly = tweets_2019_2020_daily.groupby(pd.Grouper(key='DateTimeGroup', freq='W-TUE'))[['Tweets']].sum().reset_index().sort_values('DateTimeGroup')\n",
        "\n",
        "print(tweets_2019_2020_daily)\n",
        "tweets_2019_2020_weekly"
      ],
      "execution_count": 4,
      "outputs": [
        {
          "output_type": "stream",
          "text": [
            "            Date  Tweets   DateTime DateTimeGroup\n",
            "1728  2019/01/01   17069 2019-01-01    2018-12-26\n",
            "1729  2019/01/02   18830 2019-01-02    2018-12-27\n",
            "1730  2019/01/03   26754 2019-01-03    2018-12-28\n",
            "1731  2019/01/04   21139 2019-01-04    2018-12-29\n",
            "1732  2019/01/05   20096 2019-01-05    2018-12-30\n",
            "...          ...     ...        ...           ...\n",
            "2454  2020/12/27   88788 2020-12-27    2020-12-21\n",
            "2455  2020/12/28   59779 2020-12-28    2020-12-22\n",
            "2456  2020/12/29   56236 2020-12-29    2020-12-23\n",
            "2457  2020/12/30   80886 2020-12-30    2020-12-24\n",
            "2458  2020/12/31   68822 2020-12-31    2020-12-25\n",
            "\n",
            "[730 rows x 4 columns]\n"
          ],
          "name": "stdout"
        },
        {
          "output_type": "stream",
          "text": [
            "/usr/local/lib/python3.7/dist-packages/ipykernel_launcher.py:5: SettingWithCopyWarning: \n",
            "A value is trying to be set on a copy of a slice from a DataFrame.\n",
            "Try using .loc[row_indexer,col_indexer] = value instead\n",
            "\n",
            "See the caveats in the documentation: https://pandas.pydata.org/pandas-docs/stable/user_guide/indexing.html#returning-a-view-versus-a-copy\n",
            "  \"\"\"\n",
            "/usr/local/lib/python3.7/dist-packages/ipykernel_launcher.py:9: SettingWithCopyWarning: \n",
            "A value is trying to be set on a copy of a slice from a DataFrame.\n",
            "Try using .loc[row_indexer,col_indexer] = value instead\n",
            "\n",
            "See the caveats in the documentation: https://pandas.pydata.org/pandas-docs/stable/user_guide/indexing.html#returning-a-view-versus-a-copy\n",
            "  if __name__ == '__main__':\n"
          ],
          "name": "stderr"
        },
        {
          "output_type": "execute_result",
          "data": {
            "text/html": [
              "<div>\n",
              "<style scoped>\n",
              "    .dataframe tbody tr th:only-of-type {\n",
              "        vertical-align: middle;\n",
              "    }\n",
              "\n",
              "    .dataframe tbody tr th {\n",
              "        vertical-align: top;\n",
              "    }\n",
              "\n",
              "    .dataframe thead th {\n",
              "        text-align: right;\n",
              "    }\n",
              "</style>\n",
              "<table border=\"1\" class=\"dataframe\">\n",
              "  <thead>\n",
              "    <tr style=\"text-align: right;\">\n",
              "      <th></th>\n",
              "      <th>DateTimeGroup</th>\n",
              "      <th>Tweets</th>\n",
              "    </tr>\n",
              "  </thead>\n",
              "  <tbody>\n",
              "    <tr>\n",
              "      <th>0</th>\n",
              "      <td>2019-01-01</td>\n",
              "      <td>143247</td>\n",
              "    </tr>\n",
              "    <tr>\n",
              "      <th>1</th>\n",
              "      <td>2019-01-08</td>\n",
              "      <td>132086</td>\n",
              "    </tr>\n",
              "    <tr>\n",
              "      <th>2</th>\n",
              "      <td>2019-01-15</td>\n",
              "      <td>130601</td>\n",
              "    </tr>\n",
              "    <tr>\n",
              "      <th>3</th>\n",
              "      <td>2019-01-22</td>\n",
              "      <td>125986</td>\n",
              "    </tr>\n",
              "    <tr>\n",
              "      <th>4</th>\n",
              "      <td>2019-01-29</td>\n",
              "      <td>123895</td>\n",
              "    </tr>\n",
              "    <tr>\n",
              "      <th>...</th>\n",
              "      <td>...</td>\n",
              "      <td>...</td>\n",
              "    </tr>\n",
              "    <tr>\n",
              "      <th>100</th>\n",
              "      <td>2020-12-01</td>\n",
              "      <td>323904</td>\n",
              "    </tr>\n",
              "    <tr>\n",
              "      <th>101</th>\n",
              "      <td>2020-12-08</td>\n",
              "      <td>278768</td>\n",
              "    </tr>\n",
              "    <tr>\n",
              "      <th>102</th>\n",
              "      <td>2020-12-15</td>\n",
              "      <td>539526</td>\n",
              "    </tr>\n",
              "    <tr>\n",
              "      <th>103</th>\n",
              "      <td>2020-12-22</td>\n",
              "      <td>402965</td>\n",
              "    </tr>\n",
              "    <tr>\n",
              "      <th>104</th>\n",
              "      <td>2020-12-29</td>\n",
              "      <td>205944</td>\n",
              "    </tr>\n",
              "  </tbody>\n",
              "</table>\n",
              "<p>105 rows × 2 columns</p>\n",
              "</div>"
            ],
            "text/plain": [
              "    DateTimeGroup  Tweets\n",
              "0      2019-01-01  143247\n",
              "1      2019-01-08  132086\n",
              "2      2019-01-15  130601\n",
              "3      2019-01-22  125986\n",
              "4      2019-01-29  123895\n",
              "..            ...     ...\n",
              "100    2020-12-01  323904\n",
              "101    2020-12-08  278768\n",
              "102    2020-12-15  539526\n",
              "103    2020-12-22  402965\n",
              "104    2020-12-29  205944\n",
              "\n",
              "[105 rows x 2 columns]"
            ]
          },
          "metadata": {
            "tags": []
          },
          "execution_count": 4
        }
      ]
    },
    {
      "cell_type": "code",
      "metadata": {
        "id": "fgY1WrFyWkJq",
        "colab": {
          "base_uri": "https://localhost:8080/",
          "height": 284
        },
        "outputId": "c0b299c5-6785-4ce8-83c8-b386ec97e146"
      },
      "source": [
        "# Manually create a dataframe with monthly twitter users from \"Twitter Monthly Active\"\n",
        "twitter_monthly_users_data = { 'Quarter': ['Q1', 'Q2', 'Q3', 'Q4', 'Q1', 'Q2', 'Q3', 'Q4'],\n",
        "         'Year': [2019,2019,2019,2019,2020,2020,2020,2020],\n",
        "         'MUA':  [330000000,330000000,330000000,340000000,326000000,326000000,353000000,np.nan]}\n",
        "\n",
        "twitter_monthly_users = pd.DataFrame(twitter_monthly_users_data)\n",
        "twitter_monthly_users"
      ],
      "execution_count": 5,
      "outputs": [
        {
          "output_type": "execute_result",
          "data": {
            "text/html": [
              "<div>\n",
              "<style scoped>\n",
              "    .dataframe tbody tr th:only-of-type {\n",
              "        vertical-align: middle;\n",
              "    }\n",
              "\n",
              "    .dataframe tbody tr th {\n",
              "        vertical-align: top;\n",
              "    }\n",
              "\n",
              "    .dataframe thead th {\n",
              "        text-align: right;\n",
              "    }\n",
              "</style>\n",
              "<table border=\"1\" class=\"dataframe\">\n",
              "  <thead>\n",
              "    <tr style=\"text-align: right;\">\n",
              "      <th></th>\n",
              "      <th>Quarter</th>\n",
              "      <th>Year</th>\n",
              "      <th>MUA</th>\n",
              "    </tr>\n",
              "  </thead>\n",
              "  <tbody>\n",
              "    <tr>\n",
              "      <th>0</th>\n",
              "      <td>Q1</td>\n",
              "      <td>2019</td>\n",
              "      <td>330000000.0</td>\n",
              "    </tr>\n",
              "    <tr>\n",
              "      <th>1</th>\n",
              "      <td>Q2</td>\n",
              "      <td>2019</td>\n",
              "      <td>330000000.0</td>\n",
              "    </tr>\n",
              "    <tr>\n",
              "      <th>2</th>\n",
              "      <td>Q3</td>\n",
              "      <td>2019</td>\n",
              "      <td>330000000.0</td>\n",
              "    </tr>\n",
              "    <tr>\n",
              "      <th>3</th>\n",
              "      <td>Q4</td>\n",
              "      <td>2019</td>\n",
              "      <td>340000000.0</td>\n",
              "    </tr>\n",
              "    <tr>\n",
              "      <th>4</th>\n",
              "      <td>Q1</td>\n",
              "      <td>2020</td>\n",
              "      <td>326000000.0</td>\n",
              "    </tr>\n",
              "    <tr>\n",
              "      <th>5</th>\n",
              "      <td>Q2</td>\n",
              "      <td>2020</td>\n",
              "      <td>326000000.0</td>\n",
              "    </tr>\n",
              "    <tr>\n",
              "      <th>6</th>\n",
              "      <td>Q3</td>\n",
              "      <td>2020</td>\n",
              "      <td>353000000.0</td>\n",
              "    </tr>\n",
              "    <tr>\n",
              "      <th>7</th>\n",
              "      <td>Q4</td>\n",
              "      <td>2020</td>\n",
              "      <td>NaN</td>\n",
              "    </tr>\n",
              "  </tbody>\n",
              "</table>\n",
              "</div>"
            ],
            "text/plain": [
              "  Quarter  Year          MUA\n",
              "0      Q1  2019  330000000.0\n",
              "1      Q2  2019  330000000.0\n",
              "2      Q3  2019  330000000.0\n",
              "3      Q4  2019  340000000.0\n",
              "4      Q1  2020  326000000.0\n",
              "5      Q2  2020  326000000.0\n",
              "6      Q3  2020  353000000.0\n",
              "7      Q4  2020          NaN"
            ]
          },
          "metadata": {
            "tags": []
          },
          "execution_count": 5
        }
      ]
    },
    {
      "cell_type": "markdown",
      "metadata": {
        "id": "tPQHW30zWkJq"
      },
      "source": [
        "# Data Analysis & Results (EDA)"
      ]
    },
    {
      "cell_type": "markdown",
      "metadata": {
        "id": "D_kywfpWWkJr"
      },
      "source": [
        "Carry out EDA on your dataset(s); Describe in this section"
      ]
    },
    {
      "cell_type": "markdown",
      "metadata": {
        "id": "kToAyVtSpSC_"
      },
      "source": [
        "We merged the weekly tweet and bitcoin dataframes together to put all data into one graph since both data deal with the same time frame.\n"
      ]
    },
    {
      "cell_type": "code",
      "metadata": {
        "colab": {
          "base_uri": "https://localhost:8080/",
          "height": 402
        },
        "id": "OBNMNXCwZaGS",
        "outputId": "12488b7e-0273-4af8-96a2-23a8bacdaea3"
      },
      "source": [
        "btc_tweets_2019_2020_weekly = pd.merge(btc_2019_2020_weekly, tweets_2019_2020_weekly, how=\"left\", on=['DateTimeGroup'])\n",
        "btc_tweets_2019_2020_weekly"
      ],
      "execution_count": 6,
      "outputs": [
        {
          "output_type": "execute_result",
          "data": {
            "text/html": [
              "<div>\n",
              "<style scoped>\n",
              "    .dataframe tbody tr th:only-of-type {\n",
              "        vertical-align: middle;\n",
              "    }\n",
              "\n",
              "    .dataframe tbody tr th {\n",
              "        vertical-align: top;\n",
              "    }\n",
              "\n",
              "    .dataframe thead th {\n",
              "        text-align: right;\n",
              "    }\n",
              "</style>\n",
              "<table border=\"1\" class=\"dataframe\">\n",
              "  <thead>\n",
              "    <tr style=\"text-align: right;\">\n",
              "      <th></th>\n",
              "      <th>DateTimeGroup</th>\n",
              "      <th>Open</th>\n",
              "      <th>Close</th>\n",
              "      <th>PriceChange</th>\n",
              "      <th>Tweets</th>\n",
              "    </tr>\n",
              "  </thead>\n",
              "  <tbody>\n",
              "    <tr>\n",
              "      <th>0</th>\n",
              "      <td>2019-01-01</td>\n",
              "      <td>3722</td>\n",
              "      <td>4040</td>\n",
              "      <td>318</td>\n",
              "      <td>143247</td>\n",
              "    </tr>\n",
              "    <tr>\n",
              "      <th>1</th>\n",
              "      <td>2019-01-08</td>\n",
              "      <td>4041</td>\n",
              "      <td>3693</td>\n",
              "      <td>-348</td>\n",
              "      <td>132086</td>\n",
              "    </tr>\n",
              "    <tr>\n",
              "      <th>2</th>\n",
              "      <td>2019-01-15</td>\n",
              "      <td>3693</td>\n",
              "      <td>3537</td>\n",
              "      <td>-156</td>\n",
              "      <td>130601</td>\n",
              "    </tr>\n",
              "    <tr>\n",
              "      <th>3</th>\n",
              "      <td>2019-01-22</td>\n",
              "      <td>3537</td>\n",
              "      <td>3442</td>\n",
              "      <td>-95</td>\n",
              "      <td>125986</td>\n",
              "    </tr>\n",
              "    <tr>\n",
              "      <th>4</th>\n",
              "      <td>2019-01-29</td>\n",
              "      <td>3442</td>\n",
              "      <td>3445</td>\n",
              "      <td>3</td>\n",
              "      <td>123895</td>\n",
              "    </tr>\n",
              "    <tr>\n",
              "      <th>...</th>\n",
              "      <td>...</td>\n",
              "      <td>...</td>\n",
              "      <td>...</td>\n",
              "      <td>...</td>\n",
              "      <td>...</td>\n",
              "    </tr>\n",
              "    <tr>\n",
              "      <th>100</th>\n",
              "      <td>2020-12-01</td>\n",
              "      <td>19380</td>\n",
              "      <td>19087</td>\n",
              "      <td>-293</td>\n",
              "      <td>323904</td>\n",
              "    </tr>\n",
              "    <tr>\n",
              "      <th>101</th>\n",
              "      <td>2020-12-08</td>\n",
              "      <td>19087</td>\n",
              "      <td>19201</td>\n",
              "      <td>114</td>\n",
              "      <td>278768</td>\n",
              "    </tr>\n",
              "    <tr>\n",
              "      <th>102</th>\n",
              "      <td>2020-12-15</td>\n",
              "      <td>19199</td>\n",
              "      <td>23146</td>\n",
              "      <td>3947</td>\n",
              "      <td>539526</td>\n",
              "    </tr>\n",
              "    <tr>\n",
              "      <th>103</th>\n",
              "      <td>2020-12-22</td>\n",
              "      <td>23138</td>\n",
              "      <td>26634</td>\n",
              "      <td>3496</td>\n",
              "      <td>402965</td>\n",
              "    </tr>\n",
              "    <tr>\n",
              "      <th>104</th>\n",
              "      <td>2020-12-29</td>\n",
              "      <td>26606</td>\n",
              "      <td>28966</td>\n",
              "      <td>2360</td>\n",
              "      <td>205944</td>\n",
              "    </tr>\n",
              "  </tbody>\n",
              "</table>\n",
              "<p>105 rows × 5 columns</p>\n",
              "</div>"
            ],
            "text/plain": [
              "    DateTimeGroup   Open  Close  PriceChange  Tweets\n",
              "0      2019-01-01   3722   4040          318  143247\n",
              "1      2019-01-08   4041   3693         -348  132086\n",
              "2      2019-01-15   3693   3537         -156  130601\n",
              "3      2019-01-22   3537   3442          -95  125986\n",
              "4      2019-01-29   3442   3445            3  123895\n",
              "..            ...    ...    ...          ...     ...\n",
              "100    2020-12-01  19380  19087         -293  323904\n",
              "101    2020-12-08  19087  19201          114  278768\n",
              "102    2020-12-15  19199  23146         3947  539526\n",
              "103    2020-12-22  23138  26634         3496  402965\n",
              "104    2020-12-29  26606  28966         2360  205944\n",
              "\n",
              "[105 rows x 5 columns]"
            ]
          },
          "metadata": {
            "tags": []
          },
          "execution_count": 6
        }
      ]
    },
    {
      "cell_type": "markdown",
      "metadata": {
        "id": "mxVYwcTimJNi"
      },
      "source": [
        "We merged the daily tweet and bitcoin dataframes together to put all data into one graph since both data deal with the same time frame."
      ]
    },
    {
      "cell_type": "code",
      "metadata": {
        "id": "m45llF5eWkJr",
        "colab": {
          "base_uri": "https://localhost:8080/",
          "height": 402
        },
        "outputId": "5ba36766-4a9f-49b7-a0d8-0fc97143180f"
      },
      "source": [
        "btc_tweets_2019_2020_daily = pd.merge(btc_2019_2020_daily, tweets_2019_2020_daily, how=\"left\", on=['DateTime'])\n",
        "btc_tweets_2019_2020_daily"
      ],
      "execution_count": 7,
      "outputs": [
        {
          "output_type": "execute_result",
          "data": {
            "text/html": [
              "<div>\n",
              "<style scoped>\n",
              "    .dataframe tbody tr th:only-of-type {\n",
              "        vertical-align: middle;\n",
              "    }\n",
              "\n",
              "    .dataframe tbody tr th {\n",
              "        vertical-align: top;\n",
              "    }\n",
              "\n",
              "    .dataframe thead th {\n",
              "        text-align: right;\n",
              "    }\n",
              "</style>\n",
              "<table border=\"1\" class=\"dataframe\">\n",
              "  <thead>\n",
              "    <tr style=\"text-align: right;\">\n",
              "      <th></th>\n",
              "      <th>Date_x</th>\n",
              "      <th>Open</th>\n",
              "      <th>High</th>\n",
              "      <th>Low</th>\n",
              "      <th>Close</th>\n",
              "      <th>PriceChange</th>\n",
              "      <th>DateTime</th>\n",
              "      <th>DateTimeGroup_x</th>\n",
              "      <th>Date_y</th>\n",
              "      <th>Tweets</th>\n",
              "      <th>DateTimeGroup_y</th>\n",
              "    </tr>\n",
              "  </thead>\n",
              "  <tbody>\n",
              "    <tr>\n",
              "      <th>0</th>\n",
              "      <td>12/31/2020</td>\n",
              "      <td>28898</td>\n",
              "      <td>29298</td>\n",
              "      <td>27989</td>\n",
              "      <td>28966</td>\n",
              "      <td>68</td>\n",
              "      <td>2020-12-31</td>\n",
              "      <td>2020-12-25</td>\n",
              "      <td>2020/12/31</td>\n",
              "      <td>68822.0</td>\n",
              "      <td>2020-12-25</td>\n",
              "    </tr>\n",
              "    <tr>\n",
              "      <th>1</th>\n",
              "      <td>12/30/2020</td>\n",
              "      <td>26870</td>\n",
              "      <td>28980</td>\n",
              "      <td>26870</td>\n",
              "      <td>28896</td>\n",
              "      <td>2026</td>\n",
              "      <td>2020-12-30</td>\n",
              "      <td>2020-12-24</td>\n",
              "      <td>2020/12/30</td>\n",
              "      <td>80886.0</td>\n",
              "      <td>2020-12-24</td>\n",
              "    </tr>\n",
              "    <tr>\n",
              "      <th>2</th>\n",
              "      <td>12/29/2020</td>\n",
              "      <td>26606</td>\n",
              "      <td>27164</td>\n",
              "      <td>25926</td>\n",
              "      <td>26870</td>\n",
              "      <td>264</td>\n",
              "      <td>2020-12-29</td>\n",
              "      <td>2020-12-23</td>\n",
              "      <td>2020/12/29</td>\n",
              "      <td>56236.0</td>\n",
              "      <td>2020-12-23</td>\n",
              "    </tr>\n",
              "    <tr>\n",
              "      <th>3</th>\n",
              "      <td>12/28/2020</td>\n",
              "      <td>26303</td>\n",
              "      <td>27404</td>\n",
              "      <td>26136</td>\n",
              "      <td>26634</td>\n",
              "      <td>331</td>\n",
              "      <td>2020-12-28</td>\n",
              "      <td>2020-12-22</td>\n",
              "      <td>2020/12/28</td>\n",
              "      <td>59779.0</td>\n",
              "      <td>2020-12-22</td>\n",
              "    </tr>\n",
              "    <tr>\n",
              "      <th>4</th>\n",
              "      <td>12/27/2020</td>\n",
              "      <td>26666</td>\n",
              "      <td>28326</td>\n",
              "      <td>25824</td>\n",
              "      <td>26303</td>\n",
              "      <td>-363</td>\n",
              "      <td>2020-12-27</td>\n",
              "      <td>2020-12-21</td>\n",
              "      <td>2020/12/27</td>\n",
              "      <td>88788.0</td>\n",
              "      <td>2020-12-21</td>\n",
              "    </tr>\n",
              "    <tr>\n",
              "      <th>...</th>\n",
              "      <td>...</td>\n",
              "      <td>...</td>\n",
              "      <td>...</td>\n",
              "      <td>...</td>\n",
              "      <td>...</td>\n",
              "      <td>...</td>\n",
              "      <td>...</td>\n",
              "      <td>...</td>\n",
              "      <td>...</td>\n",
              "      <td>...</td>\n",
              "      <td>...</td>\n",
              "    </tr>\n",
              "    <tr>\n",
              "      <th>726</th>\n",
              "      <td>01/05/2019</td>\n",
              "      <td>3878</td>\n",
              "      <td>3912</td>\n",
              "      <td>3859</td>\n",
              "      <td>3880</td>\n",
              "      <td>2</td>\n",
              "      <td>2019-01-05</td>\n",
              "      <td>2018-12-30</td>\n",
              "      <td>2019/01/05</td>\n",
              "      <td>20096.0</td>\n",
              "      <td>2018-12-30</td>\n",
              "    </tr>\n",
              "    <tr>\n",
              "      <th>727</th>\n",
              "      <td>01/04/2019</td>\n",
              "      <td>3840</td>\n",
              "      <td>3895</td>\n",
              "      <td>3774</td>\n",
              "      <td>3878</td>\n",
              "      <td>38</td>\n",
              "      <td>2019-01-04</td>\n",
              "      <td>2018-12-29</td>\n",
              "      <td>2019/01/04</td>\n",
              "      <td>21139.0</td>\n",
              "      <td>2018-12-29</td>\n",
              "    </tr>\n",
              "    <tr>\n",
              "      <th>728</th>\n",
              "      <td>01/03/2019</td>\n",
              "      <td>3937</td>\n",
              "      <td>3964</td>\n",
              "      <td>3813</td>\n",
              "      <td>3841</td>\n",
              "      <td>-96</td>\n",
              "      <td>2019-01-03</td>\n",
              "      <td>2018-12-28</td>\n",
              "      <td>2019/01/03</td>\n",
              "      <td>26754.0</td>\n",
              "      <td>2018-12-28</td>\n",
              "    </tr>\n",
              "    <tr>\n",
              "      <th>729</th>\n",
              "      <td>01/02/2019</td>\n",
              "      <td>3767</td>\n",
              "      <td>3943</td>\n",
              "      <td>3757</td>\n",
              "      <td>3931</td>\n",
              "      <td>164</td>\n",
              "      <td>2019-01-02</td>\n",
              "      <td>2018-12-27</td>\n",
              "      <td>2019/01/02</td>\n",
              "      <td>18830.0</td>\n",
              "      <td>2018-12-27</td>\n",
              "    </tr>\n",
              "    <tr>\n",
              "      <th>730</th>\n",
              "      <td>01/01/2019</td>\n",
              "      <td>3722</td>\n",
              "      <td>3788</td>\n",
              "      <td>3697</td>\n",
              "      <td>3769</td>\n",
              "      <td>47</td>\n",
              "      <td>2019-01-01</td>\n",
              "      <td>2018-12-26</td>\n",
              "      <td>2019/01/01</td>\n",
              "      <td>17069.0</td>\n",
              "      <td>2018-12-26</td>\n",
              "    </tr>\n",
              "  </tbody>\n",
              "</table>\n",
              "<p>731 rows × 11 columns</p>\n",
              "</div>"
            ],
            "text/plain": [
              "         Date_x   Open   High  ...      Date_y   Tweets  DateTimeGroup_y\n",
              "0    12/31/2020  28898  29298  ...  2020/12/31  68822.0       2020-12-25\n",
              "1    12/30/2020  26870  28980  ...  2020/12/30  80886.0       2020-12-24\n",
              "2    12/29/2020  26606  27164  ...  2020/12/29  56236.0       2020-12-23\n",
              "3    12/28/2020  26303  27404  ...  2020/12/28  59779.0       2020-12-22\n",
              "4    12/27/2020  26666  28326  ...  2020/12/27  88788.0       2020-12-21\n",
              "..          ...    ...    ...  ...         ...      ...              ...\n",
              "726  01/05/2019   3878   3912  ...  2019/01/05  20096.0       2018-12-30\n",
              "727  01/04/2019   3840   3895  ...  2019/01/04  21139.0       2018-12-29\n",
              "728  01/03/2019   3937   3964  ...  2019/01/03  26754.0       2018-12-28\n",
              "729  01/02/2019   3767   3943  ...  2019/01/02  18830.0       2018-12-27\n",
              "730  01/01/2019   3722   3788  ...  2019/01/01  17069.0       2018-12-26\n",
              "\n",
              "[731 rows x 11 columns]"
            ]
          },
          "metadata": {
            "tags": []
          },
          "execution_count": 7
        }
      ]
    },
    {
      "cell_type": "markdown",
      "metadata": {
        "id": "gqPPhGrKmTr5"
      },
      "source": [
        "Shift the daily tweet prices up to the next day to create the stagger."
      ]
    },
    {
      "cell_type": "code",
      "metadata": {
        "colab": {
          "base_uri": "https://localhost:8080/",
          "height": 402
        },
        "id": "C-DUEKe7mU0C",
        "outputId": "cd1e85e5-43eb-4cf7-dfdb-8d54324d4728"
      },
      "source": [
        "btc_tweets_2019_2020_daily_staggered = btc_tweets_2019_2020_daily\n",
        "btc_tweets_2019_2020_daily_staggered['Tweets'] = btc_tweets_2019_2020_daily_staggered['Tweets'].shift(-1)\n",
        "btc_tweets_2019_2020_daily_staggered"
      ],
      "execution_count": 8,
      "outputs": [
        {
          "output_type": "execute_result",
          "data": {
            "text/html": [
              "<div>\n",
              "<style scoped>\n",
              "    .dataframe tbody tr th:only-of-type {\n",
              "        vertical-align: middle;\n",
              "    }\n",
              "\n",
              "    .dataframe tbody tr th {\n",
              "        vertical-align: top;\n",
              "    }\n",
              "\n",
              "    .dataframe thead th {\n",
              "        text-align: right;\n",
              "    }\n",
              "</style>\n",
              "<table border=\"1\" class=\"dataframe\">\n",
              "  <thead>\n",
              "    <tr style=\"text-align: right;\">\n",
              "      <th></th>\n",
              "      <th>Date_x</th>\n",
              "      <th>Open</th>\n",
              "      <th>High</th>\n",
              "      <th>Low</th>\n",
              "      <th>Close</th>\n",
              "      <th>PriceChange</th>\n",
              "      <th>DateTime</th>\n",
              "      <th>DateTimeGroup_x</th>\n",
              "      <th>Date_y</th>\n",
              "      <th>Tweets</th>\n",
              "      <th>DateTimeGroup_y</th>\n",
              "    </tr>\n",
              "  </thead>\n",
              "  <tbody>\n",
              "    <tr>\n",
              "      <th>0</th>\n",
              "      <td>12/31/2020</td>\n",
              "      <td>28898</td>\n",
              "      <td>29298</td>\n",
              "      <td>27989</td>\n",
              "      <td>28966</td>\n",
              "      <td>68</td>\n",
              "      <td>2020-12-31</td>\n",
              "      <td>2020-12-25</td>\n",
              "      <td>2020/12/31</td>\n",
              "      <td>80886.0</td>\n",
              "      <td>2020-12-25</td>\n",
              "    </tr>\n",
              "    <tr>\n",
              "      <th>1</th>\n",
              "      <td>12/30/2020</td>\n",
              "      <td>26870</td>\n",
              "      <td>28980</td>\n",
              "      <td>26870</td>\n",
              "      <td>28896</td>\n",
              "      <td>2026</td>\n",
              "      <td>2020-12-30</td>\n",
              "      <td>2020-12-24</td>\n",
              "      <td>2020/12/30</td>\n",
              "      <td>56236.0</td>\n",
              "      <td>2020-12-24</td>\n",
              "    </tr>\n",
              "    <tr>\n",
              "      <th>2</th>\n",
              "      <td>12/29/2020</td>\n",
              "      <td>26606</td>\n",
              "      <td>27164</td>\n",
              "      <td>25926</td>\n",
              "      <td>26870</td>\n",
              "      <td>264</td>\n",
              "      <td>2020-12-29</td>\n",
              "      <td>2020-12-23</td>\n",
              "      <td>2020/12/29</td>\n",
              "      <td>59779.0</td>\n",
              "      <td>2020-12-23</td>\n",
              "    </tr>\n",
              "    <tr>\n",
              "      <th>3</th>\n",
              "      <td>12/28/2020</td>\n",
              "      <td>26303</td>\n",
              "      <td>27404</td>\n",
              "      <td>26136</td>\n",
              "      <td>26634</td>\n",
              "      <td>331</td>\n",
              "      <td>2020-12-28</td>\n",
              "      <td>2020-12-22</td>\n",
              "      <td>2020/12/28</td>\n",
              "      <td>88788.0</td>\n",
              "      <td>2020-12-22</td>\n",
              "    </tr>\n",
              "    <tr>\n",
              "      <th>4</th>\n",
              "      <td>12/27/2020</td>\n",
              "      <td>26666</td>\n",
              "      <td>28326</td>\n",
              "      <td>25824</td>\n",
              "      <td>26303</td>\n",
              "      <td>-363</td>\n",
              "      <td>2020-12-27</td>\n",
              "      <td>2020-12-21</td>\n",
              "      <td>2020/12/27</td>\n",
              "      <td>72172.0</td>\n",
              "      <td>2020-12-21</td>\n",
              "    </tr>\n",
              "    <tr>\n",
              "      <th>...</th>\n",
              "      <td>...</td>\n",
              "      <td>...</td>\n",
              "      <td>...</td>\n",
              "      <td>...</td>\n",
              "      <td>...</td>\n",
              "      <td>...</td>\n",
              "      <td>...</td>\n",
              "      <td>...</td>\n",
              "      <td>...</td>\n",
              "      <td>...</td>\n",
              "      <td>...</td>\n",
              "    </tr>\n",
              "    <tr>\n",
              "      <th>726</th>\n",
              "      <td>01/05/2019</td>\n",
              "      <td>3878</td>\n",
              "      <td>3912</td>\n",
              "      <td>3859</td>\n",
              "      <td>3880</td>\n",
              "      <td>2</td>\n",
              "      <td>2019-01-05</td>\n",
              "      <td>2018-12-30</td>\n",
              "      <td>2019/01/05</td>\n",
              "      <td>21139.0</td>\n",
              "      <td>2018-12-30</td>\n",
              "    </tr>\n",
              "    <tr>\n",
              "      <th>727</th>\n",
              "      <td>01/04/2019</td>\n",
              "      <td>3840</td>\n",
              "      <td>3895</td>\n",
              "      <td>3774</td>\n",
              "      <td>3878</td>\n",
              "      <td>38</td>\n",
              "      <td>2019-01-04</td>\n",
              "      <td>2018-12-29</td>\n",
              "      <td>2019/01/04</td>\n",
              "      <td>26754.0</td>\n",
              "      <td>2018-12-29</td>\n",
              "    </tr>\n",
              "    <tr>\n",
              "      <th>728</th>\n",
              "      <td>01/03/2019</td>\n",
              "      <td>3937</td>\n",
              "      <td>3964</td>\n",
              "      <td>3813</td>\n",
              "      <td>3841</td>\n",
              "      <td>-96</td>\n",
              "      <td>2019-01-03</td>\n",
              "      <td>2018-12-28</td>\n",
              "      <td>2019/01/03</td>\n",
              "      <td>18830.0</td>\n",
              "      <td>2018-12-28</td>\n",
              "    </tr>\n",
              "    <tr>\n",
              "      <th>729</th>\n",
              "      <td>01/02/2019</td>\n",
              "      <td>3767</td>\n",
              "      <td>3943</td>\n",
              "      <td>3757</td>\n",
              "      <td>3931</td>\n",
              "      <td>164</td>\n",
              "      <td>2019-01-02</td>\n",
              "      <td>2018-12-27</td>\n",
              "      <td>2019/01/02</td>\n",
              "      <td>17069.0</td>\n",
              "      <td>2018-12-27</td>\n",
              "    </tr>\n",
              "    <tr>\n",
              "      <th>730</th>\n",
              "      <td>01/01/2019</td>\n",
              "      <td>3722</td>\n",
              "      <td>3788</td>\n",
              "      <td>3697</td>\n",
              "      <td>3769</td>\n",
              "      <td>47</td>\n",
              "      <td>2019-01-01</td>\n",
              "      <td>2018-12-26</td>\n",
              "      <td>2019/01/01</td>\n",
              "      <td>NaN</td>\n",
              "      <td>2018-12-26</td>\n",
              "    </tr>\n",
              "  </tbody>\n",
              "</table>\n",
              "<p>731 rows × 11 columns</p>\n",
              "</div>"
            ],
            "text/plain": [
              "         Date_x   Open   High  ...      Date_y   Tweets  DateTimeGroup_y\n",
              "0    12/31/2020  28898  29298  ...  2020/12/31  80886.0       2020-12-25\n",
              "1    12/30/2020  26870  28980  ...  2020/12/30  56236.0       2020-12-24\n",
              "2    12/29/2020  26606  27164  ...  2020/12/29  59779.0       2020-12-23\n",
              "3    12/28/2020  26303  27404  ...  2020/12/28  88788.0       2020-12-22\n",
              "4    12/27/2020  26666  28326  ...  2020/12/27  72172.0       2020-12-21\n",
              "..          ...    ...    ...  ...         ...      ...              ...\n",
              "726  01/05/2019   3878   3912  ...  2019/01/05  21139.0       2018-12-30\n",
              "727  01/04/2019   3840   3895  ...  2019/01/04  26754.0       2018-12-29\n",
              "728  01/03/2019   3937   3964  ...  2019/01/03  18830.0       2018-12-28\n",
              "729  01/02/2019   3767   3943  ...  2019/01/02  17069.0       2018-12-27\n",
              "730  01/01/2019   3722   3788  ...  2019/01/01      NaN       2018-12-26\n",
              "\n",
              "[731 rows x 11 columns]"
            ]
          },
          "metadata": {
            "tags": []
          },
          "execution_count": 8
        }
      ]
    },
    {
      "cell_type": "markdown",
      "metadata": {
        "id": "lSFFcAm4w9Eb"
      },
      "source": [
        "Shift the weekly tweet prices up to the next day to create the stagger."
      ]
    },
    {
      "cell_type": "code",
      "metadata": {
        "colab": {
          "base_uri": "https://localhost:8080/",
          "height": 402
        },
        "id": "asCZXnMDZF2U",
        "outputId": "dbfa0882-3ec0-4964-b1ba-c3dae7c704f3"
      },
      "source": [
        "btc_tweets_2019_2020_weekly_staggered = btc_tweets_2019_2020_weekly\n",
        "# Reorient the dataframe so it is the same direction as daily\n",
        "btc_tweets_2019_2020_weekly_staggered = btc_tweets_2019_2020_weekly_staggered.iloc[::-1]\n",
        "btc_tweets_2019_2020_weekly_staggered['Tweets'] = btc_tweets_2019_2020_weekly_staggered['Tweets'].shift(-1)\n",
        "btc_tweets_2019_2020_weekly_staggered"
      ],
      "execution_count": 9,
      "outputs": [
        {
          "output_type": "execute_result",
          "data": {
            "text/html": [
              "<div>\n",
              "<style scoped>\n",
              "    .dataframe tbody tr th:only-of-type {\n",
              "        vertical-align: middle;\n",
              "    }\n",
              "\n",
              "    .dataframe tbody tr th {\n",
              "        vertical-align: top;\n",
              "    }\n",
              "\n",
              "    .dataframe thead th {\n",
              "        text-align: right;\n",
              "    }\n",
              "</style>\n",
              "<table border=\"1\" class=\"dataframe\">\n",
              "  <thead>\n",
              "    <tr style=\"text-align: right;\">\n",
              "      <th></th>\n",
              "      <th>DateTimeGroup</th>\n",
              "      <th>Open</th>\n",
              "      <th>Close</th>\n",
              "      <th>PriceChange</th>\n",
              "      <th>Tweets</th>\n",
              "    </tr>\n",
              "  </thead>\n",
              "  <tbody>\n",
              "    <tr>\n",
              "      <th>104</th>\n",
              "      <td>2020-12-29</td>\n",
              "      <td>26606</td>\n",
              "      <td>28966</td>\n",
              "      <td>2360</td>\n",
              "      <td>402965.0</td>\n",
              "    </tr>\n",
              "    <tr>\n",
              "      <th>103</th>\n",
              "      <td>2020-12-22</td>\n",
              "      <td>23138</td>\n",
              "      <td>26634</td>\n",
              "      <td>3496</td>\n",
              "      <td>539526.0</td>\n",
              "    </tr>\n",
              "    <tr>\n",
              "      <th>102</th>\n",
              "      <td>2020-12-15</td>\n",
              "      <td>19199</td>\n",
              "      <td>23146</td>\n",
              "      <td>3947</td>\n",
              "      <td>278768.0</td>\n",
              "    </tr>\n",
              "    <tr>\n",
              "      <th>101</th>\n",
              "      <td>2020-12-08</td>\n",
              "      <td>19087</td>\n",
              "      <td>19201</td>\n",
              "      <td>114</td>\n",
              "      <td>323904.0</td>\n",
              "    </tr>\n",
              "    <tr>\n",
              "      <th>100</th>\n",
              "      <td>2020-12-01</td>\n",
              "      <td>19380</td>\n",
              "      <td>19087</td>\n",
              "      <td>-293</td>\n",
              "      <td>359769.0</td>\n",
              "    </tr>\n",
              "    <tr>\n",
              "      <th>...</th>\n",
              "      <td>...</td>\n",
              "      <td>...</td>\n",
              "      <td>...</td>\n",
              "      <td>...</td>\n",
              "      <td>...</td>\n",
              "    </tr>\n",
              "    <tr>\n",
              "      <th>4</th>\n",
              "      <td>2019-01-29</td>\n",
              "      <td>3442</td>\n",
              "      <td>3445</td>\n",
              "      <td>3</td>\n",
              "      <td>125986.0</td>\n",
              "    </tr>\n",
              "    <tr>\n",
              "      <th>3</th>\n",
              "      <td>2019-01-22</td>\n",
              "      <td>3537</td>\n",
              "      <td>3442</td>\n",
              "      <td>-95</td>\n",
              "      <td>130601.0</td>\n",
              "    </tr>\n",
              "    <tr>\n",
              "      <th>2</th>\n",
              "      <td>2019-01-15</td>\n",
              "      <td>3693</td>\n",
              "      <td>3537</td>\n",
              "      <td>-156</td>\n",
              "      <td>132086.0</td>\n",
              "    </tr>\n",
              "    <tr>\n",
              "      <th>1</th>\n",
              "      <td>2019-01-08</td>\n",
              "      <td>4041</td>\n",
              "      <td>3693</td>\n",
              "      <td>-348</td>\n",
              "      <td>143247.0</td>\n",
              "    </tr>\n",
              "    <tr>\n",
              "      <th>0</th>\n",
              "      <td>2019-01-01</td>\n",
              "      <td>3722</td>\n",
              "      <td>4040</td>\n",
              "      <td>318</td>\n",
              "      <td>NaN</td>\n",
              "    </tr>\n",
              "  </tbody>\n",
              "</table>\n",
              "<p>105 rows × 5 columns</p>\n",
              "</div>"
            ],
            "text/plain": [
              "    DateTimeGroup   Open  Close  PriceChange    Tweets\n",
              "104    2020-12-29  26606  28966         2360  402965.0\n",
              "103    2020-12-22  23138  26634         3496  539526.0\n",
              "102    2020-12-15  19199  23146         3947  278768.0\n",
              "101    2020-12-08  19087  19201          114  323904.0\n",
              "100    2020-12-01  19380  19087         -293  359769.0\n",
              "..            ...    ...    ...          ...       ...\n",
              "4      2019-01-29   3442   3445            3  125986.0\n",
              "3      2019-01-22   3537   3442          -95  130601.0\n",
              "2      2019-01-15   3693   3537         -156  132086.0\n",
              "1      2019-01-08   4041   3693         -348  143247.0\n",
              "0      2019-01-01   3722   4040          318       NaN\n",
              "\n",
              "[105 rows x 5 columns]"
            ]
          },
          "metadata": {
            "tags": []
          },
          "execution_count": 9
        }
      ]
    },
    {
      "cell_type": "markdown",
      "metadata": {
        "id": "yZVRFnDPxJcT"
      },
      "source": [
        "First we will look at the weekly bitcoin price change statistics."
      ]
    },
    {
      "cell_type": "code",
      "metadata": {
        "colab": {
          "base_uri": "https://localhost:8080/"
        },
        "id": "cZSM_s84xObS",
        "outputId": "5030ca6b-a381-4555-9639-71977aaacf9f"
      },
      "source": [
        "btc_tweets_2019_2020_weekly['PriceChange'].describe()"
      ],
      "execution_count": 10,
      "outputs": [
        {
          "output_type": "execute_result",
          "data": {
            "text/plain": [
              "count     105.000000\n",
              "mean      240.628571\n",
              "std       956.161560\n",
              "min     -2956.000000\n",
              "25%      -225.000000\n",
              "50%       101.000000\n",
              "75%       569.000000\n",
              "max      3947.000000\n",
              "Name: PriceChange, dtype: float64"
            ]
          },
          "metadata": {
            "tags": []
          },
          "execution_count": 10
        }
      ]
    },
    {
      "cell_type": "markdown",
      "metadata": {
        "id": "be2rp8Btop23"
      },
      "source": [
        "As we can see 50% of the weekly price changes fall within -225 USD and 569 USD centering around the mean at 101 USD. In addition we can see that there are some outlier values in both directions. In the positive direction we have 3947 USD which is more than ((569 - (-225)) * 1.5 + 569 USD) = 1760 USD. In the negative direction we have -2956 USD which is less than -224 + -((569 - (-225)) * 1.5) = -1415 USD. We will generate a histogram to more easily visualize this data."
      ]
    },
    {
      "cell_type": "code",
      "metadata": {
        "colab": {
          "base_uri": "https://localhost:8080/",
          "height": 282
        },
        "id": "P1Xj3SDbaHGZ",
        "outputId": "ce636e69-e267-4052-b936-3553bba71c7f"
      },
      "source": [
        "btc_tweets_2019_2020_weekly['PriceChange'].hist()"
      ],
      "execution_count": 11,
      "outputs": [
        {
          "output_type": "execute_result",
          "data": {
            "text/plain": [
              "<matplotlib.axes._subplots.AxesSubplot at 0x7f0d69c286d0>"
            ]
          },
          "metadata": {
            "tags": []
          },
          "execution_count": 11
        },
        {
          "output_type": "display_data",
          "data": {
            "image/png": "[encoded data removed]",
            "text/plain": [
              "<Figure size 432x288 with 1 Axes>"
            ]
          },
          "metadata": {
            "tags": [],
            "needs_background": "light"
          }
        }
      ]
    },
    {
      "cell_type": "markdown",
      "metadata": {
        "id": "4aKoJLyZxICz"
      },
      "source": [
        "In addition to the data from the table, we can see that the price changes approximately form a normal distribution curve and that there are several outliers (especially in the positive direction)."
      ]
    },
    {
      "cell_type": "markdown",
      "metadata": {
        "id": "2vufsn0n3jYR"
      },
      "source": [
        "Now we will look at the statistics of the weekly tweets. Based on these statistics it seems that most of the data is closer to the mean (based on the first and second quartile as well as the median) with a tail to the right."
      ]
    },
    {
      "cell_type": "code",
      "metadata": {
        "colab": {
          "base_uri": "https://localhost:8080/"
        },
        "id": "X1uyzhc339SR",
        "outputId": "7fcbacd1-f554-4bbb-aa99-efc9621ffb9e"
      },
      "source": [
        "btc_tweets_2019_2020_weekly['Tweets'].describe()"
      ],
      "execution_count": 12,
      "outputs": [
        {
          "output_type": "execute_result",
          "data": {
            "text/plain": [
              "count       105.000000\n",
              "mean     186097.752381\n",
              "std       76974.549436\n",
              "min      104876.000000\n",
              "25%      126393.000000\n",
              "50%      171519.000000\n",
              "75%      222160.000000\n",
              "max      539526.000000\n",
              "Name: Tweets, dtype: float64"
            ]
          },
          "metadata": {
            "tags": []
          },
          "execution_count": 12
        }
      ]
    },
    {
      "cell_type": "markdown",
      "metadata": {
        "id": "btfK5JJ35GR5"
      },
      "source": [
        "We will generate a histogram to more easily visualize this data. As we can see the data is right skewed with several outliers (as several data points are greater than (222160 - 126393) * 1.5 + 222160 = 365810.5 tweets)."
      ]
    },
    {
      "cell_type": "code",
      "metadata": {
        "colab": {
          "base_uri": "https://localhost:8080/",
          "height": 282
        },
        "id": "3SRtBDnOaOu2",
        "outputId": "b0c91901-20b7-40f1-9c01-1d4e69a92f9c"
      },
      "source": [
        "btc_tweets_2019_2020_weekly['Tweets'].hist()"
      ],
      "execution_count": 13,
      "outputs": [
        {
          "output_type": "execute_result",
          "data": {
            "text/plain": [
              "<matplotlib.axes._subplots.AxesSubplot at 0x7f0d6787a050>"
            ]
          },
          "metadata": {
            "tags": []
          },
          "execution_count": 13
        },
        {
          "output_type": "display_data",
          "data": {
            "image/png": "[encoded data removed]",
            "text/plain": [
              "<Figure size 432x288 with 1 Axes>"
            ]
          },
          "metadata": {
            "tags": [],
            "needs_background": "light"
          }
        }
      ]
    },
    {
      "cell_type": "markdown",
      "metadata": {
        "id": "wnUopK49pKRF"
      },
      "source": [
        "[link text](https:// [link text](https://)) Below we created a time series chart to showcase the change in number of tweets and the price of Bitcoin over the January 2019 to December 2020 time frame. While we have been looking the weekly distribution before, we will now work with the staggered weekly data since we want to look at the week after for our analysis\n",
        "\n",
        " We can see there seems to be a correlation between the two sets of data. From 01/2019 - 01/2020 they both have small fluctuations then we see what seems to be an inversse relationship from  about 02/2020 - 10/2020. Finally around 12/2020 we see a strong reltionship between the two where it seems as if a large increase in tweets is followed by a large price increase then a large decrease in tweets leads to a large decrease in price. Overall, the graph below visually suggests there may be a relationship betweeb price change and tweets. "
      ]
    },
    {
      "cell_type": "code",
      "metadata": {
        "id": "KEj7yZAJZMUy",
        "colab": {
          "base_uri": "https://localhost:8080/",
          "height": 411
        },
        "outputId": "e0456bea-fed8-4c30-fd35-ba371f79bb13"
      },
      "source": [
        "fig, ax1 = plt.subplots(figsize=(10,6))\n",
        "color = 'tab:green'\n",
        "ax1.set_title('BTC Price and Tweets', fontsize=16)\n",
        "ax1.set_xlabel('Months', fontsize=16)\n",
        "ax1.set_ylabel('BTC - Price', fontsize=16, color=color)\n",
        "ax2 = sns.lineplot(x ='DateTimeGroup', y ='PriceChange', data=btc_tweets_2019_2020_weekly_staggered, color=color)\n",
        "ax1.tick_params(axis='y')\n",
        "ax2 = ax1.twinx()\n",
        "color = 'tab:red'\n",
        "ax2.set_ylabel('BTC - Tweets', fontsize=16, color=color)\n",
        "ax2 = sns.lineplot(x ='DateTimeGroup', y ='Tweets', data=btc_tweets_2019_2020_weekly_staggered, color=color)\n",
        "ax2.tick_params(axis='y', color=color)\n",
        "plt.show()"
      ],
      "execution_count": 14,
      "outputs": [
        {
          "output_type": "display_data",
          "data": {
            "image/png": "[encoded data removed]",
            "text/plain": [
              "<Figure size 720x432 with 2 Axes>"
            ]
          },
          "metadata": {
            "tags": [],
            "needs_background": "light"
          }
        }
      ]
    },
    {
      "cell_type": "markdown",
      "metadata": {
        "id": "r1IrekxIqxlA"
      },
      "source": [
        "Execute a linear regression to find the effect of the weekly number of tweets on the next weeks' weekly price change of bitcoin"
      ]
    },
    {
      "cell_type": "code",
      "metadata": {
        "colab": {
          "base_uri": "https://localhost:8080/"
        },
        "id": "UdX-OQ5ZgYED",
        "outputId": "4919d639-5c03-403a-a0c3-f399a2548a98"
      },
      "source": [
        "outcome, predictors = patsy.dmatrices('PriceChange ~ Tweets', btc_tweets_2019_2020_weekly_staggered)\n",
        "mod = sm.OLS(outcome, predictors)\n",
        "res = mod.fit() \n",
        "print(res.summary())"
      ],
      "execution_count": 15,
      "outputs": [
        {
          "output_type": "stream",
          "text": [
            "                            OLS Regression Results                            \n",
            "==============================================================================\n",
            "Dep. Variable:            PriceChange   R-squared:                       0.162\n",
            "Model:                            OLS   Adj. R-squared:                  0.154\n",
            "Method:                 Least Squares   F-statistic:                     19.68\n",
            "Date:                Sat, 22 May 2021   Prob (F-statistic):           2.31e-05\n",
            "Time:                        04:41:10   Log-Likelihood:                -852.13\n",
            "No. Observations:                 104   AIC:                             1708.\n",
            "Df Residuals:                     102   BIC:                             1714.\n",
            "Df Model:                           1                                         \n",
            "Covariance Type:            nonrobust                                         \n",
            "==============================================================================\n",
            "                 coef    std err          t      P>|t|      [0.025      0.975]\n",
            "------------------------------------------------------------------------------\n",
            "Intercept   -689.1985    226.635     -3.041      0.003   -1138.727    -239.669\n",
            "Tweets         0.0050      0.001      4.437      0.000       0.003       0.007\n",
            "==============================================================================\n",
            "Omnibus:                       11.187   Durbin-Watson:                   1.805\n",
            "Prob(Omnibus):                  0.004   Jarque-Bera (JB):               25.570\n",
            "Skew:                           0.265   Prob(JB):                     2.80e-06\n",
            "Kurtosis:                       5.371   Cond. No.                     5.26e+05\n",
            "==============================================================================\n",
            "\n",
            "Warnings:\n",
            "[1] Standard Errors assume that the covariance matrix of the errors is correctly specified.\n",
            "[2] The condition number is large, 5.26e+05. This might indicate that there are\n",
            "strong multicollinearity or other numerical problems.\n"
          ],
          "name": "stdout"
        }
      ]
    },
    {
      "cell_type": "markdown",
      "metadata": {
        "id": "JnaCkxi7qs7x"
      },
      "source": [
        "Based on the linear regression, we see that there is a correlation between tweets the the price change of bitcoin (as there is a p-value of 0.000). The linear regression suggest if there are no tweets on bitcoin, the value of the coin would drop 689.1985 USD the following week. Each tweet in the corresponding week would increase the value of the coin by 0.005 USD the next week. This suggest that there is a correlation between the number of tweets on a given week and bitcoin price the following week."
      ]
    },
    {
      "cell_type": "markdown",
      "metadata": {
        "id": "grAgywJ3rXd5"
      },
      "source": [
        "Here we visualize the linear regression. As we saw in the data, there is a positive correlation between tweets in a given and an increase in bitcoin price change in the following week"
      ]
    },
    {
      "cell_type": "code",
      "metadata": {
        "colab": {
          "base_uri": "https://localhost:8080/",
          "height": 296
        },
        "id": "_kwcoofzga6W",
        "outputId": "bc14cf39-04d4-446a-9dfe-dd9741e13020"
      },
      "source": [
        "sns.scatterplot(x='Tweets', y='PriceChange', data=btc_tweets_2019_2020_weekly_staggered, alpha=0.3, s=100)\n",
        "\n",
        "# Generate and plot the model fit line\n",
        "xs = np.arange(btc_tweets_2019_2020_weekly_staggered['Tweets'].min(), btc_tweets_2019_2020_weekly_staggered['Tweets'].max())\n",
        "ys = 0.0050 * xs -689.1985\n",
        "plt.plot(xs, ys, '--k', linewidth=4, label='Model')\n",
        "\n",
        "plt.xlabel('weekly tweets')\n",
        "plt.ylabel('weekly percent_change')\n",
        "plt.legend()"
      ],
      "execution_count": 16,
      "outputs": [
        {
          "output_type": "execute_result",
          "data": {
            "text/plain": [
              "<matplotlib.legend.Legend at 0x7f0d65a06650>"
            ]
          },
          "metadata": {
            "tags": []
          },
          "execution_count": 16
        },
        {
          "output_type": "display_data",
          "data": {
            "image/png": "[encoded data removed]",
            "text/plain": [
              "<Figure size 432x288 with 1 Axes>"
            ]
          },
          "metadata": {
            "tags": [],
            "needs_background": "light"
          }
        }
      ]
    },
    {
      "cell_type": "markdown",
      "metadata": {
        "id": "daaqAUfON3Xc"
      },
      "source": [
        "We will now repeat the previous steps for the daily range"
      ]
    },
    {
      "cell_type": "markdown",
      "metadata": {
        "id": "WY_rc7wTTH5U"
      },
      "source": [
        "As we can see the statistics of the daily price change follows approximately the distribution of the weekly price change although on a smaller scale. As we can see, once again we have outliers."
      ]
    },
    {
      "cell_type": "code",
      "metadata": {
        "colab": {
          "base_uri": "https://localhost:8080/"
        },
        "id": "s-74IF0F6zsZ",
        "outputId": "9a1ad780-637e-4574-98f9-01f5ca0b6777"
      },
      "source": [
        "btc_tweets_2019_2020_daily['PriceChange'].describe()"
      ],
      "execution_count": 17,
      "outputs": [
        {
          "output_type": "execute_result",
          "data": {
            "text/plain": [
              "count     731.000000\n",
              "mean       33.876881\n",
              "std       352.529981\n",
              "min     -2100.000000\n",
              "25%      -103.000000\n",
              "50%        14.000000\n",
              "75%       156.000000\n",
              "max      2239.000000\n",
              "Name: PriceChange, dtype: float64"
            ]
          },
          "metadata": {
            "tags": []
          },
          "execution_count": 17
        }
      ]
    },
    {
      "cell_type": "markdown",
      "metadata": {
        "id": "qG7ZtL8STiG6"
      },
      "source": [
        "We generate a histogram to more easily visualize the data. As we can see there are some outliers on both ends."
      ]
    },
    {
      "cell_type": "code",
      "metadata": {
        "colab": {
          "base_uri": "https://localhost:8080/",
          "height": 282
        },
        "id": "k4KSQ9CTO6b8",
        "outputId": "92dc63a3-b680-433a-e786-610423804a4f"
      },
      "source": [
        "btc_tweets_2019_2020_daily['PriceChange'].hist()"
      ],
      "execution_count": 18,
      "outputs": [
        {
          "output_type": "execute_result",
          "data": {
            "text/plain": [
              "<matplotlib.axes._subplots.AxesSubplot at 0x7f0d659d8c50>"
            ]
          },
          "metadata": {
            "tags": []
          },
          "execution_count": 18
        },
        {
          "output_type": "display_data",
          "data": {
            "image/png": "[encoded data removed]",
            "text/plain": [
              "<Figure size 432x288 with 1 Axes>"
            ]
          },
          "metadata": {
            "tags": [],
            "needs_background": "light"
          }
        }
      ]
    },
    {
      "cell_type": "markdown",
      "metadata": {
        "id": "-bzr41mWYUZe"
      },
      "source": [
        "Next we will look at the daily bitcoin tweet statistics"
      ]
    },
    {
      "cell_type": "code",
      "metadata": {
        "colab": {
          "base_uri": "https://localhost:8080/"
        },
        "id": "q0e3FgjAOf18",
        "outputId": "0bb208f0-bb49-4309-811b-435a71aa1dc5"
      },
      "source": [
        "btc_tweets_2019_2020_daily['Tweets'].describe()"
      ],
      "execution_count": 19,
      "outputs": [
        {
          "output_type": "execute_result",
          "data": {
            "text/plain": [
              "count       729.000000\n",
              "mean      26709.796982\n",
              "std       12871.112058\n",
              "min       13294.000000\n",
              "25%       17972.000000\n",
              "50%       22847.000000\n",
              "75%       31927.000000\n",
              "max      127155.000000\n",
              "Name: Tweets, dtype: float64"
            ]
          },
          "metadata": {
            "tags": []
          },
          "execution_count": 19
        }
      ]
    },
    {
      "cell_type": "markdown",
      "metadata": {
        "id": "cmCUmxaYTzRq"
      },
      "source": [
        "As we can see the statistics of the daily tweets follows approximately the distribution of the weekly tweet although on a smaller scale. As we can see, once again we have strong right skew which we can more easily see with the generated histogram. As we can see once again there are several outliers in the positive direction."
      ]
    },
    {
      "cell_type": "code",
      "metadata": {
        "colab": {
          "base_uri": "https://localhost:8080/",
          "height": 282
        },
        "id": "d_FzFLgAO7y7",
        "outputId": "db5f3144-6923-42fc-f641-99856d183b62"
      },
      "source": [
        "btc_tweets_2019_2020_daily['Tweets'].hist()"
      ],
      "execution_count": 55,
      "outputs": [
        {
          "output_type": "execute_result",
          "data": {
            "text/plain": [
              "<matplotlib.axes._subplots.AxesSubplot at 0x7fd7fca943d0>"
            ]
          },
          "metadata": {
            "tags": []
          },
          "execution_count": 55
        },
        {
          "output_type": "display_data",
          "data": {
            "image/png": "[encoded data removed]",
            "text/plain": [
              "<Figure size 432x288 with 1 Axes>"
            ]
          },
          "metadata": {
            "tags": [],
            "needs_background": "light"
          }
        }
      ]
    },
    {
      "cell_type": "markdown",
      "metadata": {
        "id": "zIgiot3KUa-r"
      },
      "source": [
        "Below we created a time series chart to showcase the change in number of tweets and the price of Bitcoin over the January 2019 to December 2020 time frame using the staggered daily information.\n",
        "\n",
        "We can see there seems to be a correlation between the two sets of data. At the high spikes of tweets relating to bitcoin we also see high spikes in following day price change of bitcoin and visa versa. While this relationship is not strong during 01/2019 - 01/2020. In the last few months of 2020 the correlation seems quite strong."
      ]
    },
    {
      "cell_type": "code",
      "metadata": {
        "colab": {
          "base_uri": "https://localhost:8080/",
          "height": 411
        },
        "id": "XUywforaPoYr",
        "outputId": "484d7ba5-ca46-4342-cdc2-19ae9c130e85"
      },
      "source": [
        "fig, ax1 = plt.subplots(figsize=(10,6))\n",
        "color = 'tab:green'\n",
        "ax1.set_title('BTC Price and Tweets', fontsize=16)\n",
        "ax1.set_xlabel('Months', fontsize=16)\n",
        "ax1.set_ylabel('BTC - Price', fontsize=16, color=color)\n",
        "ax2 = sns.lineplot(x ='DateTime', y ='PriceChange', data=btc_tweets_2019_2020_daily_staggered, color=color)\n",
        "ax1.tick_params(axis='y')\n",
        "ax2 = ax1.twinx()\n",
        "color = 'tab:red'\n",
        "ax2.set_ylabel('BTC - Tweets', fontsize=16, color=color)\n",
        "ax2 = sns.lineplot(x ='DateTime', y ='Tweets', data=btc_tweets_2019_2020_daily_staggered, color=color)\n",
        "ax2.tick_params(axis='y', color=color)\n",
        "plt.show()"
      ],
      "execution_count": 20,
      "outputs": [
        {
          "output_type": "display_data",
          "data": {
            "image/png": "[encoded data removed]",
            "text/plain": [
              "<Figure size 720x432 with 2 Axes>"
            ]
          },
          "metadata": {
            "tags": [],
            "needs_background": "light"
          }
        }
      ]
    },
    {
      "cell_type": "markdown",
      "metadata": {
        "id": "Qu0oa03HVGMK"
      },
      "source": [
        "We will confirm that there is a relationship using linear regression"
      ]
    },
    {
      "cell_type": "code",
      "metadata": {
        "colab": {
          "base_uri": "https://localhost:8080/"
        },
        "id": "kveqXuz4QEz0",
        "outputId": "63c6c3c7-bd29-4514-8b6a-6a7c525cfa71"
      },
      "source": [
        "outcome, predictors = patsy.dmatrices('PriceChange ~ Tweets', btc_tweets_2019_2020_daily_staggered)\n",
        "mod = sm.OLS(outcome, predictors)\n",
        "res = mod.fit() \n",
        "print(res.summary())"
      ],
      "execution_count": 78,
      "outputs": [
        {
          "output_type": "stream",
          "text": [
            "                            OLS Regression Results                            \n",
            "==============================================================================\n",
            "Dep. Variable:            PriceChange   R-squared:                       0.019\n",
            "Model:                            OLS   Adj. R-squared:                  0.018\n",
            "Method:                 Least Squares   F-statistic:                     14.04\n",
            "Date:                Sat, 22 May 2021   Prob (F-statistic):           0.000193\n",
            "Time:                        04:24:30   Log-Likelihood:                -5303.6\n",
            "No. Observations:                 729   AIC:                         1.061e+04\n",
            "Df Residuals:                     727   BIC:                         1.062e+04\n",
            "Df Model:                           1                                         \n",
            "Covariance Type:            nonrobust                                         \n",
            "==============================================================================\n",
            "                 coef    std err          t      P>|t|      [0.025      0.975]\n",
            "------------------------------------------------------------------------------\n",
            "Intercept    -66.9144     29.868     -2.240      0.025    -125.552      -8.276\n",
            "Tweets         0.0038      0.001      3.747      0.000       0.002       0.006\n",
            "==============================================================================\n",
            "Omnibus:                      136.021   Durbin-Watson:                   2.037\n",
            "Prob(Omnibus):                  0.000   Jarque-Bera (JB):             2667.604\n",
            "Skew:                           0.124   Prob(JB):                         0.00\n",
            "Kurtosis:                      12.368   Cond. No.                     6.83e+04\n",
            "==============================================================================\n",
            "\n",
            "Warnings:\n",
            "[1] Standard Errors assume that the covariance matrix of the errors is correctly specified.\n",
            "[2] The condition number is large, 6.83e+04. This might indicate that there are\n",
            "strong multicollinearity or other numerical problems.\n"
          ],
          "name": "stdout"
        }
      ]
    },
    {
      "cell_type": "markdown",
      "metadata": {
        "id": "OOCUF50EVMiT"
      },
      "source": [
        "Based on the linear regression, we see that there is a correlation between tweets the the price change of bitcoin (as there is a p-value of 0.000). The linear regression suggest if there are no tweets on bitcoin, the value of the coin would drop 66.9144 USD the following day. Each tweet in the corresponding day would increase the value of the coin by 0.005 USD the next day. This suggest that there is a correlation between the number of tweets on a given day and bitcoin price the following day. Below we visualize this correlation with a chart"
      ]
    },
    {
      "cell_type": "code",
      "metadata": {
        "colab": {
          "base_uri": "https://localhost:8080/",
          "height": 296
        },
        "id": "C250FibmQ2fr",
        "outputId": "bc418a29-b49b-474b-ad1c-e48a90ebc03c"
      },
      "source": [
        "sns.scatterplot(x='Tweets', y='PriceChange', data=btc_tweets_2019_2020_daily, alpha=0.3, s=100)\n",
        "\n",
        "# Generate and plot the model fit line\n",
        "xs = np.arange(btc_tweets_2019_2020_daily['Tweets'].min(), btc_tweets_2019_2020_daily['Tweets'].max())\n",
        "ys = 0.0038 * xs -66.9144\n",
        "plt.plot(xs, ys, '--k', linewidth=4, label='Model')\n",
        "\n",
        "plt.xlabel('daily tweets')\n",
        "plt.ylabel('daily percent_change')\n",
        "plt.legend()"
      ],
      "execution_count": 79,
      "outputs": [
        {
          "output_type": "execute_result",
          "data": {
            "text/plain": [
              "<matplotlib.legend.Legend at 0x7fd7fc9e36d0>"
            ]
          },
          "metadata": {
            "tags": []
          },
          "execution_count": 79
        },
        {
          "output_type": "display_data",
          "data": {
            "image/png": "[encoded data removed]",
            "text/plain": [
              "<Figure size 432x288 with 1 Axes>"
            ]
          },
          "metadata": {
            "tags": [],
            "needs_background": "light"
          }
        }
      ]
    }
  ]
}