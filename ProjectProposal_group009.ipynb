{
 "cells": [
  {
   "cell_type": "markdown",
   "metadata": {},
   "source": [
    "# COGS 108 - Final Project Proposal"
   ]
  },
  {
   "cell_type": "markdown",
   "metadata": {},
   "source": [
    "# Names\n",
    "\n",
    "- Kevin De Silva Jayasinghe\n",
    "- Christian Kim\n",
    "- Austin Nguyen\n",
    "- Andrew Hernandez\n"
   ]
  },
  {
   "cell_type": "markdown",
   "metadata": {},
   "source": [
    "# Research Question"
   ]
  },
  {
   "cell_type": "markdown",
   "metadata": {},
   "source": [
    "*Is there a relationship between the quantity of Twitter tweets between 2018 and 2020 regarding Bitcoin and the volatility of Bitcoin’s price?*\n",
    "\n"
   ]
  },
  {
   "cell_type": "markdown",
   "metadata": {},
   "source": [
    "## Background and Prior Work"
   ]
  },
  {
   "cell_type": "markdown",
   "metadata": {},
   "source": [
    "*One of the most discussed topics in financial markets today is the topic of cryptocurrency and its most popular asset, Bitcoin. While on images it's perceived as a majestic gold-colored piece of metal, it's a type of financial software that acts as a digital currency, where all purchases and transactions are recorded in a log called a blockchain (Investopedia). One of the most popular aspects of Bitcoin is how it's a decentralized asset, particularly because of how algorithms purely control the systems of its prices and its volatility (Investopedia). In other words, no third party controls the asset itself since the currency itself is controlled by the miners themselves within the blockchain network as a whole rather than one group controlling the entire network. Thus, the usage of social media, such as Twitter, and the communication surrounding crypto between users.*\n",
    "\n",
    "*Twitter is a social media platform available on mobile and web platforms to anyone at no cost. Anyone can view tweets without being logged on, and anyone can create an account for free to be able to post, interact, and have a profile. Recently, twitter has become one of the largest social media platforms, with over 350 million users (Statista). About 78% of Twitter users are within the age of 18-49(Businessofapps). This range also holds the majority of users who buy and trade Bitcoin (MarketWatch). Because of this relationship, Twitter has become something more than just a social network. As said by Hailey Lennon of Forbes, “Crypto twitter is a world that offers insight and perspective from some of the greatest financial and technological minds, often uncensored. It allows those new to the industry to interact with “OGs” (people who have been in the space for many years) and learn from one another. It gives those interested in the space a place to share, ask questions and stay up to date on breaking news. It even gives people who might otherwise not want to socialize or be known in the industry, a place to interact with others while remaining anonymous.” (Forbes). Twitter has provided a medium of discussion and announcements on the topic of Bitcoin. So naturally, the question arises regarding the relationship between people tweeting about bitcoin.*\n",
    "\n",
    "\n",
    "References (include links):\n",
    "- 1) https://www.investopedia.com/news/how-bitcoin-works/#:~:text=Bitcoin%20is%20a%20digital%20currency,distributed%20ledger%20called%20a%20blockchain.&text=Other%20participants%20in%20the%20Bitcoin,or%20peer%2Dto%2Dpeer. \n",
    "\n",
    "- 2)https://www.investopedia.com/terms/b/blockchain.asp \n",
    "\n",
    "- 3)https://www.statista.com/statistics/272014/global-social-networks-ranked-by-number-of-users/\n",
    "\n",
    "- 4) https://www.marketwatch.com/story/overconfidence-why-its-mostly-men-under-30-trading-bitcoin-11612473601\n",
    "\n",
    "- 5)https://www.forbes.com/sites/haileylennon/2021/03/16/are-cryptocurrency-and-twitter-mutually-exclusive/?sh=1a459b22614b\n"
   ]
  },
  {
   "cell_type": "markdown",
   "metadata": {},
   "source": [
    "# Hypothesis\n"
   ]
  },
  {
   "cell_type": "markdown",
   "metadata": {},
   "source": [
    "*We hypothesize that there is a correlation between web traffic activity regarding Bitcoin on Twitter and the volatility of Bitcoin price on the market. An increase in tweets about Bitcoin is correlated with the increase in volatility of Bitcion’s price.*"
   ]
  },
  {
   "cell_type": "markdown",
   "metadata": {},
   "source": [
    "# Data"
   ]
  },
  {
   "cell_type": "markdown",
   "metadata": {},
   "source": [
    "*Our Question requires two data sets realistically. \n",
    "We require a twitter data set which includes all tweets which mention the key word ‘BTC’ or ‘Bitcoin’ from 2017 -2021:\n",
    "\tWith variables:\n",
    "- Date\n",
    "- User number of followers\n",
    "- User number of following\n",
    "- Number of likes\n",
    "- Number of retweets\n",
    "\n",
    "\tThis data set would ideally be absolutely all tweets containing ‘btc’ or ‘bitcoin’ between 2017 and 2021 so the number of observations should be this exact amount. We can then filter out by number of followers an account has or how many likes the tweet has to assign the tweets some credibility or weight.\n",
    "\t\n",
    "We also require a BTC price history dataset from 2017-2021:\n",
    "With variables:\n",
    "- Date\n",
    "- Percent change for the day\n",
    "- Amount change for the day\n",
    "- Highest price for the day\n",
    "- Lowest price for the day\n",
    "\n",
    "\tThe number of observations in this dataset would be the amount of days between 2017 and 2021.\n"
   ]
  },
  {
   "cell_type": "markdown",
   "metadata": {},
   "source": [
    "# Ethics & Privacy"
   ]
  },
  {
   "cell_type": "markdown",
   "metadata": {},
   "source": [
    "*All of our datasets, regardless of whether it addresses bitcoin prices or tweets, are from publicly available sources. One potential place for concern in these datasets is that some of the twitter datasets that we use contain connections to personal data. In order to protect the privacy of the users whose tweets we use, we will remove all identifying information pertaining to the users (as we are only seeking the total number of tweets). In addition, through twitter’s tos, the issue of informed consent will automatically be managed by twitter users’ account settings. Since the datasets we plan to use are purely quantitative and based on all tweets, there should be an equitable analysis of all twitter users.*"
   ]
  },
  {
   "cell_type": "markdown",
   "metadata": {},
   "source": [
    "# Team Expectations "
   ]
  },
  {
   "cell_type": "markdown",
   "metadata": {},
   "source": [
    "- All team members are expected to respond to all messages on Discord to ensure that a response has been received to meeting requests and project requirements requested by a fellow team member.\n",
    "- All team members are expected to meet at the planned time unless a reason is given ahead of time to miss a meeting.\n",
    "- All teammates are expected to collaborate and communicate productively, conducting themselves as they would in a professional environment.\n",
    "- All team members are expected to contribute to the project in a meaningful way.\n",
    "\n"
   ]
  },
  {
   "cell_type": "markdown",
   "metadata": {},
   "source": [
    "# Project Timeline Proposal"
   ]
  },
  {
   "cell_type": "markdown",
   "metadata": {},
   "source": [
    "| Meeting Date  | Meeting Time| Completed Before Meeting  | Discuss at Meeting |\n",
    "|---|---|---|---|\n",
    "| 4/23  |  1 PM | Submit project proposal. | Update TA on our possible datasets |\n",
    "| 4/30  |  10 AM |  Finalize dataset findings and have a written plan of how wrangling/cleaning will be completed in relation to the question. |  Update TA on our plan for wrangling the data |\n",
    " | \n",
    "| 5/7  | 10 AM  | Submit “Checkpoint #1: Data”    |  \n",
    "| 5/14  | 6 PM  | Finish data wrangling, Work on creating algorithms for analysis. Write up an outline of how Exploratory Data Analysis has been conducted over a finalized dataset.   |  Update TA on EDA finalization |\n",
    "| 5/21  | 12 PM  | Submit “Checkpoint #2: EDA” |\n",
    "| 5/28  | 12 PM  | FINALIZE ALL CODING IN PYTHON (i.e. data visualization, graphs, charts, wrangling, etc.); Finalize analysis paper and begin planning for the video. | Approach TA for the FINAL TIME for guidance (if needed) | \n",
    "| 6/4  | Before 11:59 PM  | Finalize all video edits | \n",
    "| 6/9  | Before 11:59 PM  | SUBMIT FINAL PROJECT AND VIDEO  | "
   ]
  },
  {
   "cell_type": "code",
   "execution_count": null,
   "metadata": {},
   "outputs": [],
   "source": []
  }
 ],
 "metadata": {
  "kernelspec": {
   "display_name": "Python 3",
   "language": "python",
   "name": "python3"
  },
  "language_info": {
   "codemirror_mode": {
    "name": "ipython",
    "version": 3
   },
   "file_extension": ".py",
   "mimetype": "text/x-python",
   "name": "python",
   "nbconvert_exporter": "python",
   "pygments_lexer": "ipython3",
   "version": "3.8.5"
  }
 },
 "nbformat": 4,
 "nbformat_minor": 2
}
