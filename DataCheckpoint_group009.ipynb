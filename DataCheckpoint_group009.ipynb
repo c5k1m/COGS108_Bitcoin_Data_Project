{
 "cells": [
  {
   "cell_type": "markdown",
   "metadata": {},
   "source": [
    "# COGS 108 - Data Checkpoint"
   ]
  },
  {
   "cell_type": "markdown",
   "metadata": {},
   "source": [
    "# Names\n",
    "\n",
    "- Andrew Hernandez\n",
    "- Austin Nguyen\n",
    "- Christian Kim\n",
    "- Kevin De Silva Jayasinghe"
   ]
  },
  {
   "cell_type": "markdown",
   "metadata": {},
   "source": [
    "<a id='research_question'></a>\n",
    "# Research Question"
   ]
  },
  {
   "cell_type": "markdown",
   "metadata": {},
   "source": [
    "*Does an increase in tweets with the hashtag description '#Bitcoin' correlate with an increase in Bitcoin’s price on a weekly basis?*"
   ]
  },
  {
   "cell_type": "markdown",
   "metadata": {},
   "source": [
    "# Dataset(s)"
   ]
  },
  {
   "cell_type": "markdown",
   "metadata": {},
   "source": [
    "*Fill in your dataset information here*\n",
    "\n",
    "(Copy this information for each dataset)\n",
    "- Dataset Name: Bitcoin USD Price Data\n",
    "- Link to the dataset: https://www.marketwatch.com/investing/cryptocurrency/btcusd/download-data\n",
    "- Number of observations: 108\n",
    "\n",
    "This data set contains price history between 2019-2020 for Bitcoin on a weekly basis showing open, high, low and close price. \n",
    "\n",
    "\n",
    "- Dataset Name: Bitcoin Tweets Historical chart\n",
    "- Link to the dataset: https://bitinfocharts.com/comparison/tweets-btc-ltc-eth.html#3y\n",
    "- Number of observations: 730\n",
    "\n",
    "This dataset is from a website that tracks the number of tweets with '#Bitcoin' per day from 4-09-2014 to present day, however we will only be using data from 01/05/2019 - 01/12/2021. By analyzing the bitcoin dataset we observed that this time frame was one of the most volatile periods for Bitcoin. We have narrowed it down to this time period in order to decrease our sample size.\n"
   ]
  },
  {
   "cell_type": "markdown",
   "metadata": {},
   "source": [
    "# Setup"
   ]
  },
  {
   "cell_type": "code",
   "execution_count": 2,
   "metadata": {},
   "outputs": [],
   "source": [
    "import pandas as pd\n",
    "import numpy as np\n",
    "import requests \n",
    "from bs4 import BeautifulSoup\n",
    "import re"
   ]
  },
  {
   "cell_type": "markdown",
   "metadata": {},
   "source": [
    "# Data Cleaning"
   ]
  },
  {
   "cell_type": "markdown",
   "metadata": {},
   "source": [
    "Describe your data cleaning steps here."
   ]
  },
  {
   "cell_type": "code",
   "execution_count": 6,
   "metadata": {},
   "outputs": [
    {
     "output_type": "execute_result",
     "data": {
      "text/plain": [
       "          Date  Open  High   Low  Close  percent_change\n",
       "0     1/6/2020  7349  7603  7327   7574        0.030616\n",
       "1     1/4/2020  7334  7529  6880   7349        0.002045\n",
       "2   12/28/2019  7145  7696  7087   7334        0.026452\n",
       "3   12/21/2019  7092  7447  6459   7147        0.007755\n",
       "4   12/14/2019  7510  7665  7022   7092       -0.055659\n",
       "..         ...   ...   ...   ...    ...             ...\n",
       "49    2/2/2019  3583  3591  3371   3462       -0.033771\n",
       "50   1/26/2019  3728  3731  3447   3583       -0.038895\n",
       "51   1/19/2019  3656  3784  3516   3727        0.019420\n",
       "52   1/12/2019  3880  4136  3608   3655       -0.057990\n",
       "53    1/5/2019  3722  3964  3697   3880        0.042450\n",
       "\n",
       "[108 rows x 6 columns]"
      ],
      "text/html": "<div>\n<style scoped>\n    .dataframe tbody tr th:only-of-type {\n        vertical-align: middle;\n    }\n\n    .dataframe tbody tr th {\n        vertical-align: top;\n    }\n\n    .dataframe thead th {\n        text-align: right;\n    }\n</style>\n<table border=\"1\" class=\"dataframe\">\n  <thead>\n    <tr style=\"text-align: right;\">\n      <th></th>\n      <th>Date</th>\n      <th>Open</th>\n      <th>High</th>\n      <th>Low</th>\n      <th>Close</th>\n      <th>percent_change</th>\n    </tr>\n  </thead>\n  <tbody>\n    <tr>\n      <th>0</th>\n      <td>1/6/2020</td>\n      <td>7349</td>\n      <td>7603</td>\n      <td>7327</td>\n      <td>7574</td>\n      <td>0.030616</td>\n    </tr>\n    <tr>\n      <th>1</th>\n      <td>1/4/2020</td>\n      <td>7334</td>\n      <td>7529</td>\n      <td>6880</td>\n      <td>7349</td>\n      <td>0.002045</td>\n    </tr>\n    <tr>\n      <th>2</th>\n      <td>12/28/2019</td>\n      <td>7145</td>\n      <td>7696</td>\n      <td>7087</td>\n      <td>7334</td>\n      <td>0.026452</td>\n    </tr>\n    <tr>\n      <th>3</th>\n      <td>12/21/2019</td>\n      <td>7092</td>\n      <td>7447</td>\n      <td>6459</td>\n      <td>7147</td>\n      <td>0.007755</td>\n    </tr>\n    <tr>\n      <th>4</th>\n      <td>12/14/2019</td>\n      <td>7510</td>\n      <td>7665</td>\n      <td>7022</td>\n      <td>7092</td>\n      <td>-0.055659</td>\n    </tr>\n    <tr>\n      <th>...</th>\n      <td>...</td>\n      <td>...</td>\n      <td>...</td>\n      <td>...</td>\n      <td>...</td>\n      <td>...</td>\n    </tr>\n    <tr>\n      <th>49</th>\n      <td>2/2/2019</td>\n      <td>3583</td>\n      <td>3591</td>\n      <td>3371</td>\n      <td>3462</td>\n      <td>-0.033771</td>\n    </tr>\n    <tr>\n      <th>50</th>\n      <td>1/26/2019</td>\n      <td>3728</td>\n      <td>3731</td>\n      <td>3447</td>\n      <td>3583</td>\n      <td>-0.038895</td>\n    </tr>\n    <tr>\n      <th>51</th>\n      <td>1/19/2019</td>\n      <td>3656</td>\n      <td>3784</td>\n      <td>3516</td>\n      <td>3727</td>\n      <td>0.019420</td>\n    </tr>\n    <tr>\n      <th>52</th>\n      <td>1/12/2019</td>\n      <td>3880</td>\n      <td>4136</td>\n      <td>3608</td>\n      <td>3655</td>\n      <td>-0.057990</td>\n    </tr>\n    <tr>\n      <th>53</th>\n      <td>1/5/2019</td>\n      <td>3722</td>\n      <td>3964</td>\n      <td>3697</td>\n      <td>3880</td>\n      <td>0.042450</td>\n    </tr>\n  </tbody>\n</table>\n<p>108 rows × 6 columns</p>\n</div>"
     },
     "metadata": {},
     "execution_count": 6
    }
   ],
   "source": [
    "\n",
    "# weekly price data from 01/05/2019 - 01/06/2020\n",
    "df = pd.read_csv('btc_2019.csv')\n",
    "\n",
    "#remove commas from values in order to typcast into int\n",
    "df = df.replace(',','', regex=True)\n",
    "df = df.astype({'Open': 'int32', 'High': 'int32', 'Low': 'int32', 'Close': 'int32'})\n",
    "\n",
    "# create a new column containg the percent change for the week\n",
    "df = df.assign(percent_change = (df['Close'] - df['Open']) / df['Open'])\n",
    "\n",
    "#weekly price data from 01/11/2020 - 01/12/2021\n",
    "df_2020 = pd.read_csv('btc_2020.csv')\n",
    "df_2020 = df.replace(',','', regex=True)\n",
    "df_2020 = df.astype({'Open': 'int32', 'High': 'int32', 'Low': 'int32', 'Close': 'int32'})\n",
    "df_2020 = df_2020.assign(percent_change = (df['Close'] - df['Open']) / df['Open'])\n",
    "\n",
    "# concatenate both years' data\n",
    "df.append(df_2020)\n",
    "\n",
    "# Our data was already mostly clean we only had to typecast the strings into integers and remove commas\n",
    "# We then added a column which contains percent change which is what we will use to determine\n",
    "# if bitcoins price correlates to the amount of tweets containing #Bitcoin\n",
    "# The data sets were split up by year so we had to concatenate them as well\n"
   ]
  },
  {
   "source": [],
   "cell_type": "markdown",
   "metadata": {}
  },
  {
   "cell_type": "code",
   "execution_count": 25,
   "metadata": {},
   "outputs": [
    {
     "output_type": "execute_result",
     "data": {
      "text/plain": [
       "            Date BTC- Tweets\n",
       "0     2014/04/09        8193\n",
       "1     2014/04/10       15039\n",
       "2     2014/04/11       14907\n",
       "3     2014/04/12        7582\n",
       "4     2014/04/13       10674\n",
       "...          ...         ...\n",
       "2581  2021/05/03       89710\n",
       "2582  2021/05/04       87287\n",
       "2583  2021/05/05       93866\n",
       "2584  2021/05/06       84935\n",
       "2585  2021/05/07       11452\n",
       "\n",
       "[2586 rows x 2 columns]"
      ],
      "text/html": "<div>\n<style scoped>\n    .dataframe tbody tr th:only-of-type {\n        vertical-align: middle;\n    }\n\n    .dataframe tbody tr th {\n        vertical-align: top;\n    }\n\n    .dataframe thead th {\n        text-align: right;\n    }\n</style>\n<table border=\"1\" class=\"dataframe\">\n  <thead>\n    <tr style=\"text-align: right;\">\n      <th></th>\n      <th>Date</th>\n      <th>BTC- Tweets</th>\n    </tr>\n  </thead>\n  <tbody>\n    <tr>\n      <th>0</th>\n      <td>2014/04/09</td>\n      <td>8193</td>\n    </tr>\n    <tr>\n      <th>1</th>\n      <td>2014/04/10</td>\n      <td>15039</td>\n    </tr>\n    <tr>\n      <th>2</th>\n      <td>2014/04/11</td>\n      <td>14907</td>\n    </tr>\n    <tr>\n      <th>3</th>\n      <td>2014/04/12</td>\n      <td>7582</td>\n    </tr>\n    <tr>\n      <th>4</th>\n      <td>2014/04/13</td>\n      <td>10674</td>\n    </tr>\n    <tr>\n      <th>...</th>\n      <td>...</td>\n      <td>...</td>\n    </tr>\n    <tr>\n      <th>2581</th>\n      <td>2021/05/03</td>\n      <td>89710</td>\n    </tr>\n    <tr>\n      <th>2582</th>\n      <td>2021/05/04</td>\n      <td>87287</td>\n    </tr>\n    <tr>\n      <th>2583</th>\n      <td>2021/05/05</td>\n      <td>93866</td>\n    </tr>\n    <tr>\n      <th>2584</th>\n      <td>2021/05/06</td>\n      <td>84935</td>\n    </tr>\n    <tr>\n      <th>2585</th>\n      <td>2021/05/07</td>\n      <td>11452</td>\n    </tr>\n  </tbody>\n</table>\n<p>2586 rows × 2 columns</p>\n</div>"
     },
     "metadata": {},
     "execution_count": 25
    }
   ],
   "source": [
    "# We found this web scraping script at https://stackoverflow.com/questions/47730259/installing-urllib-in-python3-6 \n",
    "# and made some minor modifications in order to fit to our needs in terms of retrieving the amount of tweets on a daily basis.\n",
    "# We have to further clean the data by extracting all days between 01/05/2019 - 01/12/2021 and then \n",
    "# grouping the data into a weekly format (sum amount of tweets  for all days in a given week) \n",
    "# in order to match our Bitcoin price dataset\n",
    "\n",
    "def parse_strlist(sl):\n",
    "    clean = re.sub(\"[\\[\\],\\s]\",\"\",sl)\n",
    "    splitted = re.split(\"[\\'\\\"]\",clean)\n",
    "    values_only = [s for s in splitted if s != '']\n",
    "    return values_only\n",
    "\n",
    "\n",
    "url = 'https://bitinfocharts.com/comparison/tweets-btc.html#3y'\n",
    "response = requests.get(url)\n",
    "soup = BeautifulSoup(response.text, 'html.parser')\n",
    "\n",
    "scripts = soup.find_all('script', text=True)\n",
    "for script in scripts:\n",
    "    if 'd = new Dygraph(document.getElementById(\"container\")' in str(script):\n",
    "        StrList = str(script)\n",
    "        StrList = '[[' + StrList.split('[[')[-1]\n",
    "        StrList = StrList.split(']]')[0] +']]'\n",
    "        StrList = StrList.replace(\"new Date(\", '').replace(')','')\n",
    "        dataList = parse_strlist(StrList)\n",
    "\n",
    "        date = []\n",
    "        tweet = []\n",
    "        for each in dataList:\n",
    "            if (dataList.index(each) % 2) == 0:\n",
    "                date.append(each)\n",
    "            else:\n",
    "                tweet.append(each)\n",
    "        tweet_df = pd.DataFrame(list(zip(date, tweet)), columns=[\"Date\",\"BTC- Tweets\"])\n",
    "tweet_df"
   ]
  },
  {
   "cell_type": "code",
   "execution_count": 38,
   "metadata": {},
   "outputs": [
    {
     "output_type": "execute_result",
     "data": {
      "text/plain": [
       "            Date BTC- Tweets\n",
       "1728  2019/01/01       17069\n",
       "1729  2019/01/02       18830\n",
       "1730  2019/01/03       26754\n",
       "1731  2019/01/04       21139\n",
       "1732  2019/01/05       20096\n",
       "...          ...         ...\n",
       "2581  2021/05/03       89710\n",
       "2582  2021/05/04       87287\n",
       "2583  2021/05/05       93866\n",
       "2584  2021/05/06       84935\n",
       "2585  2021/05/07       11452\n",
       "\n",
       "[858 rows x 2 columns]"
      ],
      "text/html": "<div>\n<style scoped>\n    .dataframe tbody tr th:only-of-type {\n        vertical-align: middle;\n    }\n\n    .dataframe tbody tr th {\n        vertical-align: top;\n    }\n\n    .dataframe thead th {\n        text-align: right;\n    }\n</style>\n<table border=\"1\" class=\"dataframe\">\n  <thead>\n    <tr style=\"text-align: right;\">\n      <th></th>\n      <th>Date</th>\n      <th>BTC- Tweets</th>\n    </tr>\n  </thead>\n  <tbody>\n    <tr>\n      <th>1728</th>\n      <td>2019/01/01</td>\n      <td>17069</td>\n    </tr>\n    <tr>\n      <th>1729</th>\n      <td>2019/01/02</td>\n      <td>18830</td>\n    </tr>\n    <tr>\n      <th>1730</th>\n      <td>2019/01/03</td>\n      <td>26754</td>\n    </tr>\n    <tr>\n      <th>1731</th>\n      <td>2019/01/04</td>\n      <td>21139</td>\n    </tr>\n    <tr>\n      <th>1732</th>\n      <td>2019/01/05</td>\n      <td>20096</td>\n    </tr>\n    <tr>\n      <th>...</th>\n      <td>...</td>\n      <td>...</td>\n    </tr>\n    <tr>\n      <th>2581</th>\n      <td>2021/05/03</td>\n      <td>89710</td>\n    </tr>\n    <tr>\n      <th>2582</th>\n      <td>2021/05/04</td>\n      <td>87287</td>\n    </tr>\n    <tr>\n      <th>2583</th>\n      <td>2021/05/05</td>\n      <td>93866</td>\n    </tr>\n    <tr>\n      <th>2584</th>\n      <td>2021/05/06</td>\n      <td>84935</td>\n    </tr>\n    <tr>\n      <th>2585</th>\n      <td>2021/05/07</td>\n      <td>11452</td>\n    </tr>\n  </tbody>\n</table>\n<p>858 rows × 2 columns</p>\n</div>"
     },
     "metadata": {},
     "execution_count": 38
    }
   ],
   "source": [
    "# select all records from 2019\n",
    "tweets_2019 = tweet_df[tweet_df.Date.str.contains(\"2019\", na=False)]\n",
    "# select all records from 2020\n",
    "tweets_2020 = tweet_df[tweet_df.Date.str.contains(\"2020\", na=False)]\n",
    "# select all records from 2021\n",
    "tweets_2021 = tweet_df[tweet_df.Date.str.contains(\"2021\", na=False)]\n",
    "\n",
    "#combine into one df \n",
    "tweets = tweets_2019.append(tweets_2020)\n",
    "tweets = tweets.append(tweets_2021)\n",
    "tweets"
   ]
  },
  {
   "cell_type": "code",
   "execution_count": 39,
   "metadata": {},
   "outputs": [
    {
     "output_type": "execute_result",
     "data": {
      "text/plain": [
       "            Date BTC- Tweets\n",
       "1728  2019/01/01       17069\n",
       "1729  2019/01/02       18830\n",
       "1730  2019/01/03       26754\n",
       "1731  2019/01/04       21139\n",
       "1732  2019/01/05       20096\n",
       "...          ...         ...\n",
       "2485  2021/01/27       60652\n",
       "2486  2021/01/28       84933\n",
       "2487  2021/01/29      200783\n",
       "2488  2021/01/30       93578\n",
       "2489  2021/01/31       68163\n",
       "\n",
       "[762 rows x 2 columns]"
      ],
      "text/html": "<div>\n<style scoped>\n    .dataframe tbody tr th:only-of-type {\n        vertical-align: middle;\n    }\n\n    .dataframe tbody tr th {\n        vertical-align: top;\n    }\n\n    .dataframe thead th {\n        text-align: right;\n    }\n</style>\n<table border=\"1\" class=\"dataframe\">\n  <thead>\n    <tr style=\"text-align: right;\">\n      <th></th>\n      <th>Date</th>\n      <th>BTC- Tweets</th>\n    </tr>\n  </thead>\n  <tbody>\n    <tr>\n      <th>1728</th>\n      <td>2019/01/01</td>\n      <td>17069</td>\n    </tr>\n    <tr>\n      <th>1729</th>\n      <td>2019/01/02</td>\n      <td>18830</td>\n    </tr>\n    <tr>\n      <th>1730</th>\n      <td>2019/01/03</td>\n      <td>26754</td>\n    </tr>\n    <tr>\n      <th>1731</th>\n      <td>2019/01/04</td>\n      <td>21139</td>\n    </tr>\n    <tr>\n      <th>1732</th>\n      <td>2019/01/05</td>\n      <td>20096</td>\n    </tr>\n    <tr>\n      <th>...</th>\n      <td>...</td>\n      <td>...</td>\n    </tr>\n    <tr>\n      <th>2485</th>\n      <td>2021/01/27</td>\n      <td>60652</td>\n    </tr>\n    <tr>\n      <th>2486</th>\n      <td>2021/01/28</td>\n      <td>84933</td>\n    </tr>\n    <tr>\n      <th>2487</th>\n      <td>2021/01/29</td>\n      <td>200783</td>\n    </tr>\n    <tr>\n      <th>2488</th>\n      <td>2021/01/30</td>\n      <td>93578</td>\n    </tr>\n    <tr>\n      <th>2489</th>\n      <td>2021/01/31</td>\n      <td>68163</td>\n    </tr>\n  </tbody>\n</table>\n<p>762 rows × 2 columns</p>\n</div>"
     },
     "metadata": {},
     "execution_count": 39
    }
   ],
   "source": [
    "# drop any dates in 2021 which are not in januaray since our sample is from 01/05/2019 - 01/12/2021\n",
    "exclude = tweets[tweets.Date.str.contains('2021/02')]\n",
    "tweets = tweets[~tweets.isin(exclude)].dropna()\n",
    "exclude = tweets[tweets.Date.str.contains('2021/03')]\n",
    "tweets = tweets[~tweets.isin(exclude)].dropna()\n",
    "exclude = tweets[tweets.Date.str.contains('2021/04')]\n",
    "tweets = tweets[~tweets.isin(exclude)].dropna()\n",
    "exclude = tweets[tweets.Date.str.contains('2021/05')]\n",
    "tweets = tweets[~tweets.isin(exclude)].dropna()\n",
    "tweets\n",
    "\n",
    "\n",
    "\n"
   ]
  },
  {
   "cell_type": "code",
   "execution_count": null,
   "metadata": {},
   "outputs": [],
   "source": []
  }
 ],
 "metadata": {
  "kernelspec": {
   "name": "python390jvsc74a57bd063fd5069d213b44bf678585dea6b12cceca9941eaf7f819626cde1f2670de90d",
   "display_name": "Python 3.9.0 64-bit"
  },
  "language_info": {
   "codemirror_mode": {
    "name": "ipython",
    "version": 3
   },
   "file_extension": ".py",
   "mimetype": "text/x-python",
   "name": "python",
   "nbconvert_exporter": "python",
   "pygments_lexer": "ipython3",
   "version": "3.9.0"
  },
  "metadata": {
   "interpreter": {
    "hash": "63fd5069d213b44bf678585dea6b12cceca9941eaf7f819626cde1f2670de90d"
   }
  }
 },
 "nbformat": 4,
 "nbformat_minor": 2
}