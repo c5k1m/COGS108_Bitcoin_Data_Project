{
 "cells": [
  {
   "cell_type": "markdown",
   "metadata": {},
   "source": [
    "# COGS 108 - Data Checkpoint"
   ]
  },
  {
   "cell_type": "markdown",
   "metadata": {},
   "source": [
    "# Names\n",
    "\n",
    "- Andrew Hernandez\n",
    "- Austin Nguyen\n",
    "- Christian Kim\n",
    "- Kevin De Silva Jayasinghe"
   ]
  },
  {
   "cell_type": "markdown",
   "metadata": {},
   "source": [
    "<a id='research_question'></a>\n",
    "# Research Question"
   ]
  },
  {
   "cell_type": "markdown",
   "metadata": {},
   "source": [
    "*Does an increase in tweets with the hashtag description '#bitcoin' correlate with an increase in bitcoin price? What time frame relationship holds the strongest correlation?*\n",
    "- Does the number of tweets about bitcoin in one week correlate with the change in price of bitcoin the next week?\n",
    "- Is there a relationship between the number of tweets on a given day, and the change in price of bitcoin the day after?"
   ]
  },
  {
   "cell_type": "markdown",
   "metadata": {},
   "source": [
    "# Dataset(s)"
   ]
  },
  {
   "cell_type": "markdown",
   "metadata": {},
   "source": [
    "*Fill in your dataset information here*\n",
    "\n",
    "(Copy this information for each dataset)\n",
    "- Dataset Name: Bitcoin USD Price Data\n",
    "- Link to the dataset: https://www.marketwatch.com/investing/cryptocurrency/btcusd/download-data\n",
    "- Number of observations: 731\n",
    "\n",
    "This data set contains price history between 2019-2020 for Bitcoin on a daily basis showing open, high, low and close price. \n",
    "\n",
    "\n",
    "- Dataset Name: Bitcoin Tweets Historical chart\n",
    "- Link to the dataset: https://bitinfocharts.com/comparison/tweets-btc-ltc-eth.html#3y\n",
    "- Number of observations: 731\n",
    "\n",
    "This dataset is from a website that tracks the number of tweets with the hashtag phrase '#Bitcoin' per each day from 4-09-2014 to present day; however, we will only be using data from 01/01/2019 - 12/31/2020. We have made the decision to decrease our sample size and focus on a specific time period in order to examine this volatility and overall prices changes more closely on a per-week basis rather than examining years upon years of the dataset. By doing so, we will get a better idea whether a correlation between the increase in twitter tweets with the phrase #Bitcoin and an increase in Bitcoin price existed during this time frame.\n",
    "\n",
    "- Dataset Name: Twitter Monthly Active\n",
    "- Link to the dataset: https://www.businessofapps.com/data/twitter-statistics/\n",
    "- Number of observations: 8\n",
    "\n",
    "This Dataset was manually collected from the link above which illustrates the number of monthly active users broken down by quarter. We plan on using this dataset to normalize our tweet data because the number of monthly active users overtime affects the number of tweets containing #Bitcoin.\n",
    "\n",
    "We plan on combining these datasets by analyzing them statistically overtime and plotting the correlation between the normalized number of tweets (which we can get by using the Twitter Monthly Active and Bitcoin Tweets Historical chart datasets) containing #Bitcoin and the price of Bitcoin. Both datasets will have identical Date times for corresponding records (specific day and/or week timeframe) where we can then add a column for the number of tweets contianing #Bitcoin for that given Date.\n"
   ]
  },
  {
   "cell_type": "markdown",
   "metadata": {},
   "source": [
    "# Setup"
   ]
  },
  {
   "cell_type": "code",
   "execution_count": 24,
   "metadata": {},
   "outputs": [],
   "source": [
    "import pandas as pd\n",
    "import numpy as np\n",
    "import requests \n",
    "from bs4 import BeautifulSoup\n",
    "import re\n",
    "import patsy\n",
    "import statsmodels.api as sm\n",
    "import matplotlib as mpl\n",
    "import matplotlib.pyplot as plt\n",
    "import matplotlib.style as style\n",
    "import seaborn as sns"
   ]
  },
  {
   "cell_type": "markdown",
   "metadata": {},
   "source": [
    "# Data Cleaning"
   ]
  },
  {
   "cell_type": "markdown",
   "metadata": {},
   "source": [
    "Describe your data cleaning steps here."
   ]
  },
  {
   "cell_type": "code",
   "execution_count": 2,
   "metadata": {},
   "outputs": [
    {
     "output_type": "stream",
     "name": "stdout",
     "text": [
      "    DateTimeGroup   Open  Close\n0      2019-01-01   3722   4040\n1      2019-01-08   4041   3693\n2      2019-01-15   3693   3537\n3      2019-01-22   3537   3442\n4      2019-01-29   3442   3445\n..            ...    ...    ...\n100    2020-12-01  19380  19087\n101    2020-12-08  19087  19201\n102    2020-12-15  19199  23146\n103    2020-12-22  23138  26634\n104    2020-12-29  26606  28966\n\n[105 rows x 3 columns]\n"
     ]
    },
    {
     "output_type": "execute_result",
     "data": {
      "text/plain": [
       "           Date   Open   High    Low  Close  PriceChange   DateTime  \\\n",
       "0    12/31/2020  28898  29298  27989  28966           68 2020-12-31   \n",
       "1    12/30/2020  26870  28980  26870  28896         2026 2020-12-30   \n",
       "2    12/29/2020  26606  27164  25926  26870          264 2020-12-29   \n",
       "3    12/28/2020  26303  27404  26136  26634          331 2020-12-28   \n",
       "4    12/27/2020  26666  28326  25824  26303         -363 2020-12-27   \n",
       "..          ...    ...    ...    ...    ...          ...        ...   \n",
       "360  01/05/2019   3878   3912   3859   3880            2 2019-01-05   \n",
       "361  01/04/2019   3840   3895   3774   3878           38 2019-01-04   \n",
       "362  01/03/2019   3937   3964   3813   3841          -96 2019-01-03   \n",
       "363  01/02/2019   3767   3943   3757   3931          164 2019-01-02   \n",
       "364  01/01/2019   3722   3788   3697   3769           47 2019-01-01   \n",
       "\n",
       "    DateTimeGroup  \n",
       "0      2020-12-25  \n",
       "1      2020-12-24  \n",
       "2      2020-12-23  \n",
       "3      2020-12-22  \n",
       "4      2020-12-21  \n",
       "..            ...  \n",
       "360    2018-12-30  \n",
       "361    2018-12-29  \n",
       "362    2018-12-28  \n",
       "363    2018-12-27  \n",
       "364    2018-12-26  \n",
       "\n",
       "[731 rows x 8 columns]"
      ],
      "text/html": "<div>\n<style scoped>\n    .dataframe tbody tr th:only-of-type {\n        vertical-align: middle;\n    }\n\n    .dataframe tbody tr th {\n        vertical-align: top;\n    }\n\n    .dataframe thead th {\n        text-align: right;\n    }\n</style>\n<table border=\"1\" class=\"dataframe\">\n  <thead>\n    <tr style=\"text-align: right;\">\n      <th></th>\n      <th>Date</th>\n      <th>Open</th>\n      <th>High</th>\n      <th>Low</th>\n      <th>Close</th>\n      <th>PriceChange</th>\n      <th>DateTime</th>\n      <th>DateTimeGroup</th>\n    </tr>\n  </thead>\n  <tbody>\n    <tr>\n      <th>0</th>\n      <td>12/31/2020</td>\n      <td>28898</td>\n      <td>29298</td>\n      <td>27989</td>\n      <td>28966</td>\n      <td>68</td>\n      <td>2020-12-31</td>\n      <td>2020-12-25</td>\n    </tr>\n    <tr>\n      <th>1</th>\n      <td>12/30/2020</td>\n      <td>26870</td>\n      <td>28980</td>\n      <td>26870</td>\n      <td>28896</td>\n      <td>2026</td>\n      <td>2020-12-30</td>\n      <td>2020-12-24</td>\n    </tr>\n    <tr>\n      <th>2</th>\n      <td>12/29/2020</td>\n      <td>26606</td>\n      <td>27164</td>\n      <td>25926</td>\n      <td>26870</td>\n      <td>264</td>\n      <td>2020-12-29</td>\n      <td>2020-12-23</td>\n    </tr>\n    <tr>\n      <th>3</th>\n      <td>12/28/2020</td>\n      <td>26303</td>\n      <td>27404</td>\n      <td>26136</td>\n      <td>26634</td>\n      <td>331</td>\n      <td>2020-12-28</td>\n      <td>2020-12-22</td>\n    </tr>\n    <tr>\n      <th>4</th>\n      <td>12/27/2020</td>\n      <td>26666</td>\n      <td>28326</td>\n      <td>25824</td>\n      <td>26303</td>\n      <td>-363</td>\n      <td>2020-12-27</td>\n      <td>2020-12-21</td>\n    </tr>\n    <tr>\n      <th>...</th>\n      <td>...</td>\n      <td>...</td>\n      <td>...</td>\n      <td>...</td>\n      <td>...</td>\n      <td>...</td>\n      <td>...</td>\n      <td>...</td>\n    </tr>\n    <tr>\n      <th>360</th>\n      <td>01/05/2019</td>\n      <td>3878</td>\n      <td>3912</td>\n      <td>3859</td>\n      <td>3880</td>\n      <td>2</td>\n      <td>2019-01-05</td>\n      <td>2018-12-30</td>\n    </tr>\n    <tr>\n      <th>361</th>\n      <td>01/04/2019</td>\n      <td>3840</td>\n      <td>3895</td>\n      <td>3774</td>\n      <td>3878</td>\n      <td>38</td>\n      <td>2019-01-04</td>\n      <td>2018-12-29</td>\n    </tr>\n    <tr>\n      <th>362</th>\n      <td>01/03/2019</td>\n      <td>3937</td>\n      <td>3964</td>\n      <td>3813</td>\n      <td>3841</td>\n      <td>-96</td>\n      <td>2019-01-03</td>\n      <td>2018-12-28</td>\n    </tr>\n    <tr>\n      <th>363</th>\n      <td>01/02/2019</td>\n      <td>3767</td>\n      <td>3943</td>\n      <td>3757</td>\n      <td>3931</td>\n      <td>164</td>\n      <td>2019-01-02</td>\n      <td>2018-12-27</td>\n    </tr>\n    <tr>\n      <th>364</th>\n      <td>01/01/2019</td>\n      <td>3722</td>\n      <td>3788</td>\n      <td>3697</td>\n      <td>3769</td>\n      <td>47</td>\n      <td>2019-01-01</td>\n      <td>2018-12-26</td>\n    </tr>\n  </tbody>\n</table>\n<p>731 rows × 8 columns</p>\n</div>"
     },
     "metadata": {},
     "execution_count": 2
    }
   ],
   "source": [
    "# Get daily bitcoin price from 01/01/2019 - 12/31/2019\n",
    "btc_2019 = pd.read_csv('btc_2019.csv')\n",
    "\n",
    "# Get daily bitcoin price from 01/01/2020 - 12/31/2020\n",
    "btc_2020 = pd.read_csv('btc_2020.csv')\n",
    "\n",
    "# Concatenate both years' data together into one dataframe\n",
    "btc_2019_2020 = pd.concat([btc_2020, btc_2019])\n",
    "\n",
    "# Remove commas of the open, high, low, and close to cast into int\n",
    "btc_2019_2020 = btc_2019_2020.replace(',', '', regex=True)\n",
    "\n",
    "# Cast the open, high, low, and close into ints so we can perform calculations on these values\n",
    "btc_2019_2020 = btc_2019_2020.astype({'Open': 'int32', 'High': 'int32', 'Low': 'int32', 'Close': 'int32'})\n",
    "\n",
    "# Create a new column called PriceChange which will be the difference between the close and open price.\n",
    "# We will use this to tell how much the price changed (will be used in measuring the correlation)\n",
    "btc_2019_2020 = btc_2019_2020.assign(PriceChange = (btc_2019_2020['Close'] - btc_2019_2020['Open']))\n",
    "\n",
    "# Create a new column which converts the Date into DateTime so it is easier to work with and graph\n",
    "btc_2019_2020['DateTime'] = pd.to_datetime(btc_2019_2020['Date'])\n",
    "\n",
    "# Create a new column which converts the Date into DateTime and subtract 6 days so we can group the daily prices into weekly prices\n",
    "# We will use this to group the data into weeks for the second part of the research question\n",
    "btc_2019_2020['DateTimeGroup'] = pd.to_datetime(btc_2019_2020['Date']) - pd.to_timedelta(6, unit='d')\n",
    "\n",
    "# Create two dataframes where the first gets the opening price of the week and the second gets the closing price of the week.\n",
    "# The keys will be the same so we can merge them to create a single table\n",
    "btc_2019_2020_weekly_open = btc_2019_2020.groupby(pd.Grouper(key='DateTimeGroup', freq='W-TUE'))[['Open']].first().reset_index().sort_values('DateTimeGroup')\n",
    "btc_2019_2020_weekly_close = btc_2019_2020.groupby(pd.Grouper(key='DateTimeGroup', freq='W-TUE'))[['Close']].last().reset_index().sort_values('DateTimeGroup')\n",
    "\n",
    "# Merge the two previous btc_2019_2020_weekly_open and btc_2019_2020_weekly_close tables.\n",
    "# This weekly form of the dataset has the key of the first day of the week (where we know the end date is the day before the next key)\n",
    "btc_2019_2020_weekly = pd.merge(btc_2019_2020_weekly_open, btc_2019_2020_weekly_close, on=['DateTimeGroup'])\n",
    "\n",
    "print(btc_2019_2020_weekly)\n",
    "btc_2019_2020\n",
    "# The datasets were split up by year so we had to concatenate\n",
    "# The data was already mostly clean so we only had to typecast the strings into integers and remove commas\n",
    "# We then added a column which contains PriceChange which is what we will use to determine\n",
    "# if the increase in tweets with the hashtag description '#bitcoin' correlates with an increase in bitcoin price\n",
    "# We also added a column for datetime to make it easy to work with and to create a dataframe where we group it by weekly prices\n"
   ]
  },
  {
   "source": [],
   "cell_type": "markdown",
   "metadata": {}
  },
  {
   "cell_type": "code",
   "execution_count": 3,
   "metadata": {
    "tags": []
   },
   "outputs": [
    {
     "output_type": "execute_result",
     "data": {
      "text/plain": [
       "            Date  BTC - Tweets\n",
       "0     2014/04/09          8193\n",
       "1     2014/04/10         15039\n",
       "2     2014/04/11         14907\n",
       "3     2014/04/12          7582\n",
       "4     2014/04/13         10674\n",
       "...          ...           ...\n",
       "2591  2021/05/13        249599\n",
       "2592  2021/05/14        120644\n",
       "2593  2021/05/15         95522\n",
       "2594  2021/05/16        148557\n",
       "2595  2021/05/17         39944\n",
       "\n",
       "[2540 rows x 2 columns]"
      ],
      "text/html": "<div>\n<style scoped>\n    .dataframe tbody tr th:only-of-type {\n        vertical-align: middle;\n    }\n\n    .dataframe tbody tr th {\n        vertical-align: top;\n    }\n\n    .dataframe thead th {\n        text-align: right;\n    }\n</style>\n<table border=\"1\" class=\"dataframe\">\n  <thead>\n    <tr style=\"text-align: right;\">\n      <th></th>\n      <th>Date</th>\n      <th>BTC - Tweets</th>\n    </tr>\n  </thead>\n  <tbody>\n    <tr>\n      <th>0</th>\n      <td>2014/04/09</td>\n      <td>8193</td>\n    </tr>\n    <tr>\n      <th>1</th>\n      <td>2014/04/10</td>\n      <td>15039</td>\n    </tr>\n    <tr>\n      <th>2</th>\n      <td>2014/04/11</td>\n      <td>14907</td>\n    </tr>\n    <tr>\n      <th>3</th>\n      <td>2014/04/12</td>\n      <td>7582</td>\n    </tr>\n    <tr>\n      <th>4</th>\n      <td>2014/04/13</td>\n      <td>10674</td>\n    </tr>\n    <tr>\n      <th>...</th>\n      <td>...</td>\n      <td>...</td>\n    </tr>\n    <tr>\n      <th>2591</th>\n      <td>2021/05/13</td>\n      <td>249599</td>\n    </tr>\n    <tr>\n      <th>2592</th>\n      <td>2021/05/14</td>\n      <td>120644</td>\n    </tr>\n    <tr>\n      <th>2593</th>\n      <td>2021/05/15</td>\n      <td>95522</td>\n    </tr>\n    <tr>\n      <th>2594</th>\n      <td>2021/05/16</td>\n      <td>148557</td>\n    </tr>\n    <tr>\n      <th>2595</th>\n      <td>2021/05/17</td>\n      <td>39944</td>\n    </tr>\n  </tbody>\n</table>\n<p>2540 rows × 2 columns</p>\n</div>"
     },
     "metadata": {},
     "execution_count": 3
    }
   ],
   "source": [
    "# We found this web scraping script at https://stackoverflow.com/questions/47730259/installing-urllib-in-python3-6 \n",
    "# and made some minor modifications in order to fit to our needs in terms of retrieving the amount of tweets on a daily basis.\n",
    "# We have to further clean the data by extracting all days between 01/01/2019 - 12/31/2020 and then \n",
    "# grouping the data into a weekly format (sum amount of tweets for all days in a given week) \n",
    "# in order answer the second part of our question\n",
    "\n",
    "# Function to clean the string\n",
    "def parse_strlist(sl):\n",
    "    # Remove the uncessary commans and brackets\n",
    "    clean = re.sub(\"[\\[\\],\\s]\",\"\",sl)\n",
    "    # Split the remaining text by \" to a list where a date is followed by the number of tweets\n",
    "    splitted = re.split(\"[\\'\\\"]\",clean)\n",
    "    # Filter out empty segments of the array since the \" occurs at the beginning leading to an empty string in the list\n",
    "    values_only = [s for s in splitted if s != '']\n",
    "    return values_only\n",
    "\n",
    "# Make a request to the website with the dataset and parse its html\n",
    "url = 'https://bitinfocharts.com/comparison/tweets-btc.html#3y'\n",
    "response = requests.get(url)\n",
    "soup = BeautifulSoup(response.text, 'html.parser')\n",
    "\n",
    "# Since the data is stored in the script tags we will search in there\n",
    "scripts = soup.find_all('script', text=True)\n",
    "for script in scripts:\n",
    "    # The script tag we are looking for contains this content inside so we will parse it if we find this string inside\n",
    "    if 'd = new Dygraph(document.getElementById(\"container\")' in str(script):\n",
    "        # Since there are various things inside the script tag, we will search for the array holding the date specifically\n",
    "        StrList = str(script)\n",
    "        StrList = '[[' + StrList.split('[[')[-1]\n",
    "        StrList = StrList.split(']]')[0] +']]'\n",
    "        # We will replace the js date parser surrounding the date we want\n",
    "        StrList = StrList.replace(\"new Date(\", '').replace(')','')\n",
    "        # Parse the string into an list so we can create the dataframe\n",
    "        dataList = parse_strlist(StrList)\n",
    "\n",
    "        # Make a dataframe from the parsed data\n",
    "        date = []\n",
    "        tweet = []\n",
    "        for each in dataList:\n",
    "            if (dataList.index(each) % 2) == 0:\n",
    "                date.append(each)\n",
    "            else:\n",
    "                tweet.append(each)\n",
    "        tweet_df = pd.DataFrame(list(zip(date, tweet)), columns=[\"Date\",\"BTC - Tweets\"])\n",
    "\n",
    "# This dataframe has one null value so we will need to remove it\n",
    "tweet_df = tweet_df[tweet_df[\"BTC - Tweets\"] != \"null\"]\n",
    "\n",
    "# Cast the tweet count into ints so we can perform calculations on these values\n",
    "tweet_df = tweet_df.astype({'BTC - Tweets': 'int64'})\n",
    "\n",
    "tweet_df"
   ]
  },
  {
   "cell_type": "code",
   "execution_count": 4,
   "metadata": {},
   "outputs": [
    {
     "output_type": "stream",
     "name": "stdout",
     "text": [
      "            Date  BTC - Tweets   DateTime DateTimeGroup\n",
      "1728  2019/01/01         17069 2019-01-01    2018-12-26\n",
      "1729  2019/01/02         18830 2019-01-02    2018-12-27\n",
      "1730  2019/01/03         26754 2019-01-03    2018-12-28\n",
      "1731  2019/01/04         21139 2019-01-04    2018-12-29\n",
      "1732  2019/01/05         20096 2019-01-05    2018-12-30\n",
      "...          ...           ...        ...           ...\n",
      "2454  2020/12/27         88788 2020-12-27    2020-12-21\n",
      "2455  2020/12/28         59779 2020-12-28    2020-12-22\n",
      "2456  2020/12/29         56236 2020-12-29    2020-12-23\n",
      "2457  2020/12/30         80886 2020-12-30    2020-12-24\n",
      "2458  2020/12/31         68822 2020-12-31    2020-12-25\n",
      "\n",
      "[730 rows x 4 columns]\n",
      "ipykernel_launcher:5: SettingWithCopyWarning: \n",
      "A value is trying to be set on a copy of a slice from a DataFrame.\n",
      "Try using .loc[row_indexer,col_indexer] = value instead\n",
      "\n",
      "See the caveats in the documentation: https://pandas.pydata.org/pandas-docs/stable/user_guide/indexing.html#returning-a-view-versus-a-copy\n",
      "ipykernel_launcher:9: SettingWithCopyWarning: \n",
      "A value is trying to be set on a copy of a slice from a DataFrame.\n",
      "Try using .loc[row_indexer,col_indexer] = value instead\n",
      "\n",
      "See the caveats in the documentation: https://pandas.pydata.org/pandas-docs/stable/user_guide/indexing.html#returning-a-view-versus-a-copy\n"
     ]
    },
    {
     "output_type": "execute_result",
     "data": {
      "text/plain": [
       "    DateTimeGroup  BTC - Tweets\n",
       "0      2019-01-01        143247\n",
       "1      2019-01-08        132086\n",
       "2      2019-01-15        130601\n",
       "3      2019-01-22        125986\n",
       "4      2019-01-29        123895\n",
       "..            ...           ...\n",
       "100    2020-12-01        323904\n",
       "101    2020-12-08        278768\n",
       "102    2020-12-15        539526\n",
       "103    2020-12-22        402965\n",
       "104    2020-12-29        205944\n",
       "\n",
       "[105 rows x 2 columns]"
      ],
      "text/html": "<div>\n<style scoped>\n    .dataframe tbody tr th:only-of-type {\n        vertical-align: middle;\n    }\n\n    .dataframe tbody tr th {\n        vertical-align: top;\n    }\n\n    .dataframe thead th {\n        text-align: right;\n    }\n</style>\n<table border=\"1\" class=\"dataframe\">\n  <thead>\n    <tr style=\"text-align: right;\">\n      <th></th>\n      <th>DateTimeGroup</th>\n      <th>BTC - Tweets</th>\n    </tr>\n  </thead>\n  <tbody>\n    <tr>\n      <th>0</th>\n      <td>2019-01-01</td>\n      <td>143247</td>\n    </tr>\n    <tr>\n      <th>1</th>\n      <td>2019-01-08</td>\n      <td>132086</td>\n    </tr>\n    <tr>\n      <th>2</th>\n      <td>2019-01-15</td>\n      <td>130601</td>\n    </tr>\n    <tr>\n      <th>3</th>\n      <td>2019-01-22</td>\n      <td>125986</td>\n    </tr>\n    <tr>\n      <th>4</th>\n      <td>2019-01-29</td>\n      <td>123895</td>\n    </tr>\n    <tr>\n      <th>...</th>\n      <td>...</td>\n      <td>...</td>\n    </tr>\n    <tr>\n      <th>100</th>\n      <td>2020-12-01</td>\n      <td>323904</td>\n    </tr>\n    <tr>\n      <th>101</th>\n      <td>2020-12-08</td>\n      <td>278768</td>\n    </tr>\n    <tr>\n      <th>102</th>\n      <td>2020-12-15</td>\n      <td>539526</td>\n    </tr>\n    <tr>\n      <th>103</th>\n      <td>2020-12-22</td>\n      <td>402965</td>\n    </tr>\n    <tr>\n      <th>104</th>\n      <td>2020-12-29</td>\n      <td>205944</td>\n    </tr>\n  </tbody>\n</table>\n<p>105 rows × 2 columns</p>\n</div>"
     },
     "metadata": {},
     "execution_count": 4
    }
   ],
   "source": [
    "# Filter our tweet dataframe so that we only include the tweet counts from the years 2019 and 2020\n",
    "tweets_2019_2020 = tweet_df[(tweet_df.Date.str.contains(\"2019\", na=False)) | (tweet_df.Date.str.contains(\"2020\", na=False))]\n",
    "\n",
    "# Create a new column which converts the Date into DateTime so it is easier to work with and graph\n",
    "tweets_2019_2020['DateTime'] = pd.to_datetime(tweets_2019_2020['Date'])\n",
    "\n",
    "# Create a new column which converts the Date into DateTime and subtract 6 days so we can group the daily tweet count into tweet count prices\n",
    "# We will use this to group the data into weeks for the second part of the research question\n",
    "tweets_2019_2020['DateTimeGroup'] = pd.to_datetime(tweets_2019_2020['Date']) - pd.to_timedelta(6, unit='d')\n",
    "\n",
    "# Group the number of tweets by week\n",
    "tweets_2019_2020_weekly = tweets_2019_2020.groupby(pd.Grouper(key='DateTimeGroup', freq='W-TUE'))[['BTC - Tweets']].sum().reset_index().sort_values('DateTimeGroup')\n",
    "\n",
    "print(tweets_2019_2020)\n",
    "tweets_2019_2020_weekly"
   ]
  },
  {
   "cell_type": "code",
   "execution_count": 5,
   "metadata": {},
   "outputs": [
    {
     "output_type": "execute_result",
     "data": {
      "text/plain": [
       "  Quarter  Year          MUA\n",
       "0      Q1  2019  330000000.0\n",
       "1      Q2  2019  330000000.0\n",
       "2      Q3  2019  330000000.0\n",
       "3      Q4  2019  340000000.0\n",
       "4      Q1  2020  326000000.0\n",
       "5      Q2  2020  326000000.0\n",
       "6      Q3  2020  353000000.0\n",
       "7      Q4  2020          NaN"
      ],
      "text/html": "<div>\n<style scoped>\n    .dataframe tbody tr th:only-of-type {\n        vertical-align: middle;\n    }\n\n    .dataframe tbody tr th {\n        vertical-align: top;\n    }\n\n    .dataframe thead th {\n        text-align: right;\n    }\n</style>\n<table border=\"1\" class=\"dataframe\">\n  <thead>\n    <tr style=\"text-align: right;\">\n      <th></th>\n      <th>Quarter</th>\n      <th>Year</th>\n      <th>MUA</th>\n    </tr>\n  </thead>\n  <tbody>\n    <tr>\n      <th>0</th>\n      <td>Q1</td>\n      <td>2019</td>\n      <td>330000000.0</td>\n    </tr>\n    <tr>\n      <th>1</th>\n      <td>Q2</td>\n      <td>2019</td>\n      <td>330000000.0</td>\n    </tr>\n    <tr>\n      <th>2</th>\n      <td>Q3</td>\n      <td>2019</td>\n      <td>330000000.0</td>\n    </tr>\n    <tr>\n      <th>3</th>\n      <td>Q4</td>\n      <td>2019</td>\n      <td>340000000.0</td>\n    </tr>\n    <tr>\n      <th>4</th>\n      <td>Q1</td>\n      <td>2020</td>\n      <td>326000000.0</td>\n    </tr>\n    <tr>\n      <th>5</th>\n      <td>Q2</td>\n      <td>2020</td>\n      <td>326000000.0</td>\n    </tr>\n    <tr>\n      <th>6</th>\n      <td>Q3</td>\n      <td>2020</td>\n      <td>353000000.0</td>\n    </tr>\n    <tr>\n      <th>7</th>\n      <td>Q4</td>\n      <td>2020</td>\n      <td>NaN</td>\n    </tr>\n  </tbody>\n</table>\n</div>"
     },
     "metadata": {},
     "execution_count": 5
    }
   ],
   "source": [
    "# Manually create a dataframe with monthly twitter users from \"Twitter Monthly Active\"\n",
    "twitter_monthly_users_data = { 'Quarter': ['Q1', 'Q2', 'Q3', 'Q4', 'Q1', 'Q2', 'Q3', 'Q4'],\n",
    "         'Year': [2019,2019,2019,2019,2020,2020,2020,2020],\n",
    "         'MUA':  [330000000,330000000,330000000,340000000,326000000,326000000,353000000,np.nan]}\n",
    "\n",
    "twitter_monthly_users = pd.DataFrame(twitter_monthly_users_data)\n",
    "twitter_monthly_users"
   ]
  },
  {
   "cell_type": "code",
   "execution_count": 21,
   "metadata": {},
   "outputs": [
    {
     "output_type": "execute_result",
     "data": {
      "text/plain": [
       "    DateTimeGroup   Open  Close   %_change  tweets tweet_week   p_change\n",
       "0      2019-01-01   3722   4040   8.543794  143247 2019-01-01   8.543794\n",
       "1      2019-01-08   4041   3693  -8.611730  132086 2019-01-08  -8.611730\n",
       "2      2019-01-15   3693   3537  -4.224208  130601 2019-01-15  -4.224208\n",
       "3      2019-01-22   3537   3442  -2.685892  125986 2019-01-22  -2.685892\n",
       "4      2019-01-29   3442   3445   0.087159  123895 2019-01-29   0.087159\n",
       "..            ...    ...    ...        ...     ...        ...        ...\n",
       "100    2020-12-01  19380  19087  -1.511868  323904 2020-12-01  -1.511868\n",
       "101    2020-12-08  19087  19201   0.597265  278768 2020-12-08   0.597265\n",
       "102    2020-12-15  19199  23146  20.558362  539526 2020-12-15  20.558362\n",
       "103    2020-12-22  23138  26634  15.109344  402965 2020-12-22  15.109344\n",
       "104    2020-12-29  26606  28966   8.870180  205944 2020-12-29   8.870180\n",
       "\n",
       "[105 rows x 7 columns]"
      ],
      "text/html": "<div>\n<style scoped>\n    .dataframe tbody tr th:only-of-type {\n        vertical-align: middle;\n    }\n\n    .dataframe tbody tr th {\n        vertical-align: top;\n    }\n\n    .dataframe thead th {\n        text-align: right;\n    }\n</style>\n<table border=\"1\" class=\"dataframe\">\n  <thead>\n    <tr style=\"text-align: right;\">\n      <th></th>\n      <th>DateTimeGroup</th>\n      <th>Open</th>\n      <th>Close</th>\n      <th>%_change</th>\n      <th>tweets</th>\n      <th>tweet_week</th>\n      <th>p_change</th>\n    </tr>\n  </thead>\n  <tbody>\n    <tr>\n      <th>0</th>\n      <td>2019-01-01</td>\n      <td>3722</td>\n      <td>4040</td>\n      <td>8.543794</td>\n      <td>143247</td>\n      <td>2019-01-01</td>\n      <td>8.543794</td>\n    </tr>\n    <tr>\n      <th>1</th>\n      <td>2019-01-08</td>\n      <td>4041</td>\n      <td>3693</td>\n      <td>-8.611730</td>\n      <td>132086</td>\n      <td>2019-01-08</td>\n      <td>-8.611730</td>\n    </tr>\n    <tr>\n      <th>2</th>\n      <td>2019-01-15</td>\n      <td>3693</td>\n      <td>3537</td>\n      <td>-4.224208</td>\n      <td>130601</td>\n      <td>2019-01-15</td>\n      <td>-4.224208</td>\n    </tr>\n    <tr>\n      <th>3</th>\n      <td>2019-01-22</td>\n      <td>3537</td>\n      <td>3442</td>\n      <td>-2.685892</td>\n      <td>125986</td>\n      <td>2019-01-22</td>\n      <td>-2.685892</td>\n    </tr>\n    <tr>\n      <th>4</th>\n      <td>2019-01-29</td>\n      <td>3442</td>\n      <td>3445</td>\n      <td>0.087159</td>\n      <td>123895</td>\n      <td>2019-01-29</td>\n      <td>0.087159</td>\n    </tr>\n    <tr>\n      <th>...</th>\n      <td>...</td>\n      <td>...</td>\n      <td>...</td>\n      <td>...</td>\n      <td>...</td>\n      <td>...</td>\n      <td>...</td>\n    </tr>\n    <tr>\n      <th>100</th>\n      <td>2020-12-01</td>\n      <td>19380</td>\n      <td>19087</td>\n      <td>-1.511868</td>\n      <td>323904</td>\n      <td>2020-12-01</td>\n      <td>-1.511868</td>\n    </tr>\n    <tr>\n      <th>101</th>\n      <td>2020-12-08</td>\n      <td>19087</td>\n      <td>19201</td>\n      <td>0.597265</td>\n      <td>278768</td>\n      <td>2020-12-08</td>\n      <td>0.597265</td>\n    </tr>\n    <tr>\n      <th>102</th>\n      <td>2020-12-15</td>\n      <td>19199</td>\n      <td>23146</td>\n      <td>20.558362</td>\n      <td>539526</td>\n      <td>2020-12-15</td>\n      <td>20.558362</td>\n    </tr>\n    <tr>\n      <th>103</th>\n      <td>2020-12-22</td>\n      <td>23138</td>\n      <td>26634</td>\n      <td>15.109344</td>\n      <td>402965</td>\n      <td>2020-12-22</td>\n      <td>15.109344</td>\n    </tr>\n    <tr>\n      <th>104</th>\n      <td>2020-12-29</td>\n      <td>26606</td>\n      <td>28966</td>\n      <td>8.870180</td>\n      <td>205944</td>\n      <td>2020-12-29</td>\n      <td>8.870180</td>\n    </tr>\n  </tbody>\n</table>\n<p>105 rows × 7 columns</p>\n</div>"
     },
     "metadata": {},
     "execution_count": 21
    }
   ],
   "source": [
    "btc_2019_2020_weekly['p_change'] = 100 * ((btc_2019_2020_weekly['Close'] - btc_2019_2020_weekly['Open'])/(btc_2019_2020_weekly['Open']))\n",
    "btc_2019_2020_weekly\n",
    "\n",
    "btc_2019_2020_weekly['tweets'] = tweets_2019_2020_weekly['BTC - Tweets']\n",
    "btc_2019_2020_weekly['tweet_week'] = tweets_2019_2020_weekly['DateTimeGroup']  # sanity check making sure correct weeks ae being added\n",
    "btc_2019_2020_weekly\n"
   ]
  },
  {
   "cell_type": "code",
   "execution_count": 22,
   "metadata": {},
   "outputs": [
    {
     "output_type": "stream",
     "name": "stdout",
     "text": [
      "                            OLS Regression Results                            \n==============================================================================\nDep. Variable:               p_change   R-squared:                       0.060\nModel:                            OLS   Adj. R-squared:                  0.051\nMethod:                 Least Squares   F-statistic:                     6.533\nDate:                Sun, 16 May 2021   Prob (F-statistic):             0.0121\nTime:                        23:05:16   Log-Likelihood:                -385.50\nNo. Observations:                 105   AIC:                             775.0\nDf Residuals:                     103   BIC:                             780.3\nDf Model:                           1                                         \nCovariance Type:            nonrobust                                         \n==============================================================================\n                 coef    std err          t      P>|t|      [0.025      0.975]\n------------------------------------------------------------------------------\nIntercept     -3.3679      2.462     -1.368      0.174      -8.251       1.515\ntweets      3.127e-05   1.22e-05      2.556      0.012    7.01e-06    5.55e-05\n==============================================================================\nOmnibus:                       15.855   Durbin-Watson:                   2.120\nProb(Omnibus):                  0.000   Jarque-Bera (JB):               63.827\nSkew:                           0.142   Prob(JB):                     1.38e-14\nKurtosis:                       6.809   Cond. No.                     5.29e+05\n==============================================================================\n\nNotes:\n[1] Standard Errors assume that the covariance matrix of the errors is correctly specified.\n[2] The condition number is large, 5.29e+05. This might indicate that there are\nstrong multicollinearity or other numerical problems.\n"
     ]
    }
   ],
   "source": [
    "outcome, predictors = patsy.dmatrices('p_change ~ tweets', btc_2019_2020_weekly)\n",
    "mod = sm.OLS(outcome, predictors)\n",
    "res = mod.fit() \n",
    "print(res.summary())\n"
   ]
  },
  {
   "cell_type": "code",
   "execution_count": 25,
   "metadata": {},
   "outputs": [
    {
     "output_type": "display_data",
     "data": {
      "text/plain": "<Figure size 432x288 with 1 Axes>",
      "image/svg+xml": "<?xml version=\"1.0\" encoding=\"utf-8\" standalone=\"no\"?>\r\n<!DOCTYPE svg PUBLIC \"-//W3C//DTD SVG 1.1//EN\"\r\n  \"http://www.w3.org/Graphics/SVG/1.1/DTD/svg11.dtd\">\r\n<svg height=\"262.19625pt\" version=\"1.1\" viewBox=\"0 0 391.260937 262.19625\" width=\"391.260937pt\" xmlns=\"http://www.w3.org/2000/svg\" xmlns:xlink=\"http://www.w3.org/1999/xlink\">\r\n <metadata>\r\n  <rdf:RDF xmlns:cc=\"http://creativecommons.org/ns#\" xmlns:dc=\"http://purl.org/dc/elements/1.1/\" xmlns:rdf=\"http://www.w3.org/1999/02/22-rdf-syntax-ns#\">\r\n   <cc:Work>\r\n    <dc:type rdf:resource=\"http://purl.org/dc/dcmitype/StillImage\"/>\r\n    <dc:date>2021-05-16T23:11:40.728300</dc:date>\r\n    <dc:format>image/svg+xml</dc:format>\r\n    <dc:creator>\r\n     <cc:Agent>\r\n      <dc:title>Matplotlib v3.4.2, https://matplotlib.org/</dc:title>\r\n     </cc:Agent>\r\n    </dc:creator>\r\n   </cc:Work>\r\n  </rdf:RDF>\r\n </metadata>\r\n <defs>\r\n  <style type=\"text/css\">*{stroke-linecap:butt;stroke-linejoin:round;}</style>\r\n </defs>\r\n <g id=\"figure_1\">\r\n  <g id=\"patch_1\">\r\n   <path d=\"M 0 262.19625 \r\nL 391.260937 262.19625 \r\nL 391.260937 0 \r\nL 0 0 \r\nz\r\n\" style=\"fill:none;\"/>\r\n  </g>\r\n  <g id=\"axes_1\">\r\n   <g id=\"patch_2\">\r\n    <path d=\"M 49.260938 224.64 \r\nL 384.060938 224.64 \r\nL 384.060938 7.2 \r\nL 49.260938 7.2 \r\nz\r\n\" style=\"fill:#ffffff;\"/>\r\n   </g>\r\n   <g id=\"PathCollection_1\">\r\n    <defs>\r\n     <path d=\"M 0 5 \r\nC 1.326016 5 2.597899 4.473168 3.535534 3.535534 \r\nC 4.473168 2.597899 5 1.326016 5 0 \r\nC 5 -1.326016 4.473168 -2.597899 3.535534 -3.535534 \r\nC 2.597899 -4.473168 1.326016 -5 0 -5 \r\nC -1.326016 -5 -2.597899 -4.473168 -3.535534 -3.535534 \r\nC -4.473168 -2.597899 -5 -1.326016 -5 0 \r\nC -5 1.326016 -4.473168 2.597899 -3.535534 3.535534 \r\nC -2.597899 4.473168 -1.326016 5 0 5 \r\nz\r\n\" id=\"m6e14ddf954\" style=\"stroke:#ffffff;stroke-opacity:0.3;stroke-width:0.8;\"/>\r\n    </defs>\r\n    <g clip-path=\"url(#p71cf439548)\">\r\n     <use style=\"fill:#1f77b4;fill-opacity:0.3;stroke:#ffffff;stroke-opacity:0.3;stroke-width:0.8;\" x=\"91.34841\" xlink:href=\"#m6e14ddf954\" y=\"88.806493\"/>\r\n     <use style=\"fill:#1f77b4;fill-opacity:0.3;stroke:#ffffff;stroke-opacity:0.3;stroke-width:0.8;\" x=\"83.53292\" xlink:href=\"#m6e14ddf954\" y=\"135.624376\"/>\r\n     <use style=\"fill:#1f77b4;fill-opacity:0.3;stroke:#ffffff;stroke-opacity:0.3;stroke-width:0.8;\" x=\"82.493049\" xlink:href=\"#m6e14ddf954\" y=\"123.650711\"/>\r\n     <use style=\"fill:#1f77b4;fill-opacity:0.3;stroke:#ffffff;stroke-opacity:0.3;stroke-width:0.8;\" x=\"79.261396\" xlink:href=\"#m6e14ddf954\" y=\"119.452606\"/>\r\n     <use style=\"fill:#1f77b4;fill-opacity:0.3;stroke:#ffffff;stroke-opacity:0.3;stroke-width:0.8;\" x=\"77.797173\" xlink:href=\"#m6e14ddf954\" y=\"111.884876\"/>\r\n     <use style=\"fill:#1f77b4;fill-opacity:0.3;stroke:#ffffff;stroke-opacity:0.3;stroke-width:0.8;\" x=\"82.376107\" xlink:href=\"#m6e14ddf954\" y=\"98.022103\"/>\r\n     <use style=\"fill:#1f77b4;fill-opacity:0.3;stroke:#ffffff;stroke-opacity:0.3;stroke-width:0.8;\" x=\"78.778223\" xlink:href=\"#m6e14ddf954\" y=\"92.010945\"/>\r\n     <use style=\"fill:#1f77b4;fill-opacity:0.3;stroke:#ffffff;stroke-opacity:0.3;stroke-width:0.8;\" x=\"84.291991\" xlink:href=\"#m6e14ddf954\" y=\"115.280518\"/>\r\n     <use style=\"fill:#1f77b4;fill-opacity:0.3;stroke:#ffffff;stroke-opacity:0.3;stroke-width:0.8;\" x=\"72.750472\" xlink:href=\"#m6e14ddf954\" y=\"120.003119\"/>\r\n     <use style=\"fill:#1f77b4;fill-opacity:0.3;stroke:#ffffff;stroke-opacity:0.3;stroke-width:0.8;\" x=\"77.821682\" xlink:href=\"#m6e14ddf954\" y=\"101.376232\"/>\r\n     <use style=\"fill:#1f77b4;fill-opacity:0.3;stroke:#ffffff;stroke-opacity:0.3;stroke-width:0.8;\" x=\"82.182138\" xlink:href=\"#m6e14ddf954\" y=\"103.187793\"/>\r\n     <use style=\"fill:#1f77b4;fill-opacity:0.3;stroke:#ffffff;stroke-opacity:0.3;stroke-width:0.8;\" x=\"75.681718\" xlink:href=\"#m6e14ddf954\" y=\"118.798836\"/>\r\n     <use style=\"fill:#1f77b4;fill-opacity:0.3;stroke:#ffffff;stroke-opacity:0.3;stroke-width:0.8;\" x=\"78.727105\" xlink:href=\"#m6e14ddf954\" y=\"95.511267\"/>\r\n     <use style=\"fill:#1f77b4;fill-opacity:0.3;stroke:#ffffff;stroke-opacity:0.3;stroke-width:0.8;\" x=\"101.676396\" xlink:href=\"#m6e14ddf954\" y=\"38.633754\"/>\r\n     <use style=\"fill:#1f77b4;fill-opacity:0.3;stroke:#ffffff;stroke-opacity:0.3;stroke-width:0.8;\" x=\"83.948168\" xlink:href=\"#m6e14ddf954\" y=\"124.350764\"/>\r\n     <use style=\"fill:#1f77b4;fill-opacity:0.3;stroke:#ffffff;stroke-opacity:0.3;stroke-width:0.8;\" x=\"79.546397\" xlink:href=\"#m6e14ddf954\" y=\"93.137257\"/>\r\n     <use style=\"fill:#1f77b4;fill-opacity:0.3;stroke:#ffffff;stroke-opacity:0.3;stroke-width:0.8;\" x=\"87.221137\" xlink:href=\"#m6e14ddf954\" y=\"119.273688\"/>\r\n     <use style=\"fill:#1f77b4;fill-opacity:0.3;stroke:#ffffff;stroke-opacity:0.3;stroke-width:0.8;\" x=\"89.33309\" xlink:href=\"#m6e14ddf954\" y=\"82.488837\"/>\r\n     <use style=\"fill:#1f77b4;fill-opacity:0.3;stroke:#ffffff;stroke-opacity:0.3;stroke-width:0.8;\" x=\"116.87252\" xlink:href=\"#m6e14ddf954\" y=\"17.083636\"/>\r\n     <use style=\"fill:#1f77b4;fill-opacity:0.3;stroke:#ffffff;stroke-opacity:0.3;stroke-width:0.8;\" x=\"116.069333\" xlink:href=\"#m6e14ddf954\" y=\"107.251958\"/>\r\n     <use style=\"fill:#1f77b4;fill-opacity:0.3;stroke:#ffffff;stroke-opacity:0.3;stroke-width:0.8;\" x=\"115.47202\" xlink:href=\"#m6e14ddf954\" y=\"85.871575\"/>\r\n     <use style=\"fill:#1f77b4;fill-opacity:0.3;stroke:#ffffff;stroke-opacity:0.3;stroke-width:0.8;\" x=\"103.380804\" xlink:href=\"#m6e14ddf954\" y=\"118.543241\"/>\r\n     <use style=\"fill:#1f77b4;fill-opacity:0.3;stroke:#ffffff;stroke-opacity:0.3;stroke-width:0.8;\" x=\"80.64789\" xlink:href=\"#m6e14ddf954\" y=\"131.403729\"/>\r\n     <use style=\"fill:#1f77b4;fill-opacity:0.3;stroke:#ffffff;stroke-opacity:0.3;stroke-width:0.8;\" x=\"80.644389\" xlink:href=\"#m6e14ddf954\" y=\"66.026398\"/>\r\n     <use style=\"fill:#1f77b4;fill-opacity:0.3;stroke:#ffffff;stroke-opacity:0.3;stroke-width:0.8;\" x=\"117.12531\" xlink:href=\"#m6e14ddf954\" y=\"65.232745\"/>\r\n     <use style=\"fill:#1f77b4;fill-opacity:0.3;stroke:#ffffff;stroke-opacity:0.3;stroke-width:0.8;\" x=\"122.970297\" xlink:href=\"#m6e14ddf954\" y=\"121.731277\"/>\r\n     <use style=\"fill:#1f77b4;fill-opacity:0.3;stroke:#ffffff;stroke-opacity:0.3;stroke-width:0.8;\" x=\"88.198686\" xlink:href=\"#m6e14ddf954\" y=\"66.990533\"/>\r\n     <use style=\"fill:#1f77b4;fill-opacity:0.3;stroke:#ffffff;stroke-opacity:0.3;stroke-width:0.8;\" x=\"104.005427\" xlink:href=\"#m6e14ddf954\" y=\"143.565092\"/>\r\n     <use style=\"fill:#1f77b4;fill-opacity:0.3;stroke:#ffffff;stroke-opacity:0.3;stroke-width:0.8;\" x=\"105.148936\" xlink:href=\"#m6e14ddf954\" y=\"124.296644\"/>\r\n     <use style=\"fill:#1f77b4;fill-opacity:0.3;stroke:#ffffff;stroke-opacity:0.3;stroke-width:0.8;\" x=\"82.206647\" xlink:href=\"#m6e14ddf954\" y=\"133.430452\"/>\r\n     <use style=\"fill:#1f77b4;fill-opacity:0.3;stroke:#ffffff;stroke-opacity:0.3;stroke-width:0.8;\" x=\"84.215664\" xlink:href=\"#m6e14ddf954\" y=\"48.85841\"/>\r\n     <use style=\"fill:#1f77b4;fill-opacity:0.3;stroke:#ffffff;stroke-opacity:0.3;stroke-width:0.8;\" x=\"78.355972\" xlink:href=\"#m6e14ddf954\" y=\"119.035493\"/>\r\n     <use style=\"fill:#1f77b4;fill-opacity:0.3;stroke:#ffffff;stroke-opacity:0.3;stroke-width:0.8;\" x=\"77.204061\" xlink:href=\"#m6e14ddf954\" y=\"130.056749\"/>\r\n     <use style=\"fill:#1f77b4;fill-opacity:0.3;stroke:#ffffff;stroke-opacity:0.3;stroke-width:0.8;\" x=\"72.284805\" xlink:href=\"#m6e14ddf954\" y=\"122.773218\"/>\r\n     <use style=\"fill:#1f77b4;fill-opacity:0.3;stroke:#ffffff;stroke-opacity:0.3;stroke-width:0.8;\" x=\"73.926191\" xlink:href=\"#m6e14ddf954\" y=\"108.482261\"/>\r\n     <use style=\"fill:#1f77b4;fill-opacity:0.3;stroke:#ffffff;stroke-opacity:0.3;stroke-width:0.8;\" x=\"74.905841\" xlink:href=\"#m6e14ddf954\" y=\"116.528197\"/>\r\n     <use style=\"fill:#1f77b4;fill-opacity:0.3;stroke:#ffffff;stroke-opacity:0.3;stroke-width:0.8;\" x=\"69.04755\" xlink:href=\"#m6e14ddf954\" y=\"112.842373\"/>\r\n     <use style=\"fill:#1f77b4;fill-opacity:0.3;stroke:#ffffff;stroke-opacity:0.3;stroke-width:0.8;\" x=\"73.295966\" xlink:href=\"#m6e14ddf954\" y=\"123.601572\"/>\r\n     <use style=\"fill:#1f77b4;fill-opacity:0.3;stroke:#ffffff;stroke-opacity:0.3;stroke-width:0.8;\" x=\"81.484689\" xlink:href=\"#m6e14ddf954\" y=\"155.186226\"/>\r\n     <use style=\"fill:#1f77b4;fill-opacity:0.3;stroke:#ffffff;stroke-opacity:0.3;stroke-width:0.8;\" x=\"67.322134\" xlink:href=\"#m6e14ddf954\" y=\"113.082494\"/>\r\n     <use style=\"fill:#1f77b4;fill-opacity:0.3;stroke:#ffffff;stroke-opacity:0.3;stroke-width:0.8;\" x=\"70.987242\" xlink:href=\"#m6e14ddf954\" y=\"107.974773\"/>\r\n     <use style=\"fill:#1f77b4;fill-opacity:0.3;stroke:#ffffff;stroke-opacity:0.3;stroke-width:0.8;\" x=\"71.158803\" xlink:href=\"#m6e14ddf954\" y=\"116.633523\"/>\r\n     <use style=\"fill:#1f77b4;fill-opacity:0.3;stroke:#ffffff;stroke-opacity:0.3;stroke-width:0.8;\" x=\"88.534105\" xlink:href=\"#m6e14ddf954\" y=\"70.37803\"/>\r\n     <use style=\"fill:#1f77b4;fill-opacity:0.3;stroke:#ffffff;stroke-opacity:0.3;stroke-width:0.8;\" x=\"74.968163\" xlink:href=\"#m6e14ddf954\" y=\"112.526565\"/>\r\n     <use style=\"fill:#1f77b4;fill-opacity:0.3;stroke:#ffffff;stroke-opacity:0.3;stroke-width:0.8;\" x=\"69.913059\" xlink:href=\"#m6e14ddf954\" y=\"132.430831\"/>\r\n     <use style=\"fill:#1f77b4;fill-opacity:0.3;stroke:#ffffff;stroke-opacity:0.3;stroke-width:0.8;\" x=\"71.606263\" xlink:href=\"#m6e14ddf954\" y=\"128.133608\"/>\r\n     <use style=\"fill:#1f77b4;fill-opacity:0.3;stroke:#ffffff;stroke-opacity:0.3;stroke-width:0.8;\" x=\"87.423509\" xlink:href=\"#m6e14ddf954\" y=\"145.112428\"/>\r\n     <use style=\"fill:#1f77b4;fill-opacity:0.3;stroke:#ffffff;stroke-opacity:0.3;stroke-width:0.8;\" x=\"81.799101\" xlink:href=\"#m6e14ddf954\" y=\"108.53985\"/>\r\n     <use style=\"fill:#1f77b4;fill-opacity:0.3;stroke:#ffffff;stroke-opacity:0.3;stroke-width:0.8;\" x=\"68.287779\" xlink:href=\"#m6e14ddf954\" y=\"110.484797\"/>\r\n     <use style=\"fill:#1f77b4;fill-opacity:0.3;stroke:#ffffff;stroke-opacity:0.3;stroke-width:0.8;\" x=\"67.885135\" xlink:href=\"#m6e14ddf954\" y=\"129.857151\"/>\r\n     <use style=\"fill:#1f77b4;fill-opacity:0.3;stroke:#ffffff;stroke-opacity:0.3;stroke-width:0.8;\" x=\"83.241616\" xlink:href=\"#m6e14ddf954\" y=\"94.858433\"/>\r\n     <use style=\"fill:#1f77b4;fill-opacity:0.3;stroke:#ffffff;stroke-opacity:0.3;stroke-width:0.8;\" x=\"64.479119\" xlink:href=\"#m6e14ddf954\" y=\"114.878575\"/>\r\n     <use style=\"fill:#1f77b4;fill-opacity:0.3;stroke:#ffffff;stroke-opacity:0.3;stroke-width:0.8;\" x=\"69.864742\" xlink:href=\"#m6e14ddf954\" y=\"100.084017\"/>\r\n     <use style=\"fill:#1f77b4;fill-opacity:0.3;stroke:#ffffff;stroke-opacity:0.3;stroke-width:0.8;\" x=\"79.35803\" xlink:href=\"#m6e14ddf954\" y=\"92.174445\"/>\r\n     <use style=\"fill:#1f77b4;fill-opacity:0.3;stroke:#ffffff;stroke-opacity:0.3;stroke-width:0.8;\" x=\"83.117672\" xlink:href=\"#m6e14ddf954\" y=\"94.204374\"/>\r\n     <use style=\"fill:#1f77b4;fill-opacity:0.3;stroke:#ffffff;stroke-opacity:0.3;stroke-width:0.8;\" x=\"75.421225\" xlink:href=\"#m6e14ddf954\" y=\"103.085805\"/>\r\n     <use style=\"fill:#1f77b4;fill-opacity:0.3;stroke:#ffffff;stroke-opacity:0.3;stroke-width:0.8;\" x=\"133.119719\" xlink:href=\"#m6e14ddf954\" y=\"102.156331\"/>\r\n     <use style=\"fill:#1f77b4;fill-opacity:0.3;stroke:#ffffff;stroke-opacity:0.3;stroke-width:0.8;\" x=\"136.473216\" xlink:href=\"#m6e14ddf954\" y=\"94.950537\"/>\r\n     <use style=\"fill:#1f77b4;fill-opacity:0.3;stroke:#ffffff;stroke-opacity:0.3;stroke-width:0.8;\" x=\"118.677064\" xlink:href=\"#m6e14ddf954\" y=\"118.015109\"/>\r\n     <use style=\"fill:#1f77b4;fill-opacity:0.3;stroke:#ffffff;stroke-opacity:0.3;stroke-width:0.8;\" x=\"124.398106\" xlink:href=\"#m6e14ddf954\" y=\"113.423214\"/>\r\n     <use style=\"fill:#1f77b4;fill-opacity:0.3;stroke:#ffffff;stroke-opacity:0.3;stroke-width:0.8;\" x=\"115.27595\" xlink:href=\"#m6e14ddf954\" y=\"130.757497\"/>\r\n     <use style=\"fill:#1f77b4;fill-opacity:0.3;stroke:#ffffff;stroke-opacity:0.3;stroke-width:0.8;\" x=\"111.145876\" xlink:href=\"#m6e14ddf954\" y=\"145.412472\"/>\r\n     <use style=\"fill:#1f77b4;fill-opacity:0.3;stroke:#ffffff;stroke-opacity:0.3;stroke-width:0.8;\" x=\"136.90527\" xlink:href=\"#m6e14ddf954\" y=\"214.756364\"/>\r\n     <use style=\"fill:#1f77b4;fill-opacity:0.3;stroke:#ffffff;stroke-opacity:0.3;stroke-width:0.8;\" x=\"125.410668\" xlink:href=\"#m6e14ddf954\" y=\"28.426644\"/>\r\n     <use style=\"fill:#1f77b4;fill-opacity:0.3;stroke:#ffffff;stroke-opacity:0.3;stroke-width:0.8;\" x=\"113.197608\" xlink:href=\"#m6e14ddf954\" y=\"109.612013\"/>\r\n     <use style=\"fill:#1f77b4;fill-opacity:0.3;stroke:#ffffff;stroke-opacity:0.3;stroke-width:0.8;\" x=\"132.440477\" xlink:href=\"#m6e14ddf954\" y=\"77.578092\"/>\r\n     <use style=\"fill:#1f77b4;fill-opacity:0.3;stroke:#ffffff;stroke-opacity:0.3;stroke-width:0.8;\" x=\"125.80981\" xlink:href=\"#m6e14ddf954\" y=\"129.735391\"/>\r\n     <use style=\"fill:#1f77b4;fill-opacity:0.3;stroke:#ffffff;stroke-opacity:0.3;stroke-width:0.8;\" x=\"135.188257\" xlink:href=\"#m6e14ddf954\" y=\"107.966447\"/>\r\n     <use style=\"fill:#1f77b4;fill-opacity:0.3;stroke:#ffffff;stroke-opacity:0.3;stroke-width:0.8;\" x=\"157.536034\" xlink:href=\"#m6e14ddf954\" y=\"80.03283\"/>\r\n     <use style=\"fill:#1f77b4;fill-opacity:0.3;stroke:#ffffff;stroke-opacity:0.3;stroke-width:0.8;\" x=\"208.694894\" xlink:href=\"#m6e14ddf954\" y=\"69.021663\"/>\r\n     <use style=\"fill:#1f77b4;fill-opacity:0.3;stroke:#ffffff;stroke-opacity:0.3;stroke-width:0.8;\" x=\"262.170881\" xlink:href=\"#m6e14ddf954\" y=\"121.107437\"/>\r\n     <use style=\"fill:#1f77b4;fill-opacity:0.3;stroke:#ffffff;stroke-opacity:0.3;stroke-width:0.8;\" x=\"205.82527\" xlink:href=\"#m6e14ddf954\" y=\"79.005318\"/>\r\n     <use style=\"fill:#1f77b4;fill-opacity:0.3;stroke:#ffffff;stroke-opacity:0.3;stroke-width:0.8;\" x=\"159.332175\" xlink:href=\"#m6e14ddf954\" y=\"133.737394\"/>\r\n     <use style=\"fill:#1f77b4;fill-opacity:0.3;stroke:#ffffff;stroke-opacity:0.3;stroke-width:0.8;\" x=\"151.959944\" xlink:href=\"#m6e14ddf954\" y=\"88.434647\"/>\r\n     <use style=\"fill:#1f77b4;fill-opacity:0.3;stroke:#ffffff;stroke-opacity:0.3;stroke-width:0.8;\" x=\"151.505482\" xlink:href=\"#m6e14ddf954\" y=\"111.050426\"/>\r\n     <use style=\"fill:#1f77b4;fill-opacity:0.3;stroke:#ffffff;stroke-opacity:0.3;stroke-width:0.8;\" x=\"146.478387\" xlink:href=\"#m6e14ddf954\" y=\"118.447084\"/>\r\n     <use style=\"fill:#1f77b4;fill-opacity:0.3;stroke:#ffffff;stroke-opacity:0.3;stroke-width:0.8;\" x=\"125.391761\" xlink:href=\"#m6e14ddf954\" y=\"107.604574\"/>\r\n     <use style=\"fill:#1f77b4;fill-opacity:0.3;stroke:#ffffff;stroke-opacity:0.3;stroke-width:0.8;\" x=\"144.058323\" xlink:href=\"#m6e14ddf954\" y=\"125.201681\"/>\r\n     <use style=\"fill:#1f77b4;fill-opacity:0.3;stroke:#ffffff;stroke-opacity:0.3;stroke-width:0.8;\" x=\"117.305275\" xlink:href=\"#m6e14ddf954\" y=\"109.119884\"/>\r\n     <use style=\"fill:#1f77b4;fill-opacity:0.3;stroke:#ffffff;stroke-opacity:0.3;stroke-width:0.8;\" x=\"104.578932\" xlink:href=\"#m6e14ddf954\" y=\"112.799183\"/>\r\n     <use style=\"fill:#1f77b4;fill-opacity:0.3;stroke:#ffffff;stroke-opacity:0.3;stroke-width:0.8;\" x=\"141.533922\" xlink:href=\"#m6e14ddf954\" y=\"114.422476\"/>\r\n     <use style=\"fill:#1f77b4;fill-opacity:0.3;stroke:#ffffff;stroke-opacity:0.3;stroke-width:0.8;\" x=\"142.896609\" xlink:href=\"#m6e14ddf954\" y=\"62.04994\"/>\r\n     <use style=\"fill:#1f77b4;fill-opacity:0.3;stroke:#ffffff;stroke-opacity:0.3;stroke-width:0.8;\" x=\"162.500106\" xlink:href=\"#m6e14ddf954\" y=\"99.641742\"/>\r\n     <use style=\"fill:#1f77b4;fill-opacity:0.3;stroke:#ffffff;stroke-opacity:0.3;stroke-width:0.8;\" x=\"155.073955\" xlink:href=\"#m6e14ddf954\" y=\"100.642943\"/>\r\n     <use style=\"fill:#1f77b4;fill-opacity:0.3;stroke:#ffffff;stroke-opacity:0.3;stroke-width:0.8;\" x=\"163.46295\" xlink:href=\"#m6e14ddf954\" y=\"101.593763\"/>\r\n     <use style=\"fill:#1f77b4;fill-opacity:0.3;stroke:#ffffff;stroke-opacity:0.3;stroke-width:0.8;\" x=\"152.854863\" xlink:href=\"#m6e14ddf954\" y=\"125.136016\"/>\r\n     <use style=\"fill:#1f77b4;fill-opacity:0.3;stroke:#ffffff;stroke-opacity:0.3;stroke-width:0.8;\" x=\"144.505083\" xlink:href=\"#m6e14ddf954\" y=\"113.517111\"/>\r\n     <use style=\"fill:#1f77b4;fill-opacity:0.3;stroke:#ffffff;stroke-opacity:0.3;stroke-width:0.8;\" x=\"146.607233\" xlink:href=\"#m6e14ddf954\" y=\"148.159434\"/>\r\n     <use style=\"fill:#1f77b4;fill-opacity:0.3;stroke:#ffffff;stroke-opacity:0.3;stroke-width:0.8;\" x=\"133.776554\" xlink:href=\"#m6e14ddf954\" y=\"97.269424\"/>\r\n     <use style=\"fill:#1f77b4;fill-opacity:0.3;stroke:#ffffff;stroke-opacity:0.3;stroke-width:0.8;\" x=\"147.168834\" xlink:href=\"#m6e14ddf954\" y=\"117.684367\"/>\r\n     <use style=\"fill:#1f77b4;fill-opacity:0.3;stroke:#ffffff;stroke-opacity:0.3;stroke-width:0.8;\" x=\"172.351222\" xlink:href=\"#m6e14ddf954\" y=\"101.91395\"/>\r\n     <use style=\"fill:#1f77b4;fill-opacity:0.3;stroke:#ffffff;stroke-opacity:0.3;stroke-width:0.8;\" x=\"147.112113\" xlink:href=\"#m6e14ddf954\" y=\"115.38622\"/>\r\n     <use style=\"fill:#1f77b4;fill-opacity:0.3;stroke:#ffffff;stroke-opacity:0.3;stroke-width:0.8;\" x=\"167.512495\" xlink:href=\"#m6e14ddf954\" y=\"91.18495\"/>\r\n     <use style=\"fill:#1f77b4;fill-opacity:0.3;stroke:#ffffff;stroke-opacity:0.3;stroke-width:0.8;\" x=\"207.573794\" xlink:href=\"#m6e14ddf954\" y=\"108.158047\"/>\r\n     <use style=\"fill:#1f77b4;fill-opacity:0.3;stroke:#ffffff;stroke-opacity:0.3;stroke-width:0.8;\" x=\"186.543888\" xlink:href=\"#m6e14ddf954\" y=\"82.045752\"/>\r\n     <use style=\"fill:#1f77b4;fill-opacity:0.3;stroke:#ffffff;stroke-opacity:0.3;stroke-width:0.8;\" x=\"182.373899\" xlink:href=\"#m6e14ddf954\" y=\"99.614259\"/>\r\n     <use style=\"fill:#1f77b4;fill-opacity:0.3;stroke:#ffffff;stroke-opacity:0.3;stroke-width:0.8;\" x=\"195.754976\" xlink:href=\"#m6e14ddf954\" y=\"76.594689\"/>\r\n     <use style=\"fill:#1f77b4;fill-opacity:0.3;stroke:#ffffff;stroke-opacity:0.3;stroke-width:0.8;\" x=\"191.047895\" xlink:href=\"#m6e14ddf954\" y=\"88.630268\"/>\r\n     <use style=\"fill:#1f77b4;fill-opacity:0.3;stroke:#ffffff;stroke-opacity:0.3;stroke-width:0.8;\" x=\"252.730812\" xlink:href=\"#m6e14ddf954\" y=\"84.223549\"/>\r\n     <use style=\"fill:#1f77b4;fill-opacity:0.3;stroke:#ffffff;stroke-opacity:0.3;stroke-width:0.8;\" x=\"242.967927\" xlink:href=\"#m6e14ddf954\" y=\"97.943471\"/>\r\n     <use style=\"fill:#1f77b4;fill-opacity:0.3;stroke:#ffffff;stroke-opacity:0.3;stroke-width:0.8;\" x=\"217.853463\" xlink:href=\"#m6e14ddf954\" y=\"116.248663\"/>\r\n     <use style=\"fill:#1f77b4;fill-opacity:0.3;stroke:#ffffff;stroke-opacity:0.3;stroke-width:0.8;\" x=\"186.246982\" xlink:href=\"#m6e14ddf954\" y=\"110.492782\"/>\r\n     <use style=\"fill:#1f77b4;fill-opacity:0.3;stroke:#ffffff;stroke-opacity:0.3;stroke-width:0.8;\" x=\"368.842756\" xlink:href=\"#m6e14ddf954\" y=\"56.018413\"/>\r\n     <use style=\"fill:#1f77b4;fill-opacity:0.3;stroke:#ffffff;stroke-opacity:0.3;stroke-width:0.8;\" x=\"273.215924\" xlink:href=\"#m6e14ddf954\" y=\"70.88893\"/>\r\n     <use style=\"fill:#1f77b4;fill-opacity:0.3;stroke:#ffffff;stroke-opacity:0.3;stroke-width:0.8;\" x=\"135.25198\" xlink:href=\"#m6e14ddf954\" y=\"87.915777\"/>\r\n    </g>\r\n   </g>\r\n   <g id=\"matplotlib.axis_1\">\r\n    <g id=\"xtick_1\">\r\n     <g id=\"line2d_1\">\r\n      <defs>\r\n       <path d=\"M 0 0 \r\nL 0 3.5 \r\n\" id=\"m0ea9104d12\" style=\"stroke:#000000;stroke-width:0.8;\"/>\r\n      </defs>\r\n      <g>\r\n       <use style=\"stroke:#000000;stroke-width:0.8;\" x=\"61.064701\" xlink:href=\"#m0ea9104d12\" y=\"224.64\"/>\r\n      </g>\r\n     </g>\r\n     <g id=\"text_1\">\r\n      <!-- 100000 -->\r\n      <g transform=\"translate(41.977201 239.238437)scale(0.1 -0.1)\">\r\n       <defs>\r\n        <path d=\"M 794 531 \r\nL 1825 531 \r\nL 1825 4091 \r\nL 703 3866 \r\nL 703 4441 \r\nL 1819 4666 \r\nL 2450 4666 \r\nL 2450 531 \r\nL 3481 531 \r\nL 3481 0 \r\nL 794 0 \r\nL 794 531 \r\nz\r\n\" id=\"DejaVuSans-31\" transform=\"scale(0.015625)\"/>\r\n        <path d=\"M 2034 4250 \r\nQ 1547 4250 1301 3770 \r\nQ 1056 3291 1056 2328 \r\nQ 1056 1369 1301 889 \r\nQ 1547 409 2034 409 \r\nQ 2525 409 2770 889 \r\nQ 3016 1369 3016 2328 \r\nQ 3016 3291 2770 3770 \r\nQ 2525 4250 2034 4250 \r\nz\r\nM 2034 4750 \r\nQ 2819 4750 3233 4129 \r\nQ 3647 3509 3647 2328 \r\nQ 3647 1150 3233 529 \r\nQ 2819 -91 2034 -91 \r\nQ 1250 -91 836 529 \r\nQ 422 1150 422 2328 \r\nQ 422 3509 836 4129 \r\nQ 1250 4750 2034 4750 \r\nz\r\n\" id=\"DejaVuSans-30\" transform=\"scale(0.015625)\"/>\r\n       </defs>\r\n       <use xlink:href=\"#DejaVuSans-31\"/>\r\n       <use x=\"63.623047\" xlink:href=\"#DejaVuSans-30\"/>\r\n       <use x=\"127.246094\" xlink:href=\"#DejaVuSans-30\"/>\r\n       <use x=\"190.869141\" xlink:href=\"#DejaVuSans-30\"/>\r\n       <use x=\"254.492188\" xlink:href=\"#DejaVuSans-30\"/>\r\n       <use x=\"318.115234\" xlink:href=\"#DejaVuSans-30\"/>\r\n      </g>\r\n     </g>\r\n    </g>\r\n    <g id=\"xtick_2\">\r\n     <g id=\"line2d_2\">\r\n      <g>\r\n       <use style=\"stroke:#000000;stroke-width:0.8;\" x=\"131.089695\" xlink:href=\"#m0ea9104d12\" y=\"224.64\"/>\r\n      </g>\r\n     </g>\r\n     <g id=\"text_2\">\r\n      <!-- 200000 -->\r\n      <g transform=\"translate(112.002195 239.238437)scale(0.1 -0.1)\">\r\n       <defs>\r\n        <path d=\"M 1228 531 \r\nL 3431 531 \r\nL 3431 0 \r\nL 469 0 \r\nL 469 531 \r\nQ 828 903 1448 1529 \r\nQ 2069 2156 2228 2338 \r\nQ 2531 2678 2651 2914 \r\nQ 2772 3150 2772 3378 \r\nQ 2772 3750 2511 3984 \r\nQ 2250 4219 1831 4219 \r\nQ 1534 4219 1204 4116 \r\nQ 875 4013 500 3803 \r\nL 500 4441 \r\nQ 881 4594 1212 4672 \r\nQ 1544 4750 1819 4750 \r\nQ 2544 4750 2975 4387 \r\nQ 3406 4025 3406 3419 \r\nQ 3406 3131 3298 2873 \r\nQ 3191 2616 2906 2266 \r\nQ 2828 2175 2409 1742 \r\nQ 1991 1309 1228 531 \r\nz\r\n\" id=\"DejaVuSans-32\" transform=\"scale(0.015625)\"/>\r\n       </defs>\r\n       <use xlink:href=\"#DejaVuSans-32\"/>\r\n       <use x=\"63.623047\" xlink:href=\"#DejaVuSans-30\"/>\r\n       <use x=\"127.246094\" xlink:href=\"#DejaVuSans-30\"/>\r\n       <use x=\"190.869141\" xlink:href=\"#DejaVuSans-30\"/>\r\n       <use x=\"254.492188\" xlink:href=\"#DejaVuSans-30\"/>\r\n       <use x=\"318.115234\" xlink:href=\"#DejaVuSans-30\"/>\r\n      </g>\r\n     </g>\r\n    </g>\r\n    <g id=\"xtick_3\">\r\n     <g id=\"line2d_3\">\r\n      <g>\r\n       <use style=\"stroke:#000000;stroke-width:0.8;\" x=\"201.114689\" xlink:href=\"#m0ea9104d12\" y=\"224.64\"/>\r\n      </g>\r\n     </g>\r\n     <g id=\"text_3\">\r\n      <!-- 300000 -->\r\n      <g transform=\"translate(182.027189 239.238437)scale(0.1 -0.1)\">\r\n       <defs>\r\n        <path d=\"M 2597 2516 \r\nQ 3050 2419 3304 2112 \r\nQ 3559 1806 3559 1356 \r\nQ 3559 666 3084 287 \r\nQ 2609 -91 1734 -91 \r\nQ 1441 -91 1130 -33 \r\nQ 819 25 488 141 \r\nL 488 750 \r\nQ 750 597 1062 519 \r\nQ 1375 441 1716 441 \r\nQ 2309 441 2620 675 \r\nQ 2931 909 2931 1356 \r\nQ 2931 1769 2642 2001 \r\nQ 2353 2234 1838 2234 \r\nL 1294 2234 \r\nL 1294 2753 \r\nL 1863 2753 \r\nQ 2328 2753 2575 2939 \r\nQ 2822 3125 2822 3475 \r\nQ 2822 3834 2567 4026 \r\nQ 2313 4219 1838 4219 \r\nQ 1578 4219 1281 4162 \r\nQ 984 4106 628 3988 \r\nL 628 4550 \r\nQ 988 4650 1302 4700 \r\nQ 1616 4750 1894 4750 \r\nQ 2613 4750 3031 4423 \r\nQ 3450 4097 3450 3541 \r\nQ 3450 3153 3228 2886 \r\nQ 3006 2619 2597 2516 \r\nz\r\n\" id=\"DejaVuSans-33\" transform=\"scale(0.015625)\"/>\r\n       </defs>\r\n       <use xlink:href=\"#DejaVuSans-33\"/>\r\n       <use x=\"63.623047\" xlink:href=\"#DejaVuSans-30\"/>\r\n       <use x=\"127.246094\" xlink:href=\"#DejaVuSans-30\"/>\r\n       <use x=\"190.869141\" xlink:href=\"#DejaVuSans-30\"/>\r\n       <use x=\"254.492188\" xlink:href=\"#DejaVuSans-30\"/>\r\n       <use x=\"318.115234\" xlink:href=\"#DejaVuSans-30\"/>\r\n      </g>\r\n     </g>\r\n    </g>\r\n    <g id=\"xtick_4\">\r\n     <g id=\"line2d_4\">\r\n      <g>\r\n       <use style=\"stroke:#000000;stroke-width:0.8;\" x=\"271.139683\" xlink:href=\"#m0ea9104d12\" y=\"224.64\"/>\r\n      </g>\r\n     </g>\r\n     <g id=\"text_4\">\r\n      <!-- 400000 -->\r\n      <g transform=\"translate(252.052183 239.238437)scale(0.1 -0.1)\">\r\n       <defs>\r\n        <path d=\"M 2419 4116 \r\nL 825 1625 \r\nL 2419 1625 \r\nL 2419 4116 \r\nz\r\nM 2253 4666 \r\nL 3047 4666 \r\nL 3047 1625 \r\nL 3713 1625 \r\nL 3713 1100 \r\nL 3047 1100 \r\nL 3047 0 \r\nL 2419 0 \r\nL 2419 1100 \r\nL 313 1100 \r\nL 313 1709 \r\nL 2253 4666 \r\nz\r\n\" id=\"DejaVuSans-34\" transform=\"scale(0.015625)\"/>\r\n       </defs>\r\n       <use xlink:href=\"#DejaVuSans-34\"/>\r\n       <use x=\"63.623047\" xlink:href=\"#DejaVuSans-30\"/>\r\n       <use x=\"127.246094\" xlink:href=\"#DejaVuSans-30\"/>\r\n       <use x=\"190.869141\" xlink:href=\"#DejaVuSans-30\"/>\r\n       <use x=\"254.492188\" xlink:href=\"#DejaVuSans-30\"/>\r\n       <use x=\"318.115234\" xlink:href=\"#DejaVuSans-30\"/>\r\n      </g>\r\n     </g>\r\n    </g>\r\n    <g id=\"xtick_5\">\r\n     <g id=\"line2d_5\">\r\n      <g>\r\n       <use style=\"stroke:#000000;stroke-width:0.8;\" x=\"341.164677\" xlink:href=\"#m0ea9104d12\" y=\"224.64\"/>\r\n      </g>\r\n     </g>\r\n     <g id=\"text_5\">\r\n      <!-- 500000 -->\r\n      <g transform=\"translate(322.077177 239.238437)scale(0.1 -0.1)\">\r\n       <defs>\r\n        <path d=\"M 691 4666 \r\nL 3169 4666 \r\nL 3169 4134 \r\nL 1269 4134 \r\nL 1269 2991 \r\nQ 1406 3038 1543 3061 \r\nQ 1681 3084 1819 3084 \r\nQ 2600 3084 3056 2656 \r\nQ 3513 2228 3513 1497 \r\nQ 3513 744 3044 326 \r\nQ 2575 -91 1722 -91 \r\nQ 1428 -91 1123 -41 \r\nQ 819 9 494 109 \r\nL 494 744 \r\nQ 775 591 1075 516 \r\nQ 1375 441 1709 441 \r\nQ 2250 441 2565 725 \r\nQ 2881 1009 2881 1497 \r\nQ 2881 1984 2565 2268 \r\nQ 2250 2553 1709 2553 \r\nQ 1456 2553 1204 2497 \r\nQ 953 2441 691 2322 \r\nL 691 4666 \r\nz\r\n\" id=\"DejaVuSans-35\" transform=\"scale(0.015625)\"/>\r\n       </defs>\r\n       <use xlink:href=\"#DejaVuSans-35\"/>\r\n       <use x=\"63.623047\" xlink:href=\"#DejaVuSans-30\"/>\r\n       <use x=\"127.246094\" xlink:href=\"#DejaVuSans-30\"/>\r\n       <use x=\"190.869141\" xlink:href=\"#DejaVuSans-30\"/>\r\n       <use x=\"254.492188\" xlink:href=\"#DejaVuSans-30\"/>\r\n       <use x=\"318.115234\" xlink:href=\"#DejaVuSans-30\"/>\r\n      </g>\r\n     </g>\r\n    </g>\r\n    <g id=\"text_6\">\r\n     <!-- weekly tweets -->\r\n     <g transform=\"translate(180.81875 252.916562)scale(0.1 -0.1)\">\r\n      <defs>\r\n       <path d=\"M 269 3500 \r\nL 844 3500 \r\nL 1563 769 \r\nL 2278 3500 \r\nL 2956 3500 \r\nL 3675 769 \r\nL 4391 3500 \r\nL 4966 3500 \r\nL 4050 0 \r\nL 3372 0 \r\nL 2619 2869 \r\nL 1863 0 \r\nL 1184 0 \r\nL 269 3500 \r\nz\r\n\" id=\"DejaVuSans-77\" transform=\"scale(0.015625)\"/>\r\n       <path d=\"M 3597 1894 \r\nL 3597 1613 \r\nL 953 1613 \r\nQ 991 1019 1311 708 \r\nQ 1631 397 2203 397 \r\nQ 2534 397 2845 478 \r\nQ 3156 559 3463 722 \r\nL 3463 178 \r\nQ 3153 47 2828 -22 \r\nQ 2503 -91 2169 -91 \r\nQ 1331 -91 842 396 \r\nQ 353 884 353 1716 \r\nQ 353 2575 817 3079 \r\nQ 1281 3584 2069 3584 \r\nQ 2775 3584 3186 3129 \r\nQ 3597 2675 3597 1894 \r\nz\r\nM 3022 2063 \r\nQ 3016 2534 2758 2815 \r\nQ 2500 3097 2075 3097 \r\nQ 1594 3097 1305 2825 \r\nQ 1016 2553 972 2059 \r\nL 3022 2063 \r\nz\r\n\" id=\"DejaVuSans-65\" transform=\"scale(0.015625)\"/>\r\n       <path d=\"M 581 4863 \r\nL 1159 4863 \r\nL 1159 1991 \r\nL 2875 3500 \r\nL 3609 3500 \r\nL 1753 1863 \r\nL 3688 0 \r\nL 2938 0 \r\nL 1159 1709 \r\nL 1159 0 \r\nL 581 0 \r\nL 581 4863 \r\nz\r\n\" id=\"DejaVuSans-6b\" transform=\"scale(0.015625)\"/>\r\n       <path d=\"M 603 4863 \r\nL 1178 4863 \r\nL 1178 0 \r\nL 603 0 \r\nL 603 4863 \r\nz\r\n\" id=\"DejaVuSans-6c\" transform=\"scale(0.015625)\"/>\r\n       <path d=\"M 2059 -325 \r\nQ 1816 -950 1584 -1140 \r\nQ 1353 -1331 966 -1331 \r\nL 506 -1331 \r\nL 506 -850 \r\nL 844 -850 \r\nQ 1081 -850 1212 -737 \r\nQ 1344 -625 1503 -206 \r\nL 1606 56 \r\nL 191 3500 \r\nL 800 3500 \r\nL 1894 763 \r\nL 2988 3500 \r\nL 3597 3500 \r\nL 2059 -325 \r\nz\r\n\" id=\"DejaVuSans-79\" transform=\"scale(0.015625)\"/>\r\n       <path id=\"DejaVuSans-20\" transform=\"scale(0.015625)\"/>\r\n       <path d=\"M 1172 4494 \r\nL 1172 3500 \r\nL 2356 3500 \r\nL 2356 3053 \r\nL 1172 3053 \r\nL 1172 1153 \r\nQ 1172 725 1289 603 \r\nQ 1406 481 1766 481 \r\nL 2356 481 \r\nL 2356 0 \r\nL 1766 0 \r\nQ 1100 0 847 248 \r\nQ 594 497 594 1153 \r\nL 594 3053 \r\nL 172 3053 \r\nL 172 3500 \r\nL 594 3500 \r\nL 594 4494 \r\nL 1172 4494 \r\nz\r\n\" id=\"DejaVuSans-74\" transform=\"scale(0.015625)\"/>\r\n       <path d=\"M 2834 3397 \r\nL 2834 2853 \r\nQ 2591 2978 2328 3040 \r\nQ 2066 3103 1784 3103 \r\nQ 1356 3103 1142 2972 \r\nQ 928 2841 928 2578 \r\nQ 928 2378 1081 2264 \r\nQ 1234 2150 1697 2047 \r\nL 1894 2003 \r\nQ 2506 1872 2764 1633 \r\nQ 3022 1394 3022 966 \r\nQ 3022 478 2636 193 \r\nQ 2250 -91 1575 -91 \r\nQ 1294 -91 989 -36 \r\nQ 684 19 347 128 \r\nL 347 722 \r\nQ 666 556 975 473 \r\nQ 1284 391 1588 391 \r\nQ 1994 391 2212 530 \r\nQ 2431 669 2431 922 \r\nQ 2431 1156 2273 1281 \r\nQ 2116 1406 1581 1522 \r\nL 1381 1569 \r\nQ 847 1681 609 1914 \r\nQ 372 2147 372 2553 \r\nQ 372 3047 722 3315 \r\nQ 1072 3584 1716 3584 \r\nQ 2034 3584 2315 3537 \r\nQ 2597 3491 2834 3397 \r\nz\r\n\" id=\"DejaVuSans-73\" transform=\"scale(0.015625)\"/>\r\n      </defs>\r\n      <use xlink:href=\"#DejaVuSans-77\"/>\r\n      <use x=\"81.787109\" xlink:href=\"#DejaVuSans-65\"/>\r\n      <use x=\"143.310547\" xlink:href=\"#DejaVuSans-65\"/>\r\n      <use x=\"204.833984\" xlink:href=\"#DejaVuSans-6b\"/>\r\n      <use x=\"262.744141\" xlink:href=\"#DejaVuSans-6c\"/>\r\n      <use x=\"290.527344\" xlink:href=\"#DejaVuSans-79\"/>\r\n      <use x=\"349.707031\" xlink:href=\"#DejaVuSans-20\"/>\r\n      <use x=\"381.494141\" xlink:href=\"#DejaVuSans-74\"/>\r\n      <use x=\"420.703125\" xlink:href=\"#DejaVuSans-77\"/>\r\n      <use x=\"502.490234\" xlink:href=\"#DejaVuSans-65\"/>\r\n      <use x=\"564.013672\" xlink:href=\"#DejaVuSans-65\"/>\r\n      <use x=\"625.537109\" xlink:href=\"#DejaVuSans-74\"/>\r\n      <use x=\"664.746094\" xlink:href=\"#DejaVuSans-73\"/>\r\n     </g>\r\n    </g>\r\n   </g>\r\n   <g id=\"matplotlib.axis_2\">\r\n    <g id=\"ytick_1\">\r\n     <g id=\"line2d_6\">\r\n      <defs>\r\n       <path d=\"M 0 0 \r\nL -3.5 0 \r\n\" id=\"m1adebd22e4\" style=\"stroke:#000000;stroke-width:0.8;\"/>\r\n      </defs>\r\n      <g>\r\n       <use style=\"stroke:#000000;stroke-width:0.8;\" x=\"49.260938\" xlink:href=\"#m1adebd22e4\" y=\"221.283807\"/>\r\n      </g>\r\n     </g>\r\n     <g id=\"text_7\">\r\n      <!-- −40 -->\r\n      <g transform=\"translate(21.15625 225.083026)scale(0.1 -0.1)\">\r\n       <defs>\r\n        <path d=\"M 678 2272 \r\nL 4684 2272 \r\nL 4684 1741 \r\nL 678 1741 \r\nL 678 2272 \r\nz\r\n\" id=\"DejaVuSans-2212\" transform=\"scale(0.015625)\"/>\r\n       </defs>\r\n       <use xlink:href=\"#DejaVuSans-2212\"/>\r\n       <use x=\"83.789062\" xlink:href=\"#DejaVuSans-34\"/>\r\n       <use x=\"147.412109\" xlink:href=\"#DejaVuSans-30\"/>\r\n      </g>\r\n     </g>\r\n    </g>\r\n    <g id=\"ytick_2\">\r\n     <g id=\"line2d_7\">\r\n      <g>\r\n       <use style=\"stroke:#000000;stroke-width:0.8;\" x=\"49.260938\" xlink:href=\"#m1adebd22e4\" y=\"193.993539\"/>\r\n      </g>\r\n     </g>\r\n     <g id=\"text_8\">\r\n      <!-- −30 -->\r\n      <g transform=\"translate(21.15625 197.792758)scale(0.1 -0.1)\">\r\n       <use xlink:href=\"#DejaVuSans-2212\"/>\r\n       <use x=\"83.789062\" xlink:href=\"#DejaVuSans-33\"/>\r\n       <use x=\"147.412109\" xlink:href=\"#DejaVuSans-30\"/>\r\n      </g>\r\n     </g>\r\n    </g>\r\n    <g id=\"ytick_3\">\r\n     <g id=\"line2d_8\">\r\n      <g>\r\n       <use style=\"stroke:#000000;stroke-width:0.8;\" x=\"49.260938\" xlink:href=\"#m1adebd22e4\" y=\"166.703271\"/>\r\n      </g>\r\n     </g>\r\n     <g id=\"text_9\">\r\n      <!-- −20 -->\r\n      <g transform=\"translate(21.15625 170.50249)scale(0.1 -0.1)\">\r\n       <use xlink:href=\"#DejaVuSans-2212\"/>\r\n       <use x=\"83.789062\" xlink:href=\"#DejaVuSans-32\"/>\r\n       <use x=\"147.412109\" xlink:href=\"#DejaVuSans-30\"/>\r\n      </g>\r\n     </g>\r\n    </g>\r\n    <g id=\"ytick_4\">\r\n     <g id=\"line2d_9\">\r\n      <g>\r\n       <use style=\"stroke:#000000;stroke-width:0.8;\" x=\"49.260938\" xlink:href=\"#m1adebd22e4\" y=\"139.413003\"/>\r\n      </g>\r\n     </g>\r\n     <g id=\"text_10\">\r\n      <!-- −10 -->\r\n      <g transform=\"translate(21.15625 143.212222)scale(0.1 -0.1)\">\r\n       <use xlink:href=\"#DejaVuSans-2212\"/>\r\n       <use x=\"83.789062\" xlink:href=\"#DejaVuSans-31\"/>\r\n       <use x=\"147.412109\" xlink:href=\"#DejaVuSans-30\"/>\r\n      </g>\r\n     </g>\r\n    </g>\r\n    <g id=\"ytick_5\">\r\n     <g id=\"line2d_10\">\r\n      <g>\r\n       <use style=\"stroke:#000000;stroke-width:0.8;\" x=\"49.260938\" xlink:href=\"#m1adebd22e4\" y=\"112.122735\"/>\r\n      </g>\r\n     </g>\r\n     <g id=\"text_11\">\r\n      <!-- 0 -->\r\n      <g transform=\"translate(35.898438 115.921953)scale(0.1 -0.1)\">\r\n       <use xlink:href=\"#DejaVuSans-30\"/>\r\n      </g>\r\n     </g>\r\n    </g>\r\n    <g id=\"ytick_6\">\r\n     <g id=\"line2d_11\">\r\n      <g>\r\n       <use style=\"stroke:#000000;stroke-width:0.8;\" x=\"49.260938\" xlink:href=\"#m1adebd22e4\" y=\"84.832467\"/>\r\n      </g>\r\n     </g>\r\n     <g id=\"text_12\">\r\n      <!-- 10 -->\r\n      <g transform=\"translate(29.535938 88.631685)scale(0.1 -0.1)\">\r\n       <use xlink:href=\"#DejaVuSans-31\"/>\r\n       <use x=\"63.623047\" xlink:href=\"#DejaVuSans-30\"/>\r\n      </g>\r\n     </g>\r\n    </g>\r\n    <g id=\"ytick_7\">\r\n     <g id=\"line2d_12\">\r\n      <g>\r\n       <use style=\"stroke:#000000;stroke-width:0.8;\" x=\"49.260938\" xlink:href=\"#m1adebd22e4\" y=\"57.542199\"/>\r\n      </g>\r\n     </g>\r\n     <g id=\"text_13\">\r\n      <!-- 20 -->\r\n      <g transform=\"translate(29.535938 61.341417)scale(0.1 -0.1)\">\r\n       <use xlink:href=\"#DejaVuSans-32\"/>\r\n       <use x=\"63.623047\" xlink:href=\"#DejaVuSans-30\"/>\r\n      </g>\r\n     </g>\r\n    </g>\r\n    <g id=\"ytick_8\">\r\n     <g id=\"line2d_13\">\r\n      <g>\r\n       <use style=\"stroke:#000000;stroke-width:0.8;\" x=\"49.260938\" xlink:href=\"#m1adebd22e4\" y=\"30.251931\"/>\r\n      </g>\r\n     </g>\r\n     <g id=\"text_14\">\r\n      <!-- 30 -->\r\n      <g transform=\"translate(29.535938 34.051149)scale(0.1 -0.1)\">\r\n       <use xlink:href=\"#DejaVuSans-33\"/>\r\n       <use x=\"63.623047\" xlink:href=\"#DejaVuSans-30\"/>\r\n      </g>\r\n     </g>\r\n    </g>\r\n    <g id=\"text_15\">\r\n     <!-- weekly percent_change -->\r\n     <g transform=\"translate(14.798438 175.045)rotate(-90)scale(0.1 -0.1)\">\r\n      <defs>\r\n       <path d=\"M 1159 525 \r\nL 1159 -1331 \r\nL 581 -1331 \r\nL 581 3500 \r\nL 1159 3500 \r\nL 1159 2969 \r\nQ 1341 3281 1617 3432 \r\nQ 1894 3584 2278 3584 \r\nQ 2916 3584 3314 3078 \r\nQ 3713 2572 3713 1747 \r\nQ 3713 922 3314 415 \r\nQ 2916 -91 2278 -91 \r\nQ 1894 -91 1617 61 \r\nQ 1341 213 1159 525 \r\nz\r\nM 3116 1747 \r\nQ 3116 2381 2855 2742 \r\nQ 2594 3103 2138 3103 \r\nQ 1681 3103 1420 2742 \r\nQ 1159 2381 1159 1747 \r\nQ 1159 1113 1420 752 \r\nQ 1681 391 2138 391 \r\nQ 2594 391 2855 752 \r\nQ 3116 1113 3116 1747 \r\nz\r\n\" id=\"DejaVuSans-70\" transform=\"scale(0.015625)\"/>\r\n       <path d=\"M 2631 2963 \r\nQ 2534 3019 2420 3045 \r\nQ 2306 3072 2169 3072 \r\nQ 1681 3072 1420 2755 \r\nQ 1159 2438 1159 1844 \r\nL 1159 0 \r\nL 581 0 \r\nL 581 3500 \r\nL 1159 3500 \r\nL 1159 2956 \r\nQ 1341 3275 1631 3429 \r\nQ 1922 3584 2338 3584 \r\nQ 2397 3584 2469 3576 \r\nQ 2541 3569 2628 3553 \r\nL 2631 2963 \r\nz\r\n\" id=\"DejaVuSans-72\" transform=\"scale(0.015625)\"/>\r\n       <path d=\"M 3122 3366 \r\nL 3122 2828 \r\nQ 2878 2963 2633 3030 \r\nQ 2388 3097 2138 3097 \r\nQ 1578 3097 1268 2742 \r\nQ 959 2388 959 1747 \r\nQ 959 1106 1268 751 \r\nQ 1578 397 2138 397 \r\nQ 2388 397 2633 464 \r\nQ 2878 531 3122 666 \r\nL 3122 134 \r\nQ 2881 22 2623 -34 \r\nQ 2366 -91 2075 -91 \r\nQ 1284 -91 818 406 \r\nQ 353 903 353 1747 \r\nQ 353 2603 823 3093 \r\nQ 1294 3584 2113 3584 \r\nQ 2378 3584 2631 3529 \r\nQ 2884 3475 3122 3366 \r\nz\r\n\" id=\"DejaVuSans-63\" transform=\"scale(0.015625)\"/>\r\n       <path d=\"M 3513 2113 \r\nL 3513 0 \r\nL 2938 0 \r\nL 2938 2094 \r\nQ 2938 2591 2744 2837 \r\nQ 2550 3084 2163 3084 \r\nQ 1697 3084 1428 2787 \r\nQ 1159 2491 1159 1978 \r\nL 1159 0 \r\nL 581 0 \r\nL 581 3500 \r\nL 1159 3500 \r\nL 1159 2956 \r\nQ 1366 3272 1645 3428 \r\nQ 1925 3584 2291 3584 \r\nQ 2894 3584 3203 3211 \r\nQ 3513 2838 3513 2113 \r\nz\r\n\" id=\"DejaVuSans-6e\" transform=\"scale(0.015625)\"/>\r\n       <path d=\"M 3263 -1063 \r\nL 3263 -1509 \r\nL -63 -1509 \r\nL -63 -1063 \r\nL 3263 -1063 \r\nz\r\n\" id=\"DejaVuSans-5f\" transform=\"scale(0.015625)\"/>\r\n       <path d=\"M 3513 2113 \r\nL 3513 0 \r\nL 2938 0 \r\nL 2938 2094 \r\nQ 2938 2591 2744 2837 \r\nQ 2550 3084 2163 3084 \r\nQ 1697 3084 1428 2787 \r\nQ 1159 2491 1159 1978 \r\nL 1159 0 \r\nL 581 0 \r\nL 581 4863 \r\nL 1159 4863 \r\nL 1159 2956 \r\nQ 1366 3272 1645 3428 \r\nQ 1925 3584 2291 3584 \r\nQ 2894 3584 3203 3211 \r\nQ 3513 2838 3513 2113 \r\nz\r\n\" id=\"DejaVuSans-68\" transform=\"scale(0.015625)\"/>\r\n       <path d=\"M 2194 1759 \r\nQ 1497 1759 1228 1600 \r\nQ 959 1441 959 1056 \r\nQ 959 750 1161 570 \r\nQ 1363 391 1709 391 \r\nQ 2188 391 2477 730 \r\nQ 2766 1069 2766 1631 \r\nL 2766 1759 \r\nL 2194 1759 \r\nz\r\nM 3341 1997 \r\nL 3341 0 \r\nL 2766 0 \r\nL 2766 531 \r\nQ 2569 213 2275 61 \r\nQ 1981 -91 1556 -91 \r\nQ 1019 -91 701 211 \r\nQ 384 513 384 1019 \r\nQ 384 1609 779 1909 \r\nQ 1175 2209 1959 2209 \r\nL 2766 2209 \r\nL 2766 2266 \r\nQ 2766 2663 2505 2880 \r\nQ 2244 3097 1772 3097 \r\nQ 1472 3097 1187 3025 \r\nQ 903 2953 641 2809 \r\nL 641 3341 \r\nQ 956 3463 1253 3523 \r\nQ 1550 3584 1831 3584 \r\nQ 2591 3584 2966 3190 \r\nQ 3341 2797 3341 1997 \r\nz\r\n\" id=\"DejaVuSans-61\" transform=\"scale(0.015625)\"/>\r\n       <path d=\"M 2906 1791 \r\nQ 2906 2416 2648 2759 \r\nQ 2391 3103 1925 3103 \r\nQ 1463 3103 1205 2759 \r\nQ 947 2416 947 1791 \r\nQ 947 1169 1205 825 \r\nQ 1463 481 1925 481 \r\nQ 2391 481 2648 825 \r\nQ 2906 1169 2906 1791 \r\nz\r\nM 3481 434 \r\nQ 3481 -459 3084 -895 \r\nQ 2688 -1331 1869 -1331 \r\nQ 1566 -1331 1297 -1286 \r\nQ 1028 -1241 775 -1147 \r\nL 775 -588 \r\nQ 1028 -725 1275 -790 \r\nQ 1522 -856 1778 -856 \r\nQ 2344 -856 2625 -561 \r\nQ 2906 -266 2906 331 \r\nL 2906 616 \r\nQ 2728 306 2450 153 \r\nQ 2172 0 1784 0 \r\nQ 1141 0 747 490 \r\nQ 353 981 353 1791 \r\nQ 353 2603 747 3093 \r\nQ 1141 3584 1784 3584 \r\nQ 2172 3584 2450 3431 \r\nQ 2728 3278 2906 2969 \r\nL 2906 3500 \r\nL 3481 3500 \r\nL 3481 434 \r\nz\r\n\" id=\"DejaVuSans-67\" transform=\"scale(0.015625)\"/>\r\n      </defs>\r\n      <use xlink:href=\"#DejaVuSans-77\"/>\r\n      <use x=\"81.787109\" xlink:href=\"#DejaVuSans-65\"/>\r\n      <use x=\"143.310547\" xlink:href=\"#DejaVuSans-65\"/>\r\n      <use x=\"204.833984\" xlink:href=\"#DejaVuSans-6b\"/>\r\n      <use x=\"262.744141\" xlink:href=\"#DejaVuSans-6c\"/>\r\n      <use x=\"290.527344\" xlink:href=\"#DejaVuSans-79\"/>\r\n      <use x=\"349.707031\" xlink:href=\"#DejaVuSans-20\"/>\r\n      <use x=\"381.494141\" xlink:href=\"#DejaVuSans-70\"/>\r\n      <use x=\"444.970703\" xlink:href=\"#DejaVuSans-65\"/>\r\n      <use x=\"506.494141\" xlink:href=\"#DejaVuSans-72\"/>\r\n      <use x=\"545.357422\" xlink:href=\"#DejaVuSans-63\"/>\r\n      <use x=\"600.337891\" xlink:href=\"#DejaVuSans-65\"/>\r\n      <use x=\"661.861328\" xlink:href=\"#DejaVuSans-6e\"/>\r\n      <use x=\"725.240234\" xlink:href=\"#DejaVuSans-74\"/>\r\n      <use x=\"764.449219\" xlink:href=\"#DejaVuSans-5f\"/>\r\n      <use x=\"814.449219\" xlink:href=\"#DejaVuSans-63\"/>\r\n      <use x=\"869.429688\" xlink:href=\"#DejaVuSans-68\"/>\r\n      <use x=\"932.808594\" xlink:href=\"#DejaVuSans-61\"/>\r\n      <use x=\"994.087891\" xlink:href=\"#DejaVuSans-6e\"/>\r\n      <use x=\"1057.466797\" xlink:href=\"#DejaVuSans-67\"/>\r\n      <use x=\"1120.943359\" xlink:href=\"#DejaVuSans-65\"/>\r\n     </g>\r\n    </g>\r\n   </g>\r\n   <g id=\"line2d_14\">\r\n    <path clip-path=\"url(#p71cf439548)\" d=\"M 64.479119 112.364056 \r\nL 368.842055 75.272558 \r\nL 368.842055 75.272558 \r\n\" style=\"fill:none;stroke:#000000;stroke-dasharray:14.8,6.4;stroke-dashoffset:0;stroke-width:4;\"/>\r\n   </g>\r\n   <g id=\"patch_3\">\r\n    <path d=\"M 49.260938 224.64 \r\nL 49.260938 7.2 \r\n\" style=\"fill:none;stroke:#000000;stroke-linecap:square;stroke-linejoin:miter;stroke-width:0.8;\"/>\r\n   </g>\r\n   <g id=\"patch_4\">\r\n    <path d=\"M 384.060938 224.64 \r\nL 384.060938 7.2 \r\n\" style=\"fill:none;stroke:#000000;stroke-linecap:square;stroke-linejoin:miter;stroke-width:0.8;\"/>\r\n   </g>\r\n   <g id=\"patch_5\">\r\n    <path d=\"M 49.260938 224.64 \r\nL 384.060938 224.64 \r\n\" style=\"fill:none;stroke:#000000;stroke-linecap:square;stroke-linejoin:miter;stroke-width:0.8;\"/>\r\n   </g>\r\n   <g id=\"patch_6\">\r\n    <path d=\"M 49.260938 7.2 \r\nL 384.060938 7.2 \r\n\" style=\"fill:none;stroke:#000000;stroke-linecap:square;stroke-linejoin:miter;stroke-width:0.8;\"/>\r\n   </g>\r\n   <g id=\"legend_1\">\r\n    <g id=\"patch_7\">\r\n     <path d=\"M 315.034375 29.878125 \r\nL 377.060938 29.878125 \r\nQ 379.060938 29.878125 379.060938 27.878125 \r\nL 379.060938 14.2 \r\nQ 379.060938 12.2 377.060938 12.2 \r\nL 315.034375 12.2 \r\nQ 313.034375 12.2 313.034375 14.2 \r\nL 313.034375 27.878125 \r\nQ 313.034375 29.878125 315.034375 29.878125 \r\nz\r\n\" style=\"fill:#ffffff;opacity:0.8;stroke:#cccccc;stroke-linejoin:miter;\"/>\r\n    </g>\r\n    <g id=\"line2d_15\">\r\n     <path d=\"M 317.034375 20.298437 \r\nL 337.034375 20.298437 \r\n\" style=\"fill:none;stroke:#000000;stroke-dasharray:14.8,6.4;stroke-dashoffset:0;stroke-width:4;\"/>\r\n    </g>\r\n    <g id=\"line2d_16\"/>\r\n    <g id=\"text_16\">\r\n     <!-- Model -->\r\n     <g transform=\"translate(345.034375 23.798437)scale(0.1 -0.1)\">\r\n      <defs>\r\n       <path d=\"M 628 4666 \r\nL 1569 4666 \r\nL 2759 1491 \r\nL 3956 4666 \r\nL 4897 4666 \r\nL 4897 0 \r\nL 4281 0 \r\nL 4281 4097 \r\nL 3078 897 \r\nL 2444 897 \r\nL 1241 4097 \r\nL 1241 0 \r\nL 628 0 \r\nL 628 4666 \r\nz\r\n\" id=\"DejaVuSans-4d\" transform=\"scale(0.015625)\"/>\r\n       <path d=\"M 1959 3097 \r\nQ 1497 3097 1228 2736 \r\nQ 959 2375 959 1747 \r\nQ 959 1119 1226 758 \r\nQ 1494 397 1959 397 \r\nQ 2419 397 2687 759 \r\nQ 2956 1122 2956 1747 \r\nQ 2956 2369 2687 2733 \r\nQ 2419 3097 1959 3097 \r\nz\r\nM 1959 3584 \r\nQ 2709 3584 3137 3096 \r\nQ 3566 2609 3566 1747 \r\nQ 3566 888 3137 398 \r\nQ 2709 -91 1959 -91 \r\nQ 1206 -91 779 398 \r\nQ 353 888 353 1747 \r\nQ 353 2609 779 3096 \r\nQ 1206 3584 1959 3584 \r\nz\r\n\" id=\"DejaVuSans-6f\" transform=\"scale(0.015625)\"/>\r\n       <path d=\"M 2906 2969 \r\nL 2906 4863 \r\nL 3481 4863 \r\nL 3481 0 \r\nL 2906 0 \r\nL 2906 525 \r\nQ 2725 213 2448 61 \r\nQ 2172 -91 1784 -91 \r\nQ 1150 -91 751 415 \r\nQ 353 922 353 1747 \r\nQ 353 2572 751 3078 \r\nQ 1150 3584 1784 3584 \r\nQ 2172 3584 2448 3432 \r\nQ 2725 3281 2906 2969 \r\nz\r\nM 947 1747 \r\nQ 947 1113 1208 752 \r\nQ 1469 391 1925 391 \r\nQ 2381 391 2643 752 \r\nQ 2906 1113 2906 1747 \r\nQ 2906 2381 2643 2742 \r\nQ 2381 3103 1925 3103 \r\nQ 1469 3103 1208 2742 \r\nQ 947 2381 947 1747 \r\nz\r\n\" id=\"DejaVuSans-64\" transform=\"scale(0.015625)\"/>\r\n      </defs>\r\n      <use xlink:href=\"#DejaVuSans-4d\"/>\r\n      <use x=\"86.279297\" xlink:href=\"#DejaVuSans-6f\"/>\r\n      <use x=\"147.460938\" xlink:href=\"#DejaVuSans-64\"/>\r\n      <use x=\"210.9375\" xlink:href=\"#DejaVuSans-65\"/>\r\n      <use x=\"272.460938\" xlink:href=\"#DejaVuSans-6c\"/>\r\n     </g>\r\n    </g>\r\n   </g>\r\n  </g>\r\n </g>\r\n <defs>\r\n  <clipPath id=\"p71cf439548\">\r\n   <rect height=\"217.44\" width=\"334.8\" x=\"49.260938\" y=\"7.2\"/>\r\n  </clipPath>\r\n </defs>\r\n</svg>\r\n",
      "image/png": "[encoded data removed]"
     },
     "metadata": {
      "needs_background": "light"
     }
    }
   ],
   "source": [
    "sns.scatterplot(x='tweets', y='p_change', data=btc_2019_2020_weekly, alpha=0.3, s=100)\n",
    "\n",
    "# Generate and plot the model fit line\n",
    "xs = np.arange(btc_2019_2020_weekly['tweets'].min(), btc_2019_2020_weekly['tweets'].max())\n",
    "ys = 0.00003127* xs - 3.3679\n",
    "plt.plot(xs, ys, '--k', linewidth=4, label='Model')\n",
    "\n",
    "plt.xlabel('weekly tweets')\n",
    "plt.ylabel('weekly percent_change')\n",
    "plt.legend()\n"
   ]
  },
  {
   "cell_type": "code",
   "execution_count": null,
   "metadata": {},
   "outputs": [],
   "source": []
  }
 ],
 "metadata": {
  "kernelspec": {
   "name": "python375jvsc74a57bd08a672ad511f4b67790062db6bcfee36d399185a415256d068fdbf01b7666b118",
   "display_name": "Python 3.7.5 64-bit"
  },
  "language_info": {
   "codemirror_mode": {
    "name": "ipython",
    "version": 3
   },
   "file_extension": ".py",
   "mimetype": "text/x-python",
   "name": "python",
   "nbconvert_exporter": "python",
   "pygments_lexer": "ipython3",
   "version": "3.7.5"
  },
  "metadata": {
   "interpreter": {
    "hash": "8a672ad511f4b67790062db6bcfee36d399185a415256d068fdbf01b7666b118"
   }
  }
 },
 "nbformat": 4,
 "nbformat_minor": 2
}