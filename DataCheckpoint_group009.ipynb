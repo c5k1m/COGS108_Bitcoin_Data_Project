{
 "cells": [
  {
   "cell_type": "markdown",
   "metadata": {},
   "source": [
    "# COGS 108 - Data Checkpoint"
   ]
  },
  {
   "cell_type": "markdown",
   "metadata": {},
   "source": [
    "# Names\n",
    "\n",
    "- Andrew Hernandez\n",
    "- Austin Nguyen\n",
    "- Christian Kim\n",
    "- Kevin De Silva Jayasinghe"
   ]
  },
  {
   "cell_type": "markdown",
   "metadata": {},
   "source": [
    "<a id='research_question'></a>\n",
    "# Research Question"
   ]
  },
  {
   "cell_type": "markdown",
   "metadata": {},
   "source": [
    "*Does an increase in tweets with the hashtag description '#Bitcoin' correlate with an increase in Bitcoin’s price on a weekly basis?*"
   ]
  },
  {
   "cell_type": "markdown",
   "metadata": {},
   "source": [
    "# Dataset(s)"
   ]
  },
  {
   "cell_type": "markdown",
   "metadata": {},
   "source": [
    "*Fill in your dataset information here*\n",
    "\n",
    "(Copy this information for each dataset)\n",
    "- Dataset Name: Bitcoin USD Price Data\n",
    "- Link to the dataset: https://www.marketwatch.com/investing/cryptocurrency/btcusd/download-data\n",
    "- Number of observations: 106\n",
    "\n",
    "This data set contains price history between 2019-2020 for Bitcoin on a weekly basis showing open, high, low and close price. \n",
    "\n",
    "\n",
    "- Dataset Name: Bitcoin Tweets Historical chart\n",
    "- Link to the dataset: https://bitinfocharts.com/comparison/tweets-btc-ltc-eth.html#3y\n",
    "- Number of observations: 730\n",
    "\n",
    "This dataset is from a website that tracks the number of tweets with '#Bitcoin' per day from 4-09-2014 to present day, however we will only be using data from 01/01/2019 - 01/01/2021. By analyzing the bitcoin dataset we observed that this time frame was one of the most volatile periods for Bitcoin. We have narrowed it down to this time period in order to decrease our sample size.\n"
   ]
  },
  {
   "cell_type": "markdown",
   "metadata": {},
   "source": [
    "# Setup"
   ]
  },
  {
   "cell_type": "code",
   "execution_count": 17,
   "metadata": {},
   "outputs": [],
   "source": [
    "import pandas as pd\n",
    "import numpy as np\n",
    "import requests \n",
    "from bs4 import BeautifulSoup\n",
    "import re"
   ]
  },
  {
   "cell_type": "markdown",
   "metadata": {},
   "source": [
    "# Data Cleaning"
   ]
  },
  {
   "cell_type": "markdown",
   "metadata": {},
   "source": [
    "Describe your data cleaning steps here."
   ]
  },
  {
   "cell_type": "code",
   "execution_count": 27,
   "metadata": {},
   "outputs": [
    {
     "output_type": "execute_result",
     "data": {
      "text/plain": [
       "          Date   Open   High    Low  Close  percent_change\n",
       "0     1/1/2021  26666  29650  25824  29259        0.097240\n",
       "1   12/26/2020  23988  26753  22080  26648        0.110889\n",
       "2   12/19/2020  18800  24128  18734  24004        0.276809\n",
       "3   12/12/2020  19019  19429  17604  18794       -0.011830\n",
       "4    12/5/2020  17765  19928  17556  19019        0.070588\n",
       "..         ...    ...    ...    ...    ...             ...\n",
       "48    2/1/2020   8377   9559   8294   9371        0.118658\n",
       "49   1/25/2020   8910   9176   8230   8376       -0.059933\n",
       "50   1/18/2020   8102   8992   7964   8910        0.099728\n",
       "51   1/11/2020   7349   8454   7327   8106        0.103007\n",
       "52    1/4/2020   7171   7411   6880   7349        0.024822\n",
       "\n",
       "[106 rows x 6 columns]"
      ],
      "text/html": "<div>\n<style scoped>\n    .dataframe tbody tr th:only-of-type {\n        vertical-align: middle;\n    }\n\n    .dataframe tbody tr th {\n        vertical-align: top;\n    }\n\n    .dataframe thead th {\n        text-align: right;\n    }\n</style>\n<table border=\"1\" class=\"dataframe\">\n  <thead>\n    <tr style=\"text-align: right;\">\n      <th></th>\n      <th>Date</th>\n      <th>Open</th>\n      <th>High</th>\n      <th>Low</th>\n      <th>Close</th>\n      <th>percent_change</th>\n    </tr>\n  </thead>\n  <tbody>\n    <tr>\n      <th>0</th>\n      <td>1/1/2021</td>\n      <td>26666</td>\n      <td>29650</td>\n      <td>25824</td>\n      <td>29259</td>\n      <td>0.097240</td>\n    </tr>\n    <tr>\n      <th>1</th>\n      <td>12/26/2020</td>\n      <td>23988</td>\n      <td>26753</td>\n      <td>22080</td>\n      <td>26648</td>\n      <td>0.110889</td>\n    </tr>\n    <tr>\n      <th>2</th>\n      <td>12/19/2020</td>\n      <td>18800</td>\n      <td>24128</td>\n      <td>18734</td>\n      <td>24004</td>\n      <td>0.276809</td>\n    </tr>\n    <tr>\n      <th>3</th>\n      <td>12/12/2020</td>\n      <td>19019</td>\n      <td>19429</td>\n      <td>17604</td>\n      <td>18794</td>\n      <td>-0.011830</td>\n    </tr>\n    <tr>\n      <th>4</th>\n      <td>12/5/2020</td>\n      <td>17765</td>\n      <td>19928</td>\n      <td>17556</td>\n      <td>19019</td>\n      <td>0.070588</td>\n    </tr>\n    <tr>\n      <th>...</th>\n      <td>...</td>\n      <td>...</td>\n      <td>...</td>\n      <td>...</td>\n      <td>...</td>\n      <td>...</td>\n    </tr>\n    <tr>\n      <th>48</th>\n      <td>2/1/2020</td>\n      <td>8377</td>\n      <td>9559</td>\n      <td>8294</td>\n      <td>9371</td>\n      <td>0.118658</td>\n    </tr>\n    <tr>\n      <th>49</th>\n      <td>1/25/2020</td>\n      <td>8910</td>\n      <td>9176</td>\n      <td>8230</td>\n      <td>8376</td>\n      <td>-0.059933</td>\n    </tr>\n    <tr>\n      <th>50</th>\n      <td>1/18/2020</td>\n      <td>8102</td>\n      <td>8992</td>\n      <td>7964</td>\n      <td>8910</td>\n      <td>0.099728</td>\n    </tr>\n    <tr>\n      <th>51</th>\n      <td>1/11/2020</td>\n      <td>7349</td>\n      <td>8454</td>\n      <td>7327</td>\n      <td>8106</td>\n      <td>0.103007</td>\n    </tr>\n    <tr>\n      <th>52</th>\n      <td>1/4/2020</td>\n      <td>7171</td>\n      <td>7411</td>\n      <td>6880</td>\n      <td>7349</td>\n      <td>0.024822</td>\n    </tr>\n  </tbody>\n</table>\n<p>106 rows × 6 columns</p>\n</div>"
     },
     "metadata": {},
     "execution_count": 27
    }
   ],
   "source": [
    "\n",
    "# weekly price data from 01/01/2019 - 01/01/2021\n",
    "df = pd.read_csv('btc_2019.csv')\n",
    "\n",
    "#remove commas from values in order to typcast into int\n",
    "df = df.replace(',','', regex=True)\n",
    "df = df.astype({'Open': 'int32', 'High': 'int32', 'Low': 'int32', 'Close': 'int32'})\n",
    "\n",
    "# create a new column containg the percent change for the week\n",
    "df = df.assign(percent_change = (df['Close'] - df['Open']) / df['Open'])\n",
    "\n",
    "#weekly price data from 01/01/2020 - 01/01/2021\n",
    "df_2020 = pd.read_csv('btc_2020.csv')\n",
    "df_2020 = df.replace(',','', regex=True)\n",
    "df_2020 = df.astype({'Open': 'int32', 'High': 'int32', 'Low': 'int32', 'Close': 'int32'})\n",
    "df_2020 = df_2020.assign(percent_change = (df['Close'] - df['Open']) / df['Open'])\n",
    "\n",
    "# concatenate both years' data\n",
    "df.append(df_2020)\n",
    "\n",
    "# Our data was already mostly clean we only had to typecast the strings into integers and remove commas\n",
    "# We then added a column which contains percent change which is what we will use to determine\n",
    "# if bitcoins price correlates to the amount of tweets containing #Bitcoin\n",
    "# The data sets were split up by year so we had to concatenate them as well\n"
   ]
  },
  {
   "source": [],
   "cell_type": "markdown",
   "metadata": {}
  },
  {
   "cell_type": "code",
   "execution_count": 29,
   "metadata": {},
   "outputs": [
    {
     "output_type": "execute_result",
     "data": {
      "text/plain": [
       "            Date BTC- Tweets\n",
       "0     2014/04/09        8193\n",
       "1     2014/04/10       15039\n",
       "2     2014/04/11       14907\n",
       "3     2014/04/12        7582\n",
       "4     2014/04/13       10674\n",
       "...          ...         ...\n",
       "2580  2021/05/02       78756\n",
       "2581  2021/05/03       89710\n",
       "2582  2021/05/04       87287\n",
       "2583  2021/05/05       93866\n",
       "2584  2021/05/06       15125\n",
       "\n",
       "[2585 rows x 2 columns]"
      ],
      "text/html": "<div>\n<style scoped>\n    .dataframe tbody tr th:only-of-type {\n        vertical-align: middle;\n    }\n\n    .dataframe tbody tr th {\n        vertical-align: top;\n    }\n\n    .dataframe thead th {\n        text-align: right;\n    }\n</style>\n<table border=\"1\" class=\"dataframe\">\n  <thead>\n    <tr style=\"text-align: right;\">\n      <th></th>\n      <th>Date</th>\n      <th>BTC- Tweets</th>\n    </tr>\n  </thead>\n  <tbody>\n    <tr>\n      <th>0</th>\n      <td>2014/04/09</td>\n      <td>8193</td>\n    </tr>\n    <tr>\n      <th>1</th>\n      <td>2014/04/10</td>\n      <td>15039</td>\n    </tr>\n    <tr>\n      <th>2</th>\n      <td>2014/04/11</td>\n      <td>14907</td>\n    </tr>\n    <tr>\n      <th>3</th>\n      <td>2014/04/12</td>\n      <td>7582</td>\n    </tr>\n    <tr>\n      <th>4</th>\n      <td>2014/04/13</td>\n      <td>10674</td>\n    </tr>\n    <tr>\n      <th>...</th>\n      <td>...</td>\n      <td>...</td>\n    </tr>\n    <tr>\n      <th>2580</th>\n      <td>2021/05/02</td>\n      <td>78756</td>\n    </tr>\n    <tr>\n      <th>2581</th>\n      <td>2021/05/03</td>\n      <td>89710</td>\n    </tr>\n    <tr>\n      <th>2582</th>\n      <td>2021/05/04</td>\n      <td>87287</td>\n    </tr>\n    <tr>\n      <th>2583</th>\n      <td>2021/05/05</td>\n      <td>93866</td>\n    </tr>\n    <tr>\n      <th>2584</th>\n      <td>2021/05/06</td>\n      <td>15125</td>\n    </tr>\n  </tbody>\n</table>\n<p>2585 rows × 2 columns</p>\n</div>"
     },
     "metadata": {},
     "execution_count": 29
    }
   ],
   "source": [
    "# We found this web scraping script at https://stackoverflow.com/questions/47730259/installing-urllib-in-python3-6 \n",
    "# and made some minor modifications in order to fit to our needs in terms of retrieving the amount of tweets on a daily basis.\n",
    "# We will have to further clean the data by extracting all days between 01/01/2019 - 01/01/2021 and then \n",
    "# grouping the data into a weekly format (sum amount of tweets  for all days in a given week) \n",
    "# in order to match our Bitcoin price dataset\n",
    "\n",
    "def parse_strlist(sl):\n",
    "    clean = re.sub(\"[\\[\\],\\s]\",\"\",sl)\n",
    "    splitted = re.split(\"[\\'\\\"]\",clean)\n",
    "    values_only = [s for s in splitted if s != '']\n",
    "    return values_only\n",
    "\n",
    "\n",
    "url = 'https://bitinfocharts.com/comparison/tweets-btc.html#1y'\n",
    "response = requests.get(url)\n",
    "soup = BeautifulSoup(response.text, 'html.parser')\n",
    "\n",
    "scripts = soup.find_all('script', text=True)\n",
    "for script in scripts:\n",
    "    if 'd = new Dygraph(document.getElementById(\"container\")' in str(script):\n",
    "        StrList = str(script)\n",
    "        StrList = '[[' + StrList.split('[[')[-1]\n",
    "        StrList = StrList.split(']]')[0] +']]'\n",
    "        StrList = StrList.replace(\"new Date(\", '').replace(')','')\n",
    "        dataList = parse_strlist(StrList)\n",
    "\n",
    "        date = []\n",
    "        tweet = []\n",
    "        for each in dataList:\n",
    "            if (dataList.index(each) % 2) == 0:\n",
    "                date.append(each)\n",
    "            else:\n",
    "                tweet.append(each)\n",
    "        df = pd.DataFrame(list(zip(date, tweet)), columns=[\"Date\",\"BTC- Tweets\"])\n",
    "df"
   ]
  },
  {
   "cell_type": "code",
   "execution_count": null,
   "metadata": {},
   "outputs": [],
   "source": []
  }
 ],
 "metadata": {
  "kernelspec": {
   "name": "python390jvsc74a57bd063fd5069d213b44bf678585dea6b12cceca9941eaf7f819626cde1f2670de90d",
   "display_name": "Python 3.9.0 64-bit"
  },
  "language_info": {
   "codemirror_mode": {
    "name": "ipython",
    "version": 3
   },
   "file_extension": ".py",
   "mimetype": "text/x-python",
   "name": "python",
   "nbconvert_exporter": "python",
   "pygments_lexer": "ipython3",
   "version": "3.9.0"
  },
  "metadata": {
   "interpreter": {
    "hash": "63fd5069d213b44bf678585dea6b12cceca9941eaf7f819626cde1f2670de90d"
   }
  }
 },
 "nbformat": 4,
 "nbformat_minor": 2
}